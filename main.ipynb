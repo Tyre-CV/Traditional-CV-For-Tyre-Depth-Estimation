{
 "cells": [
  {
   "cell_type": "code",
   "execution_count": 1,
   "id": "5c2a7ed5",
   "metadata": {},
   "outputs": [],
   "source": [
    "import os\n",
    "import sys"
   ]
  },
  {
   "cell_type": "code",
   "execution_count": 2,
   "id": "b13577f3",
   "metadata": {},
   "outputs": [],
   "source": [
    "BASE_DIR = os.getcwd()\n",
    "\n",
    "RECTIFIED_IMAGES = os.path.join(BASE_DIR, \"images/augmented/\")\n",
    "DISPARITY_OUTPUT = os.path.join(BASE_DIR, \"images/disparity_maps/\")\n",
    "CALIBRATION_DATA = os.path.join(BASE_DIR, \"data/stereo_calibration_data.npz\")"
   ]
  },
  {
   "cell_type": "code",
   "execution_count": 3,
   "id": "fa24ebe8",
   "metadata": {},
   "outputs": [],
   "source": [
    "sys.path.append(BASE_DIR) \n",
    "from src.disparity import disparity"
   ]
  },
  {
   "cell_type": "code",
   "execution_count": 4,
   "id": "3712b771",
   "metadata": {},
   "outputs": [
    {
     "data": {
      "application/vnd.jupyter.widget-view+json": {
       "model_id": "9f371b93e76f4dbb98b4ebb3ba1722dd",
       "version_major": 2,
       "version_minor": 0
      },
      "text/plain": [
       "Scanning file (names):   0%|          | 0/5919 [00:00<?, ? file/s]"
      ]
     },
     "metadata": {},
     "output_type": "display_data"
    },
    {
     "data": {
      "application/vnd.jupyter.widget-view+json": {
       "model_id": "dd19579861014836a2595c0723e5bd89",
       "version_major": 2,
       "version_minor": 0
      },
      "text/plain": [
       "Creating File-Pairs:   0%|          | 0/5919 [00:00<?, ? pair/s]"
      ]
     },
     "metadata": {},
     "output_type": "display_data"
    },
    {
     "name": "stdout",
     "output_type": "stream",
     "text": [
      "Total combinations to try: 288\n"
     ]
    },
    {
     "data": {
      "application/vnd.jupyter.widget-view+json": {
       "model_id": "3a0b787a7c56491aa744b0ca665c8dd9",
       "version_major": 2,
       "version_minor": 0
      },
      "text/plain": [
       "Optimizing SGBM params:   0%|          | 0/288 [00:00<?, ?combo/s]"
      ]
     },
     "metadata": {},
     "output_type": "display_data"
    },
    {
     "name": "stdout",
     "output_type": "stream",
     "text": [
      "Best parameters found:\n",
      "{'nDispFactor': 4, 'window_size': 3, 'uniquenessRatio': 15, 'speckleWindowSize': 50, 'speckleRange': 1, 'preFilterCap': 63, 'minDisparity': 0, 'score': np.float32(15.46794)}\n"
     ]
    },
    {
     "data": {
      "text/plain": [
       "{'nDispFactor': 4,\n",
       " 'window_size': 3,\n",
       " 'uniquenessRatio': 15,\n",
       " 'speckleWindowSize': 50,\n",
       " 'speckleRange': 1,\n",
       " 'preFilterCap': 63,\n",
       " 'minDisparity': 0,\n",
       " 'score': np.float32(15.46794)}"
      ]
     },
     "execution_count": 4,
     "metadata": {},
     "output_type": "execute_result"
    }
   ],
   "source": [
    "disparity.optimize_sgbm_params_from_dir(RECTIFIED_IMAGES)"
   ]
  },
  {
   "cell_type": "code",
   "execution_count": null,
   "id": "63a11f05",
   "metadata": {},
   "outputs": [],
   "source": [
    "disparity.compute_disparity(RECTIFIED_IMAGES)"
   ]
  }
 ],
 "metadata": {
  "kernelspec": {
   "display_name": "aacv",
   "language": "python",
   "name": "python3"
  },
  "language_info": {
   "codemirror_mode": {
    "name": "ipython",
    "version": 3
   },
   "file_extension": ".py",
   "mimetype": "text/x-python",
   "name": "python",
   "nbconvert_exporter": "python",
   "pygments_lexer": "ipython3",
   "version": "3.12.3"
  }
 },
 "nbformat": 4,
 "nbformat_minor": 5
}
