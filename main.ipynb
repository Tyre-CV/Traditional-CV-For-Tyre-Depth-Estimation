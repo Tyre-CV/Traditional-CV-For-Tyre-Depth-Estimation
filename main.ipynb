{
 "cells": [
  {
   "cell_type": "code",
   "execution_count": 1,
   "id": "5c2a7ed5",
   "metadata": {},
   "outputs": [],
   "source": [
    "import os\n",
    "import sys\n",
    "import numpy as np\n",
    "from tqdm.notebook import tqdm\n",
    "import plotly.express as px"
   ]
  },
  {
   "cell_type": "code",
   "execution_count": 2,
   "id": "b13577f3",
   "metadata": {},
   "outputs": [],
   "source": [
    "BASE_DIR = os.getcwd()\n",
    "\n",
    "RECTIFIED_IMAGES = os.path.join(BASE_DIR, \"images/augmented/\")\n",
    "DISPARITY_OUTPUT = os.path.join(BASE_DIR, \"images/disparity_maps/\")\n",
    "CALIBRATION_DATA = os.path.join(BASE_DIR, \"data/stereo_calibration_data.npz\")"
   ]
  },
  {
   "cell_type": "code",
   "execution_count": 3,
   "id": "fa24ebe8",
   "metadata": {},
   "outputs": [],
   "source": [
    "sys.path.append(BASE_DIR) \n",
    "from src.disparity import disparity"
   ]
  },
  {
   "cell_type": "code",
   "execution_count": null,
   "id": "3712b771",
   "metadata": {},
   "outputs": [
    {
     "data": {
      "application/vnd.jupyter.widget-view+json": {
       "model_id": "2672e604ddb2437d9f1eda17b778f38b",
       "version_major": 2,
       "version_minor": 0
      },
      "text/plain": [
       "Scanning file (names):   0%|          | 0/5920 [00:00<?, ? file/s]"
      ]
     },
     "metadata": {},
     "output_type": "display_data"
    },
    {
     "data": {
      "application/vnd.jupyter.widget-view+json": {
       "model_id": "02d5e284debf4e1ea1787ca78038d964",
       "version_major": 2,
       "version_minor": 0
      },
      "text/plain": [
       "Creating File-Pairs:   0%|          | 0/5920 [00:00<?, ? pair/s]"
      ]
     },
     "metadata": {},
     "output_type": "display_data"
    },
    {
     "name": "stdout",
     "output_type": "stream",
     "text": [
      "Total combinations to try: 288\n"
     ]
    },
    {
     "data": {
      "application/vnd.jupyter.widget-view+json": {
       "model_id": "d4c90b0b1003418faf991b5881ee9df7",
       "version_major": 2,
       "version_minor": 0
      },
      "text/plain": [
       "Optimizing SGBM params:   0%|          | 0/288 [00:00<?, ?combo/s]"
      ]
     },
     "metadata": {},
     "output_type": "display_data"
    },
    {
     "ename": "KeyboardInterrupt",
     "evalue": "",
     "output_type": "error",
     "traceback": [
      "\u001b[31m---------------------------------------------------------------------------\u001b[39m",
      "\u001b[31mKeyboardInterrupt\u001b[39m                         Traceback (most recent call last)",
      "\u001b[36mCell\u001b[39m\u001b[36m \u001b[39m\u001b[32mIn[4]\u001b[39m\u001b[32m, line 1\u001b[39m\n\u001b[32m----> \u001b[39m\u001b[32m1\u001b[39m \u001b[43mdisparity\u001b[49m\u001b[43m.\u001b[49m\u001b[43moptimize_sgbm_params_from_dir\u001b[49m\u001b[43m(\u001b[49m\u001b[43mRECTIFIED_IMAGES\u001b[49m\u001b[43m)\u001b[49m\n",
      "\u001b[36mFile \u001b[39m\u001b[32m~/uni/aacv/Traditional-CV-For-Tyre-Depth-Estimation/src/disparity/disparity.py:205\u001b[39m, in \u001b[36moptimize_sgbm_params_from_dir\u001b[39m\u001b[34m(rectified_images_source)\u001b[39m\n\u001b[32m    202\u001b[39m imgR = cv2.imread(right_path, cv2.IMREAD_GRAYSCALE)\n\u001b[32m    204\u001b[39m \u001b[38;5;66;03m# Now run optimization on just this pair\u001b[39;00m\n\u001b[32m--> \u001b[39m\u001b[32m205\u001b[39m \u001b[38;5;28;01mreturn\u001b[39;00m \u001b[43moptimize_sgbm_params\u001b[49m\u001b[43m(\u001b[49m\u001b[43mimgL\u001b[49m\u001b[43m,\u001b[49m\u001b[43m \u001b[49m\u001b[43mimgR\u001b[49m\u001b[43m)\u001b[49m\n",
      "\u001b[36mFile \u001b[39m\u001b[32m~/uni/aacv/Traditional-CV-For-Tyre-Depth-Estimation/src/disparity/disparity.py:265\u001b[39m, in \u001b[36moptimize_sgbm_params\u001b[39m\u001b[34m(imgL, imgR)\u001b[39m\n\u001b[32m    237\u001b[39m stereoL = cv2.StereoSGBM_create(\n\u001b[32m    238\u001b[39m     minDisparity=minDisparity,\n\u001b[32m    239\u001b[39m     numDisparities=num_disp,\n\u001b[32m   (...)\u001b[39m\u001b[32m    248\u001b[39m     mode=cv2.STEREO_SGBM_MODE_HH\n\u001b[32m    249\u001b[39m )\n\u001b[32m    251\u001b[39m stereoR = cv2.StereoSGBM_create(\n\u001b[32m    252\u001b[39m     minDisparity=minDisparity,\n\u001b[32m    253\u001b[39m     numDisparities=num_disp,\n\u001b[32m   (...)\u001b[39m\u001b[32m    262\u001b[39m     mode=cv2.STEREO_SGBM_MODE_HH\n\u001b[32m    263\u001b[39m )\n\u001b[32m--> \u001b[39m\u001b[32m265\u001b[39m dispL = \u001b[43mstereoL\u001b[49m\u001b[43m.\u001b[49m\u001b[43mcompute\u001b[49m\u001b[43m(\u001b[49m\u001b[43mimgL\u001b[49m\u001b[43m,\u001b[49m\u001b[43m \u001b[49m\u001b[43mimgR\u001b[49m\u001b[43m)\u001b[49m.astype(np.float32) / \u001b[32m16.0\u001b[39m\n\u001b[32m    266\u001b[39m dispR = stereoR.compute(imgR, imgL).astype(np.float32) / \u001b[32m16.0\u001b[39m\n\u001b[32m    268\u001b[39m score = compute_left_right_consistency_error(dispL, dispR)\n",
      "\u001b[31mKeyboardInterrupt\u001b[39m: "
     ]
    }
   ],
   "source": [
    "# disparity.optimize_sgbm_params_from_dir(RECTIFIED_IMAGES)"
   ]
  },
  {
   "cell_type": "code",
   "execution_count": 9,
   "id": "63a11f05",
   "metadata": {},
   "outputs": [
    {
     "data": {
      "application/vnd.jupyter.widget-view+json": {
       "model_id": "18584f5f84694aee9b7c19c2dbcc2d09",
       "version_major": 2,
       "version_minor": 0
      },
      "text/plain": [
       "Scanning file (names):   0%|          | 0/5919 [00:00<?, ? file/s]"
      ]
     },
     "metadata": {},
     "output_type": "display_data"
    },
    {
     "data": {
      "application/vnd.jupyter.widget-view+json": {
       "model_id": "fd0b13d9bcdd493b8bc0c085730b1e80",
       "version_major": 2,
       "version_minor": 0
      },
      "text/plain": [
       "Creating File-Pairs:   0%|          | 0/5919 [00:00<?, ? pair/s]"
      ]
     },
     "metadata": {},
     "output_type": "display_data"
    },
    {
     "data": {
      "application/vnd.jupyter.widget-view+json": {
       "model_id": "9697843f4f144b9e9a8f12046559e71d",
       "version_major": 2,
       "version_minor": 0
      },
      "text/plain": [
       "Computing disparity maps:   0%|          | 0/1 [00:00<?, ?pair/s]"
      ]
     },
     "metadata": {},
     "output_type": "display_data"
    },
    {
     "name": "stdout",
     "output_type": "stream",
     "text": [
      "Disparity stats:\n",
      "\tmin: -1.0\n",
      "\tmax: 127.0\n",
      "\tmean: 24.017675\n"
     ]
    }
   ],
   "source": [
    "dis = disparity.disparity_depth_estimation(RECTIFIED_IMAGES, DISPARITY_OUTPUT, CALIBRATION_DATA)"
   ]
  },
  {
   "cell_type": "code",
   "execution_count": null,
   "id": "05363d07",
   "metadata": {},
   "outputs": [
    {
     "ename": "AttributeError",
     "evalue": "'numpy.ndarray' object has no attribute 'type'",
     "output_type": "error",
     "traceback": [
      "\u001b[31m---------------------------------------------------------------------------\u001b[39m",
      "\u001b[31mAttributeError\u001b[39m                            Traceback (most recent call last)",
      "\u001b[36mCell\u001b[39m\u001b[36m \u001b[39m\u001b[32mIn[10]\u001b[39m\u001b[32m, line 1\u001b[39m\n\u001b[32m----> \u001b[39m\u001b[32m1\u001b[39m \u001b[43mdis\u001b[49m\u001b[43m.\u001b[49m\u001b[43mtype\u001b[49m\n\u001b[32m      2\u001b[39m dis[\u001b[32m500\u001b[39m][\u001b[32m500\u001b[39m:\u001b[32m504\u001b[39m]\n",
      "\u001b[31mAttributeError\u001b[39m: 'numpy.ndarray' object has no attribute 'type'"
     ]
    }
   ],
   "source": [
    "dis[500][500:504]"
   ]
  },
  {
   "cell_type": "code",
   "execution_count": 6,
   "id": "9fe647e8",
   "metadata": {},
   "outputs": [
    {
     "data": {
      "text/plain": [
       "(np.float32(127.0),\n",
       " np.float32(-1.0),\n",
       " np.float32(24.017675),\n",
       " np.float32(41.485844))"
      ]
     },
     "execution_count": 6,
     "metadata": {},
     "output_type": "execute_result"
    }
   ],
   "source": [
    "np.max(dis), np.min(dis), np.mean(dis), np.std(dis)"
   ]
  },
  {
   "cell_type": "code",
   "execution_count": 17,
   "id": "e41941e0",
   "metadata": {},
   "outputs": [
    {
     "data": {
      "application/vnd.jupyter.widget-view+json": {
       "model_id": "f4b72c83421a464e846f982319a65a1a",
       "version_major": 2,
       "version_minor": 0
      },
      "text/plain": [
       "Scanning file (names):   0%|          | 0/5919 [00:00<?, ? file/s]"
      ]
     },
     "metadata": {},
     "output_type": "display_data"
    },
    {
     "data": {
      "application/vnd.jupyter.widget-view+json": {
       "model_id": "01c6c44d96154378bdbf58784635ff70",
       "version_major": 2,
       "version_minor": 0
      },
      "text/plain": [
       "Creating File-Pairs:   0%|          | 0/5919 [00:00<?, ? pair/s]"
      ]
     },
     "metadata": {},
     "output_type": "display_data"
    },
    {
     "data": {
      "application/vnd.jupyter.widget-view+json": {
       "model_id": "ffb86430d43041888305acbc0cd90f56",
       "version_major": 2,
       "version_minor": 0
      },
      "text/plain": [
       "Computing disparity maps:   0%|          | 0/600 [00:00<?, ?pair/s]"
      ]
     },
     "metadata": {},
     "output_type": "display_data"
    },
    {
     "ename": "KeyboardInterrupt",
     "evalue": "",
     "output_type": "error",
     "traceback": [
      "\u001b[31m---------------------------------------------------------------------------\u001b[39m",
      "\u001b[31mKeyboardInterrupt\u001b[39m                         Traceback (most recent call last)",
      "\u001b[36mCell\u001b[39m\u001b[36m \u001b[39m\u001b[32mIn[17]\u001b[39m\u001b[32m, line 1\u001b[39m\n\u001b[32m----> \u001b[39m\u001b[32m1\u001b[39m disparities_per_label = \u001b[43mdisparity\u001b[49m\u001b[43m.\u001b[49m\u001b[43mcompute_disparities_per_label\u001b[49m\u001b[43m(\u001b[49m\u001b[43mRECTIFIED_IMAGES\u001b[49m\u001b[43m,\u001b[49m\u001b[43m \u001b[49m\u001b[43mstop\u001b[49m\u001b[43m=\u001b[49m\u001b[32;43m600\u001b[39;49m\u001b[43m)\u001b[49m\n",
      "\u001b[36mFile \u001b[39m\u001b[32m~/uni/aacv/Traditional-CV-For-Tyre-Depth-Estimation/src/disparity/disparity.py:50\u001b[39m, in \u001b[36mcompute_disparities_per_label\u001b[39m\u001b[34m(rectified_images_source, stop)\u001b[39m\n\u001b[32m     47\u001b[39m imgR = cv2.imread(right_path, cv2.IMREAD_GRAYSCALE)\n\u001b[32m     49\u001b[39m \u001b[38;5;66;03m# Compute disparity\u001b[39;00m\n\u001b[32m---> \u001b[39m\u001b[32m50\u001b[39m disparity = \u001b[43mcompute_disparity\u001b[49m\u001b[43m(\u001b[49m\u001b[43mimgL\u001b[49m\u001b[43m,\u001b[49m\u001b[43m \u001b[49m\u001b[43mimgR\u001b[49m\u001b[43m)\u001b[49m \u001b[38;5;66;03m# H x W // 1000 x 1000\u001b[39;00m\n\u001b[32m     52\u001b[39m disparities_per_label[label].append(disparity)\n",
      "\u001b[36mFile \u001b[39m\u001b[32m~/uni/aacv/Traditional-CV-For-Tyre-Depth-Estimation/src/disparity/disparity.py:32\u001b[39m, in \u001b[36mcompute_disparity\u001b[39m\u001b[34m(left_gray, right_gray)\u001b[39m\n\u001b[32m     16\u001b[39m num_disp = \u001b[32m16\u001b[39m*(nDispFactor - min_disp)\n\u001b[32m     18\u001b[39m stereo = cv2.StereoSGBM_create(\n\u001b[32m     19\u001b[39m     minDisparity=min_disp,\n\u001b[32m     20\u001b[39m     numDisparities=num_disp,  \u001b[38;5;66;03m# must be divisible by 16\u001b[39;00m\n\u001b[32m   (...)\u001b[39m\u001b[32m     29\u001b[39m     mode=cv2.STEREO_SGBM_MODE_HH\n\u001b[32m     30\u001b[39m )\n\u001b[32m---> \u001b[39m\u001b[32m32\u001b[39m disparity = \u001b[43mstereo\u001b[49m\u001b[43m.\u001b[49m\u001b[43mcompute\u001b[49m\u001b[43m(\u001b[49m\u001b[43mleft_gray\u001b[49m\u001b[43m,\u001b[49m\u001b[43m \u001b[49m\u001b[43mright_gray\u001b[49m\u001b[43m)\u001b[49m.astype(np.float32) / \u001b[32m16.0\u001b[39m\n\u001b[32m     33\u001b[39m \u001b[38;5;28;01mreturn\u001b[39;00m disparity\n",
      "\u001b[31mKeyboardInterrupt\u001b[39m: "
     ]
    }
   ],
   "source": [
    "disparities_per_label = disparity.compute_disparities_per_label(RECTIFIED_IMAGES, stop=600)"
   ]
  },
  {
   "cell_type": "code",
   "execution_count": null,
   "id": "dfafc511",
   "metadata": {},
   "outputs": [],
   "source": [
    "histogram_data = {}\n",
    "for label, disparity_matrix in tqdm(disparities_per_label,\n",
    "                                  desc=\"\",\n",
    "                                  unit=\"\"):\n",
    "    # Filter out all -1\n",
    "    np_disparity_matrix = np.array(disparity_matrix)\n",
    "    filtered_disparity_matrix = np_disparity_matrix[np_disparity_matrix != -1]\n",
    "    # Cast to integer\n",
    "    filtered_disparity_matrix = filtered_disparity_matrix.astype(int)\n",
    "    histogram_data[label] = {\n",
    "        \"min\": np.min(filtered_disparity_matrix),\n",
    "        \"max\": np.max(filtered_disparity_matrix),\n",
    "        \"mean\": np.mean(filtered_disparity_matrix),\n",
    "        \"std\": np.std(filtered_disparity_matrix),\n",
    "        \"values\": filtered_disparity_matrix\n",
    "    }"
   ]
  },
  {
   "cell_type": "code",
   "execution_count": null,
   "id": "5d05d8a1",
   "metadata": {},
   "outputs": [],
   "source": [
    "for label, data in histogram_data.items():\n",
    "    fig = px.histogram(\n",
    "        x=data[\"values\"],\n",
    "        title=f\"Disparity Histogram for {label}\",\n",
    "        labels={\"x\": \"Disparity Value\", \"y\": \"Count\"},\n",
    "        # nbins=50\n",
    "    )\n",
    "    fig.add_annotation(\n",
    "        text=f\"Min: {data['min']:.2f}, Max: {data['max']:.2f}, Mean: {data['mean']:.2f}, Std: {data['std']:.2f}\",\n",
    "        showarrow=False,\n",
    "        x=0.5,\n",
    "        y=-0.15,\n",
    "        font=dict(size=12)\n",
    "    )\n",
    "    fig.show()  "
   ]
  }
 ],
 "metadata": {
  "kernelspec": {
   "display_name": ".venv",
   "language": "python",
   "name": "python3"
  },
  "language_info": {
   "codemirror_mode": {
    "name": "ipython",
    "version": 3
   },
   "file_extension": ".py",
   "mimetype": "text/x-python",
   "name": "python",
   "nbconvert_exporter": "python",
   "pygments_lexer": "ipython3",
   "version": "3.12.2"
  }
 },
 "nbformat": 4,
 "nbformat_minor": 5
}
