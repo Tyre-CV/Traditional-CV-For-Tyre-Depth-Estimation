{
 "cells": [
  {
   "cell_type": "code",
   "execution_count": 11,
   "id": "5c2a7ed5",
   "metadata": {},
   "outputs": [],
   "source": [
    "import os\n",
    "import sys\n",
    "import numpy as np\n",
    "from tqdm.notebook import tqdm\n",
    "import plotly.express as px\n",
    "import plotly.graph_objects as go"
   ]
  },
  {
   "cell_type": "code",
   "execution_count": 2,
   "id": "b13577f3",
   "metadata": {},
   "outputs": [],
   "source": [
    "BASE_DIR = os.getcwd()\n",
    "\n",
    "RECTIFIED_IMAGES = os.path.join(BASE_DIR, \"images/augmented/\")\n",
    "DISPARITY_IMG_OUTPUT = os.path.join(BASE_DIR, \"images/disparity_maps/\")\n",
    "CALIBRATION_DATA = os.path.join(BASE_DIR, \"data/stereo_calibration_data.npz\")\n",
    "DISPARITY_OUTPUT = os.path.join(BASE_DIR, \"data/\")\n",
    "TEST_IMAGES = os.path.join(BASE_DIR, \"images/test/\")"
   ]
  },
  {
   "cell_type": "code",
   "execution_count": 3,
   "id": "fa24ebe8",
   "metadata": {},
   "outputs": [],
   "source": [
    "sys.path.append(BASE_DIR) \n",
    "from src.disparity import disparity"
   ]
  },
  {
   "cell_type": "code",
   "execution_count": null,
   "id": "e41941e0",
   "metadata": {},
   "outputs": [],
   "source": [
    "# disparities_per_label, normalised_disparities_per_label = disparity.compute_disparities_per_label(RECTIFIED_IMAGES, DISPARITY_OUTPUT, stop=None)"
   ]
  },
  {
   "cell_type": "code",
   "execution_count": 4,
   "id": "1bc374e8",
   "metadata": {},
   "outputs": [],
   "source": [
    "# Load the disparities from the file\n",
    "disparities_per_label_file = np.load(os.path.join(DISPARITY_OUTPUT, \"disparities_per_label.npz\"))\n",
    "disparities_per_label_file = {k: v for k, v in disparities_per_label_file.items()}\n",
    "normalised_disparities_per_label_file = np.load(os.path.join(DISPARITY_OUTPUT, \"normalised_disparities_per_label.npz\"))\n",
    "normalised_disparities_per_label_file = {k: v for k, v in normalised_disparities_per_label_file.items()}"
   ]
  },
  {
   "cell_type": "code",
   "execution_count": 5,
   "id": "23fbd325",
   "metadata": {},
   "outputs": [],
   "source": [
    "colour = \"#cac8c8\"  # light grey\n",
    "theme_dict = {\n",
    "    \"template\": {\n",
    "        \"layout\": {\n",
    "            \"font\": {\"family\": \"Arial, sans-serif\", \"size\": 32, \"color\": \"black\"},\n",
    "            \"title\": {\"font\": {\"size\": 32, \"color\": \"black\"}, \"x\": 0.0},\n",
    "            \"paper_bgcolor\": \"white\",\n",
    "            \"plot_bgcolor\": \"white\",\n",
    "            # Make default discrete colors the same subtle grey so PX won't assign\n",
    "            # a contrasting fill color. Repeat entries for multiple categories if needed.\n",
    "            \"colorway\": [colour] * 8,\n",
    "            \"margin\": {\"l\": 60, \"r\": 20, \"t\": 42, \"b\": 36},\n",
    "            \"legend\": {\"bgcolor\": \"rgba(0,0,0,0)\", \"bordercolor\": \"rgba(0,0,0,0)\", \"borderwidth\": 0, \"font\": {\"size\": 32}},\n",
    "            \"xaxis\": {\n",
    "                \"title\": {\"standoff\": 6, \"font\": {\"size\": 32}},\n",
    "                \"tickfont\": {\"size\": 32},\n",
    "                \"showgrid\": False,\n",
    "                \"zeroline\": False,\n",
    "                \"linecolor\": \"black\",\n",
    "                \"linewidth\": 0.6,\n",
    "                \"mirror\": True,\n",
    "                \"ticks\": \"outside\",\n",
    "            },\n",
    "            \"yaxis\": {\n",
    "                \"title\": {\"standoff\": 6, \"font\": {\"size\": 32}},\n",
    "                \"tickfont\": {\"size\": 32},\n",
    "                \"showgrid\": False,\n",
    "                \"gridcolor\": \"#e9e9e9\",\n",
    "                \"gridwidth\": 0.5,\n",
    "                \"zeroline\": False,\n",
    "                \"linecolor\": \"black\",\n",
    "                \"linewidth\": 0.6,\n",
    "                \"mirror\": True,\n",
    "                \"ticks\": \"outside\",\n",
    "            },\n",
    "            \"uniformtext\": {\"mode\": \"hide\", \"minsize\": 32},\n",
    "            \"annotationdefaults\": {\"font\": {\"size\": 32, \"color\": \"black\"}},\n",
    "            \"hovermode\": \"closest\",\n",
    "            \"barmode\": \"group\",\n",
    "        },\n",
    "        \"data\": {\n",
    "            \"bar\": [\n",
    "                {\n",
    "                    # explicit fill color (light grey) + thin black outline\n",
    "                    \"marker\": {\"color\": colour, \"line\": {\"color\": \"black\", \"width\": 0.8}},\n",
    "                    # text settings:\n",
    "                    \"textfont\": {\"size\": 32, \"color\": \"black\"},        # outside text\n",
    "                    \"insidetextfont\": {\"size\": 32, \"color\": \"black\"},  # inside text\n",
    "                    # Ensure automatic placement still uses 'auto' but color is forced black\n",
    "                    \"textposition\": \"auto\",\n",
    "                    # optional default numeric format:\n",
    "                    \"texttemplate\": \"%{y:.0f}\",\n",
    "                    \"opacity\": 1.0,\n",
    "                }\n",
    "            ]\n",
    "        },\n",
    "    }\n",
    "}\n"
   ]
  },
  {
   "cell_type": "code",
   "execution_count": 9,
   "id": "833c4f95",
   "metadata": {},
   "outputs": [
    {
     "data": {
      "application/vnd.jupyter.widget-view+json": {
       "model_id": "631d06c2d75c47ebaa554474688c4bac",
       "version_major": 2,
       "version_minor": 0
      },
      "text/plain": [
       "Plotting:   0%|          | 0/6 [00:00<?, ? label/s]"
      ]
     },
     "metadata": {},
     "output_type": "display_data"
    },
    {
     "data": {
      "application/vnd.plotly.v1+json": {
       "config": {
        "plotlyServerURL": "https://plot.ly"
       },
       "data": [
        {
         "hovertemplate": "Disparity Value=%{x}<br>#Pixel with Disparity Value=%{y}<extra></extra>",
         "insidetextfont": {
          "color": "black"
         },
         "legendgroup": "",
         "marker": {
          "color": "#cac8c8",
          "line": {
           "color": "black",
           "width": 0.8
          },
          "pattern": {
           "shape": ""
          }
         },
         "name": "",
         "orientation": "v",
         "showlegend": false,
         "textfont": {
          "color": "black"
         },
         "textposition": "auto",
         "type": "bar",
         "x": {
          "bdata": "AAECAwQFBgcICQoLDA0ODxAREhMUFRYXGBkaGxwdHh8gISIjJCUmJygpKissLS4vMDEyMzQ1Njc4OTo7PD0+P0BBQkNERUZHSElKS0xNTk9QUVJTVFVWV1hZWltcXV5fYGFiY2RlZmdoaWprbG1ub3BxcnN0dXZ3eHl6e3x9fn8=",
          "dtype": "i1"
         },
         "xaxis": "x",
         "y": {
          "bdata": "L6G9hIYVw0C0l9Be4g+5QF9CewmtO7xAchzHcSwbvECF9hLaS0q4QC+hvYTW4rlAQnsJ7eURuECO4ziOA0u0QEJ7Ce0FrrRAVVVVVWVrskCY0F5Ci6awQIX2Etr7fLFAq6qqqnoWsEAmtJfQPreuQBPaS2hPe7BAmNBeQhuFrUDtJbSXMGqsQEJ7Ce1FYK5AQnsJ7aUoq0CY0F5CO2SqQPcS2ktoUKtAchzHcdyfqEDRXkJ7yTypQExoL6G9walAx3Ecx1GrpkCO4ziOIyOnQHIcx3G8F6dAewntJfRzpUCO4ziOY0mnQExoL6H9cKdAHMdxHMfHpUChvYT2MrOmQI7jOI4jMKZAE9pLaI/wpEC0l9BewtmlQCa0l9D+vKRAewntJVSyo0C0l9BeIjilQGgvob2EsqNA5DiO4zgto0A5juM4DkGlQO0ltJdwLKRAVVVVVXWbo0AmtJfQfuajQCa0l9B+QKJAq6qqqqoWo0D3EtpLyFKkQExoL6EdN6NAvoT2EvompEBCewntJcSjQF9CewnNZaNAewntJVROpUCF9hLaKy6kQJjQXkKbH6NAL6G9hLYhpEB7Ce0ltE6jQHsJ7SU07aNAaC+hveRMpECY0F5Cm/KiQO0ltJdwu6JACe0ltFcbo0Acx3EcZz6iQOQ4juPYcKJAaC+hvYSiokDaS2gvofahQFVVVVU1OKJAtJfQXmK2okB7Ce0ltCCiQF9CewltBqNAx3EcxxE9okAmtJfQvv+hQKG9hPayHKNA2ktoL6EQokDRXkJ7af2hQLSX0F7iyqJA2ktoL8E1okBfQnsJrQWiQMdxHMdR4qJAvoT2EhoUokC0l9BewpWiQIX2EtpLjaJAX0J7CY2joUBCewnthWGiQHsJ7SX0FqNAQnsJ7YX9oUAT2ktoz92hQExoL6EdRaJA0V5Ce6lTokDaS2gv4ZmjQI7jOI5jxKNAQnsJ7WUco0BMaC+hnfejQKG9hPYy56JA7SW0l7DrokCrqqqqajSkQIX2Etprc6NAHMdxHEe8o0BMaC+hvaekQLSX0F7iXKNAVVVVVdXio0C0l9BegsqkQIX2EtrrraNAVVVVVXWIpEAcx3EcJ6ylQHsJ7SX0PqVACe0ltDdJpkA5juM4zvCmQBzHcRxH+6ZAOY7jOG5qp0B7Ce0lNBKnQF9CewkNeqdAhfYS2kvlqEBCewntxSSpQOQ4juMYgKlAhfYS2iuUq0D3EtpLyOmrQGgvob0EFa5AewntJVTmr0ByHMdxDI2wQL6E9hK6h7FAx3Ecx/F5skCY0F5C60GzQDmO4zhuurVAL6G9hJYAuEC0l9BeggK5QI7jOI5jB7hAtJfQXkJnqUAvob2Elg2xQA==",
          "dtype": "f8"
         },
         "yaxis": "y"
        }
       ],
       "layout": {
        "annotations": [
         {
          "font": {
           "size": 28
          },
          "showarrow": false,
          "text": "Min: 0.00,  Max: 127.00,\n &mu;=60.10, σ=42.10",
          "x": 0.5,
          "xref": "paper",
          "y": -0.11,
          "yref": "paper",
          "yshift": 350
         }
        ],
        "barmode": "relative",
        "legend": {
         "tracegroupgap": 0
        },
        "margin": {
         "t": 60
        },
        "template": {
         "data": {
          "bar": [
           {
            "error_x": {
             "color": "#2a3f5f"
            },
            "error_y": {
             "color": "#2a3f5f"
            },
            "insidetextfont": {
             "color": "black",
             "size": 32
            },
            "marker": {
             "color": "#cac8c8",
             "line": {
              "color": "black",
              "width": 0.8
             },
             "pattern": {
              "fillmode": "overlay",
              "size": 10,
              "solidity": 0.2
             }
            },
            "opacity": 1,
            "textfont": {
             "color": "black",
             "size": 32
            },
            "textposition": "auto",
            "texttemplate": "%{y:.0f}",
            "type": "bar"
           }
          ],
          "barpolar": [
           {
            "marker": {
             "line": {
              "color": "#E5ECF6",
              "width": 0.5
             },
             "pattern": {
              "fillmode": "overlay",
              "size": 10,
              "solidity": 0.2
             }
            },
            "type": "barpolar"
           }
          ],
          "carpet": [
           {
            "aaxis": {
             "endlinecolor": "#2a3f5f",
             "gridcolor": "white",
             "linecolor": "white",
             "minorgridcolor": "white",
             "startlinecolor": "#2a3f5f"
            },
            "baxis": {
             "endlinecolor": "#2a3f5f",
             "gridcolor": "white",
             "linecolor": "white",
             "minorgridcolor": "white",
             "startlinecolor": "#2a3f5f"
            },
            "type": "carpet"
           }
          ],
          "choropleth": [
           {
            "colorbar": {
             "outlinewidth": 0,
             "ticks": ""
            },
            "type": "choropleth"
           }
          ],
          "contour": [
           {
            "colorbar": {
             "outlinewidth": 0,
             "ticks": ""
            },
            "colorscale": [
             [
              0,
              "#0d0887"
             ],
             [
              0.1111111111111111,
              "#46039f"
             ],
             [
              0.2222222222222222,
              "#7201a8"
             ],
             [
              0.3333333333333333,
              "#9c179e"
             ],
             [
              0.4444444444444444,
              "#bd3786"
             ],
             [
              0.5555555555555556,
              "#d8576b"
             ],
             [
              0.6666666666666666,
              "#ed7953"
             ],
             [
              0.7777777777777778,
              "#fb9f3a"
             ],
             [
              0.8888888888888888,
              "#fdca26"
             ],
             [
              1,
              "#f0f921"
             ]
            ],
            "type": "contour"
           }
          ],
          "contourcarpet": [
           {
            "colorbar": {
             "outlinewidth": 0,
             "ticks": ""
            },
            "type": "contourcarpet"
           }
          ],
          "heatmap": [
           {
            "colorbar": {
             "outlinewidth": 0,
             "ticks": ""
            },
            "colorscale": [
             [
              0,
              "#0d0887"
             ],
             [
              0.1111111111111111,
              "#46039f"
             ],
             [
              0.2222222222222222,
              "#7201a8"
             ],
             [
              0.3333333333333333,
              "#9c179e"
             ],
             [
              0.4444444444444444,
              "#bd3786"
             ],
             [
              0.5555555555555556,
              "#d8576b"
             ],
             [
              0.6666666666666666,
              "#ed7953"
             ],
             [
              0.7777777777777778,
              "#fb9f3a"
             ],
             [
              0.8888888888888888,
              "#fdca26"
             ],
             [
              1,
              "#f0f921"
             ]
            ],
            "type": "heatmap"
           }
          ],
          "histogram": [
           {
            "marker": {
             "pattern": {
              "fillmode": "overlay",
              "size": 10,
              "solidity": 0.2
             }
            },
            "type": "histogram"
           }
          ],
          "histogram2d": [
           {
            "colorbar": {
             "outlinewidth": 0,
             "ticks": ""
            },
            "colorscale": [
             [
              0,
              "#0d0887"
             ],
             [
              0.1111111111111111,
              "#46039f"
             ],
             [
              0.2222222222222222,
              "#7201a8"
             ],
             [
              0.3333333333333333,
              "#9c179e"
             ],
             [
              0.4444444444444444,
              "#bd3786"
             ],
             [
              0.5555555555555556,
              "#d8576b"
             ],
             [
              0.6666666666666666,
              "#ed7953"
             ],
             [
              0.7777777777777778,
              "#fb9f3a"
             ],
             [
              0.8888888888888888,
              "#fdca26"
             ],
             [
              1,
              "#f0f921"
             ]
            ],
            "type": "histogram2d"
           }
          ],
          "histogram2dcontour": [
           {
            "colorbar": {
             "outlinewidth": 0,
             "ticks": ""
            },
            "colorscale": [
             [
              0,
              "#0d0887"
             ],
             [
              0.1111111111111111,
              "#46039f"
             ],
             [
              0.2222222222222222,
              "#7201a8"
             ],
             [
              0.3333333333333333,
              "#9c179e"
             ],
             [
              0.4444444444444444,
              "#bd3786"
             ],
             [
              0.5555555555555556,
              "#d8576b"
             ],
             [
              0.6666666666666666,
              "#ed7953"
             ],
             [
              0.7777777777777778,
              "#fb9f3a"
             ],
             [
              0.8888888888888888,
              "#fdca26"
             ],
             [
              1,
              "#f0f921"
             ]
            ],
            "type": "histogram2dcontour"
           }
          ],
          "mesh3d": [
           {
            "colorbar": {
             "outlinewidth": 0,
             "ticks": ""
            },
            "type": "mesh3d"
           }
          ],
          "parcoords": [
           {
            "line": {
             "colorbar": {
              "outlinewidth": 0,
              "ticks": ""
             }
            },
            "type": "parcoords"
           }
          ],
          "pie": [
           {
            "automargin": true,
            "type": "pie"
           }
          ],
          "scatter": [
           {
            "fillpattern": {
             "fillmode": "overlay",
             "size": 10,
             "solidity": 0.2
            },
            "type": "scatter"
           }
          ],
          "scatter3d": [
           {
            "line": {
             "colorbar": {
              "outlinewidth": 0,
              "ticks": ""
             }
            },
            "marker": {
             "colorbar": {
              "outlinewidth": 0,
              "ticks": ""
             }
            },
            "type": "scatter3d"
           }
          ],
          "scattercarpet": [
           {
            "marker": {
             "colorbar": {
              "outlinewidth": 0,
              "ticks": ""
             }
            },
            "type": "scattercarpet"
           }
          ],
          "scattergeo": [
           {
            "marker": {
             "colorbar": {
              "outlinewidth": 0,
              "ticks": ""
             }
            },
            "type": "scattergeo"
           }
          ],
          "scattergl": [
           {
            "marker": {
             "colorbar": {
              "outlinewidth": 0,
              "ticks": ""
             }
            },
            "type": "scattergl"
           }
          ],
          "scattermap": [
           {
            "marker": {
             "colorbar": {
              "outlinewidth": 0,
              "ticks": ""
             }
            },
            "type": "scattermap"
           }
          ],
          "scattermapbox": [
           {
            "marker": {
             "colorbar": {
              "outlinewidth": 0,
              "ticks": ""
             }
            },
            "type": "scattermapbox"
           }
          ],
          "scatterpolar": [
           {
            "marker": {
             "colorbar": {
              "outlinewidth": 0,
              "ticks": ""
             }
            },
            "type": "scatterpolar"
           }
          ],
          "scatterpolargl": [
           {
            "marker": {
             "colorbar": {
              "outlinewidth": 0,
              "ticks": ""
             }
            },
            "type": "scatterpolargl"
           }
          ],
          "scatterternary": [
           {
            "marker": {
             "colorbar": {
              "outlinewidth": 0,
              "ticks": ""
             }
            },
            "type": "scatterternary"
           }
          ],
          "surface": [
           {
            "colorbar": {
             "outlinewidth": 0,
             "ticks": ""
            },
            "colorscale": [
             [
              0,
              "#0d0887"
             ],
             [
              0.1111111111111111,
              "#46039f"
             ],
             [
              0.2222222222222222,
              "#7201a8"
             ],
             [
              0.3333333333333333,
              "#9c179e"
             ],
             [
              0.4444444444444444,
              "#bd3786"
             ],
             [
              0.5555555555555556,
              "#d8576b"
             ],
             [
              0.6666666666666666,
              "#ed7953"
             ],
             [
              0.7777777777777778,
              "#fb9f3a"
             ],
             [
              0.8888888888888888,
              "#fdca26"
             ],
             [
              1,
              "#f0f921"
             ]
            ],
            "type": "surface"
           }
          ],
          "table": [
           {
            "cells": {
             "fill": {
              "color": "#EBF0F8"
             },
             "line": {
              "color": "white"
             }
            },
            "header": {
             "fill": {
              "color": "#C8D4E3"
             },
             "line": {
              "color": "white"
             }
            },
            "type": "table"
           }
          ]
         },
         "layout": {
          "annotationdefaults": {
           "arrowcolor": "#2a3f5f",
           "arrowhead": 0,
           "arrowwidth": 1,
           "font": {
            "color": "black",
            "size": 32
           }
          },
          "autotypenumbers": "strict",
          "barmode": "group",
          "coloraxis": {
           "colorbar": {
            "outlinewidth": 0,
            "ticks": ""
           }
          },
          "colorscale": {
           "diverging": [
            [
             0,
             "#8e0152"
            ],
            [
             0.1,
             "#c51b7d"
            ],
            [
             0.2,
             "#de77ae"
            ],
            [
             0.3,
             "#f1b6da"
            ],
            [
             0.4,
             "#fde0ef"
            ],
            [
             0.5,
             "#f7f7f7"
            ],
            [
             0.6,
             "#e6f5d0"
            ],
            [
             0.7,
             "#b8e186"
            ],
            [
             0.8,
             "#7fbc41"
            ],
            [
             0.9,
             "#4d9221"
            ],
            [
             1,
             "#276419"
            ]
           ],
           "sequential": [
            [
             0,
             "#0d0887"
            ],
            [
             0.1111111111111111,
             "#46039f"
            ],
            [
             0.2222222222222222,
             "#7201a8"
            ],
            [
             0.3333333333333333,
             "#9c179e"
            ],
            [
             0.4444444444444444,
             "#bd3786"
            ],
            [
             0.5555555555555556,
             "#d8576b"
            ],
            [
             0.6666666666666666,
             "#ed7953"
            ],
            [
             0.7777777777777778,
             "#fb9f3a"
            ],
            [
             0.8888888888888888,
             "#fdca26"
            ],
            [
             1,
             "#f0f921"
            ]
           ],
           "sequentialminus": [
            [
             0,
             "#0d0887"
            ],
            [
             0.1111111111111111,
             "#46039f"
            ],
            [
             0.2222222222222222,
             "#7201a8"
            ],
            [
             0.3333333333333333,
             "#9c179e"
            ],
            [
             0.4444444444444444,
             "#bd3786"
            ],
            [
             0.5555555555555556,
             "#d8576b"
            ],
            [
             0.6666666666666666,
             "#ed7953"
            ],
            [
             0.7777777777777778,
             "#fb9f3a"
            ],
            [
             0.8888888888888888,
             "#fdca26"
            ],
            [
             1,
             "#f0f921"
            ]
           ]
          },
          "colorway": [
           "#cac8c8",
           "#cac8c8",
           "#cac8c8",
           "#cac8c8",
           "#cac8c8",
           "#cac8c8",
           "#cac8c8",
           "#cac8c8"
          ],
          "font": {
           "color": "black",
           "family": "Arial, sans-serif",
           "size": 32
          },
          "geo": {
           "bgcolor": "white",
           "lakecolor": "white",
           "landcolor": "#E5ECF6",
           "showlakes": true,
           "showland": true,
           "subunitcolor": "white"
          },
          "hoverlabel": {
           "align": "left"
          },
          "hovermode": "closest",
          "legend": {
           "bgcolor": "rgba(0,0,0,0)",
           "bordercolor": "rgba(0,0,0,0)",
           "borderwidth": 0,
           "font": {
            "size": 32
           }
          },
          "mapbox": {
           "style": "light"
          },
          "margin": {
           "b": 36,
           "l": 60,
           "r": 20,
           "t": 42
          },
          "paper_bgcolor": "white",
          "plot_bgcolor": "white",
          "polar": {
           "angularaxis": {
            "gridcolor": "white",
            "linecolor": "white",
            "ticks": ""
           },
           "bgcolor": "#E5ECF6",
           "radialaxis": {
            "gridcolor": "white",
            "linecolor": "white",
            "ticks": ""
           }
          },
          "scene": {
           "xaxis": {
            "backgroundcolor": "#E5ECF6",
            "gridcolor": "white",
            "gridwidth": 2,
            "linecolor": "white",
            "showbackground": true,
            "ticks": "",
            "zerolinecolor": "white"
           },
           "yaxis": {
            "backgroundcolor": "#E5ECF6",
            "gridcolor": "white",
            "gridwidth": 2,
            "linecolor": "white",
            "showbackground": true,
            "ticks": "",
            "zerolinecolor": "white"
           },
           "zaxis": {
            "backgroundcolor": "#E5ECF6",
            "gridcolor": "white",
            "gridwidth": 2,
            "linecolor": "white",
            "showbackground": true,
            "ticks": "",
            "zerolinecolor": "white"
           }
          },
          "shapedefaults": {
           "line": {
            "color": "#2a3f5f"
           }
          },
          "ternary": {
           "aaxis": {
            "gridcolor": "white",
            "linecolor": "white",
            "ticks": ""
           },
           "baxis": {
            "gridcolor": "white",
            "linecolor": "white",
            "ticks": ""
           },
           "bgcolor": "#E5ECF6",
           "caxis": {
            "gridcolor": "white",
            "linecolor": "white",
            "ticks": ""
           }
          },
          "title": {
           "font": {
            "color": "black",
            "size": 32
           },
           "x": 0
          },
          "uniformtext": {
           "minsize": 32,
           "mode": "hide"
          },
          "xaxis": {
           "automargin": true,
           "gridcolor": "white",
           "linecolor": "black",
           "linewidth": 0.6,
           "mirror": true,
           "showgrid": false,
           "tickfont": {
            "size": 32
           },
           "ticks": "outside",
           "title": {
            "font": {
             "size": 32
            },
            "standoff": 6
           },
           "zeroline": false,
           "zerolinecolor": "white",
           "zerolinewidth": 2
          },
          "yaxis": {
           "automargin": true,
           "gridcolor": "#e9e9e9",
           "gridwidth": 0.5,
           "linecolor": "black",
           "linewidth": 0.6,
           "mirror": true,
           "showgrid": false,
           "tickfont": {
            "size": 32
           },
           "ticks": "outside",
           "title": {
            "font": {
             "size": 32
            },
            "standoff": 6
           },
           "zeroline": false,
           "zerolinecolor": "white",
           "zerolinewidth": 2
          }
         }
        },
        "xaxis": {
         "anchor": "y",
         "domain": [
          0,
          1
         ],
         "title": {
          "text": "Disparity Value"
         }
        },
        "yaxis": {
         "anchor": "x",
         "domain": [
          0,
          1
         ],
         "range": [
          0,
          18000
         ],
         "title": {
          "text": "#Pixel with Disparity Value"
         }
        }
       }
      }
     },
     "metadata": {},
     "output_type": "display_data"
    },
    {
     "data": {
      "application/vnd.plotly.v1+json": {
       "config": {
        "plotlyServerURL": "https://plot.ly"
       },
       "data": [
        {
         "hovertemplate": "Disparity Value=%{x}<br>#Pixel with Disparity Value=%{y}<extra></extra>",
         "insidetextfont": {
          "color": "black"
         },
         "legendgroup": "",
         "marker": {
          "color": "#cac8c8",
          "line": {
           "color": "black",
           "width": 0.8
          },
          "pattern": {
           "shape": ""
          }
         },
         "name": "",
         "orientation": "v",
         "showlegend": false,
         "textfont": {
          "color": "black"
         },
         "textposition": "auto",
         "type": "bar",
         "x": {
          "bdata": "AAECAwQFBgcICQoLDA0ODxAREhMUFRYXGBkaGxwdHh8gISIjJCUmJygpKissLS4vMDEyMzQ1Njc4OTo7PD0+P0BBQkNERUZHSElKS0xNTk9QUVJTVFVWV1hZWltcXV5fYGFiY2RlZmdoaWprbG1ub3BxcnN0dXZ3eHl6e3x9fn8=",
          "dtype": "i1"
         },
         "xaxis": "x",
         "y": {
          "bdata": "NpTXUOopxkDKayivoVK8QCivobze179AQ3kN5QWJv0BDeQ3lTaq6QPMaymsg1rpAKK+hvBZquEAor6G83q20QL2G8hoyJ7VANpTXUA5bs0CvobyGYlqxQCivobzuO7JA8xrKazCcsEDzGspriGquQK+hvIYC969ADeU1lCfQrECvobyG4pWrQAAAAABwH61ANpTXUP69qUAAAAAAkDOqQOU1lNfAPKtAlNdQXiMqqEDYUF5DWaeoQAAAAADAj6lAQ3kN5eUnp0CU11Be0xuoQJTXUF7THKhAXkN5DaURpkDYUF5D2Q6nQEN5DeWVU6ZADeU1lKcCpUB5DeU1xESmQK+hvIbSxKVAvYbyGioRpECvobyGAl2lQOU1lNewy6RAG8prKI8IpEAAAAAAcEWlQPMaymuY4aNA2FBeQ1n/o0DKayivQfSkQOU1lNcwvqNA5TWU1wDQo0C9hvIamnKkQF5DeQ1l9KJA2FBeQ3lMo0DlNZTXgJGjQJTXUF5zVKJAeQ3lNZRto0DYUF5D+TOjQF5DeQ21eaJANpTXUF7kokAN5TWU55miQNhQXkNZmqJAUV5DeX02o0BDeQ3lpVSiQAAAAADwWKJAh/IayttOo0BeQ3kNJXKiQPMaymuor6JAbCivodyBokCH8hrKS42hQK+hvIZyQqJAKK+hvIa8okAAAAAA4LyhQDaU11CuO6JAoryG8lpdokBDeQ3ltXihQA3lNZRnKqJAlNdQXsMaokBsKK+hHH+hQBvKayh/haJAeQ3lNUThoUDzGspriLWhQF5DeQ31QqJAG8prKL9IokCivIbyik2iQEN5DeWV5aJAvYbyGjr/oUBRXkN5DUaiQMprKK/x4qJA5TWU1+C1oUCH8hrKqw6iQA3lNZRne6JAUV5DeV3SoUDYUF5Duc6iQK+hvIbCF6NAoryG8qrHokDzGsprqPejQIfyGsr7AqNAXkN5DTV6okAbymsov5ijQMprKK+h9KJAG8prKM8Po0C9hvIa2iCkQEN5DeVVa6NAeQ3lNaSbo0DYUF5DKaKkQA3lNZT3oqNAG8prKL8FpECivIbyig+lQOU1lNcQfqRAAAAAANAgpUC9hvIaCkGlQA3lNZQn0KRA8xrKa7iApUDYUF5D+SGmQFFeQ3mN7qVAeQ3lNdRIp0AbymsoHzunQFFeQ3kd/6ZA8xrKa2g1qEDlNZTX8JCoQNhQXkN5xqhAAAAAAAC3qkAor6G8FgOrQEN5DeX1baxAAAAAAOCmrkDzGspr6MivQCivobzmDrFAvYbyGpJeskDKayivIdCzQDaU11CO2LVAKK+hvC6ct0A2lNdQrqa3QGwor6EcHbdAQ3kN5bWIqUAN5TWUryGzQA==",
          "dtype": "f8"
         },
         "yaxis": "y"
        }
       ],
       "layout": {
        "annotations": [
         {
          "font": {
           "size": 28
          },
          "showarrow": false,
          "text": "Min: 0.00,  Max: 127.00,\n &mu;=59.18, σ=42.42",
          "x": 0.5,
          "xref": "paper",
          "y": -0.11,
          "yref": "paper",
          "yshift": 350
         }
        ],
        "barmode": "relative",
        "legend": {
         "tracegroupgap": 0
        },
        "margin": {
         "t": 60
        },
        "template": {
         "data": {
          "bar": [
           {
            "error_x": {
             "color": "#2a3f5f"
            },
            "error_y": {
             "color": "#2a3f5f"
            },
            "insidetextfont": {
             "color": "black",
             "size": 32
            },
            "marker": {
             "color": "#cac8c8",
             "line": {
              "color": "black",
              "width": 0.8
             },
             "pattern": {
              "fillmode": "overlay",
              "size": 10,
              "solidity": 0.2
             }
            },
            "opacity": 1,
            "textfont": {
             "color": "black",
             "size": 32
            },
            "textposition": "auto",
            "texttemplate": "%{y:.0f}",
            "type": "bar"
           }
          ],
          "barpolar": [
           {
            "marker": {
             "line": {
              "color": "#E5ECF6",
              "width": 0.5
             },
             "pattern": {
              "fillmode": "overlay",
              "size": 10,
              "solidity": 0.2
             }
            },
            "type": "barpolar"
           }
          ],
          "carpet": [
           {
            "aaxis": {
             "endlinecolor": "#2a3f5f",
             "gridcolor": "white",
             "linecolor": "white",
             "minorgridcolor": "white",
             "startlinecolor": "#2a3f5f"
            },
            "baxis": {
             "endlinecolor": "#2a3f5f",
             "gridcolor": "white",
             "linecolor": "white",
             "minorgridcolor": "white",
             "startlinecolor": "#2a3f5f"
            },
            "type": "carpet"
           }
          ],
          "choropleth": [
           {
            "colorbar": {
             "outlinewidth": 0,
             "ticks": ""
            },
            "type": "choropleth"
           }
          ],
          "contour": [
           {
            "colorbar": {
             "outlinewidth": 0,
             "ticks": ""
            },
            "colorscale": [
             [
              0,
              "#0d0887"
             ],
             [
              0.1111111111111111,
              "#46039f"
             ],
             [
              0.2222222222222222,
              "#7201a8"
             ],
             [
              0.3333333333333333,
              "#9c179e"
             ],
             [
              0.4444444444444444,
              "#bd3786"
             ],
             [
              0.5555555555555556,
              "#d8576b"
             ],
             [
              0.6666666666666666,
              "#ed7953"
             ],
             [
              0.7777777777777778,
              "#fb9f3a"
             ],
             [
              0.8888888888888888,
              "#fdca26"
             ],
             [
              1,
              "#f0f921"
             ]
            ],
            "type": "contour"
           }
          ],
          "contourcarpet": [
           {
            "colorbar": {
             "outlinewidth": 0,
             "ticks": ""
            },
            "type": "contourcarpet"
           }
          ],
          "heatmap": [
           {
            "colorbar": {
             "outlinewidth": 0,
             "ticks": ""
            },
            "colorscale": [
             [
              0,
              "#0d0887"
             ],
             [
              0.1111111111111111,
              "#46039f"
             ],
             [
              0.2222222222222222,
              "#7201a8"
             ],
             [
              0.3333333333333333,
              "#9c179e"
             ],
             [
              0.4444444444444444,
              "#bd3786"
             ],
             [
              0.5555555555555556,
              "#d8576b"
             ],
             [
              0.6666666666666666,
              "#ed7953"
             ],
             [
              0.7777777777777778,
              "#fb9f3a"
             ],
             [
              0.8888888888888888,
              "#fdca26"
             ],
             [
              1,
              "#f0f921"
             ]
            ],
            "type": "heatmap"
           }
          ],
          "histogram": [
           {
            "marker": {
             "pattern": {
              "fillmode": "overlay",
              "size": 10,
              "solidity": 0.2
             }
            },
            "type": "histogram"
           }
          ],
          "histogram2d": [
           {
            "colorbar": {
             "outlinewidth": 0,
             "ticks": ""
            },
            "colorscale": [
             [
              0,
              "#0d0887"
             ],
             [
              0.1111111111111111,
              "#46039f"
             ],
             [
              0.2222222222222222,
              "#7201a8"
             ],
             [
              0.3333333333333333,
              "#9c179e"
             ],
             [
              0.4444444444444444,
              "#bd3786"
             ],
             [
              0.5555555555555556,
              "#d8576b"
             ],
             [
              0.6666666666666666,
              "#ed7953"
             ],
             [
              0.7777777777777778,
              "#fb9f3a"
             ],
             [
              0.8888888888888888,
              "#fdca26"
             ],
             [
              1,
              "#f0f921"
             ]
            ],
            "type": "histogram2d"
           }
          ],
          "histogram2dcontour": [
           {
            "colorbar": {
             "outlinewidth": 0,
             "ticks": ""
            },
            "colorscale": [
             [
              0,
              "#0d0887"
             ],
             [
              0.1111111111111111,
              "#46039f"
             ],
             [
              0.2222222222222222,
              "#7201a8"
             ],
             [
              0.3333333333333333,
              "#9c179e"
             ],
             [
              0.4444444444444444,
              "#bd3786"
             ],
             [
              0.5555555555555556,
              "#d8576b"
             ],
             [
              0.6666666666666666,
              "#ed7953"
             ],
             [
              0.7777777777777778,
              "#fb9f3a"
             ],
             [
              0.8888888888888888,
              "#fdca26"
             ],
             [
              1,
              "#f0f921"
             ]
            ],
            "type": "histogram2dcontour"
           }
          ],
          "mesh3d": [
           {
            "colorbar": {
             "outlinewidth": 0,
             "ticks": ""
            },
            "type": "mesh3d"
           }
          ],
          "parcoords": [
           {
            "line": {
             "colorbar": {
              "outlinewidth": 0,
              "ticks": ""
             }
            },
            "type": "parcoords"
           }
          ],
          "pie": [
           {
            "automargin": true,
            "type": "pie"
           }
          ],
          "scatter": [
           {
            "fillpattern": {
             "fillmode": "overlay",
             "size": 10,
             "solidity": 0.2
            },
            "type": "scatter"
           }
          ],
          "scatter3d": [
           {
            "line": {
             "colorbar": {
              "outlinewidth": 0,
              "ticks": ""
             }
            },
            "marker": {
             "colorbar": {
              "outlinewidth": 0,
              "ticks": ""
             }
            },
            "type": "scatter3d"
           }
          ],
          "scattercarpet": [
           {
            "marker": {
             "colorbar": {
              "outlinewidth": 0,
              "ticks": ""
             }
            },
            "type": "scattercarpet"
           }
          ],
          "scattergeo": [
           {
            "marker": {
             "colorbar": {
              "outlinewidth": 0,
              "ticks": ""
             }
            },
            "type": "scattergeo"
           }
          ],
          "scattergl": [
           {
            "marker": {
             "colorbar": {
              "outlinewidth": 0,
              "ticks": ""
             }
            },
            "type": "scattergl"
           }
          ],
          "scattermap": [
           {
            "marker": {
             "colorbar": {
              "outlinewidth": 0,
              "ticks": ""
             }
            },
            "type": "scattermap"
           }
          ],
          "scattermapbox": [
           {
            "marker": {
             "colorbar": {
              "outlinewidth": 0,
              "ticks": ""
             }
            },
            "type": "scattermapbox"
           }
          ],
          "scatterpolar": [
           {
            "marker": {
             "colorbar": {
              "outlinewidth": 0,
              "ticks": ""
             }
            },
            "type": "scatterpolar"
           }
          ],
          "scatterpolargl": [
           {
            "marker": {
             "colorbar": {
              "outlinewidth": 0,
              "ticks": ""
             }
            },
            "type": "scatterpolargl"
           }
          ],
          "scatterternary": [
           {
            "marker": {
             "colorbar": {
              "outlinewidth": 0,
              "ticks": ""
             }
            },
            "type": "scatterternary"
           }
          ],
          "surface": [
           {
            "colorbar": {
             "outlinewidth": 0,
             "ticks": ""
            },
            "colorscale": [
             [
              0,
              "#0d0887"
             ],
             [
              0.1111111111111111,
              "#46039f"
             ],
             [
              0.2222222222222222,
              "#7201a8"
             ],
             [
              0.3333333333333333,
              "#9c179e"
             ],
             [
              0.4444444444444444,
              "#bd3786"
             ],
             [
              0.5555555555555556,
              "#d8576b"
             ],
             [
              0.6666666666666666,
              "#ed7953"
             ],
             [
              0.7777777777777778,
              "#fb9f3a"
             ],
             [
              0.8888888888888888,
              "#fdca26"
             ],
             [
              1,
              "#f0f921"
             ]
            ],
            "type": "surface"
           }
          ],
          "table": [
           {
            "cells": {
             "fill": {
              "color": "#EBF0F8"
             },
             "line": {
              "color": "white"
             }
            },
            "header": {
             "fill": {
              "color": "#C8D4E3"
             },
             "line": {
              "color": "white"
             }
            },
            "type": "table"
           }
          ]
         },
         "layout": {
          "annotationdefaults": {
           "arrowcolor": "#2a3f5f",
           "arrowhead": 0,
           "arrowwidth": 1,
           "font": {
            "color": "black",
            "size": 32
           }
          },
          "autotypenumbers": "strict",
          "barmode": "group",
          "coloraxis": {
           "colorbar": {
            "outlinewidth": 0,
            "ticks": ""
           }
          },
          "colorscale": {
           "diverging": [
            [
             0,
             "#8e0152"
            ],
            [
             0.1,
             "#c51b7d"
            ],
            [
             0.2,
             "#de77ae"
            ],
            [
             0.3,
             "#f1b6da"
            ],
            [
             0.4,
             "#fde0ef"
            ],
            [
             0.5,
             "#f7f7f7"
            ],
            [
             0.6,
             "#e6f5d0"
            ],
            [
             0.7,
             "#b8e186"
            ],
            [
             0.8,
             "#7fbc41"
            ],
            [
             0.9,
             "#4d9221"
            ],
            [
             1,
             "#276419"
            ]
           ],
           "sequential": [
            [
             0,
             "#0d0887"
            ],
            [
             0.1111111111111111,
             "#46039f"
            ],
            [
             0.2222222222222222,
             "#7201a8"
            ],
            [
             0.3333333333333333,
             "#9c179e"
            ],
            [
             0.4444444444444444,
             "#bd3786"
            ],
            [
             0.5555555555555556,
             "#d8576b"
            ],
            [
             0.6666666666666666,
             "#ed7953"
            ],
            [
             0.7777777777777778,
             "#fb9f3a"
            ],
            [
             0.8888888888888888,
             "#fdca26"
            ],
            [
             1,
             "#f0f921"
            ]
           ],
           "sequentialminus": [
            [
             0,
             "#0d0887"
            ],
            [
             0.1111111111111111,
             "#46039f"
            ],
            [
             0.2222222222222222,
             "#7201a8"
            ],
            [
             0.3333333333333333,
             "#9c179e"
            ],
            [
             0.4444444444444444,
             "#bd3786"
            ],
            [
             0.5555555555555556,
             "#d8576b"
            ],
            [
             0.6666666666666666,
             "#ed7953"
            ],
            [
             0.7777777777777778,
             "#fb9f3a"
            ],
            [
             0.8888888888888888,
             "#fdca26"
            ],
            [
             1,
             "#f0f921"
            ]
           ]
          },
          "colorway": [
           "#cac8c8",
           "#cac8c8",
           "#cac8c8",
           "#cac8c8",
           "#cac8c8",
           "#cac8c8",
           "#cac8c8",
           "#cac8c8"
          ],
          "font": {
           "color": "black",
           "family": "Arial, sans-serif",
           "size": 32
          },
          "geo": {
           "bgcolor": "white",
           "lakecolor": "white",
           "landcolor": "#E5ECF6",
           "showlakes": true,
           "showland": true,
           "subunitcolor": "white"
          },
          "hoverlabel": {
           "align": "left"
          },
          "hovermode": "closest",
          "legend": {
           "bgcolor": "rgba(0,0,0,0)",
           "bordercolor": "rgba(0,0,0,0)",
           "borderwidth": 0,
           "font": {
            "size": 32
           }
          },
          "mapbox": {
           "style": "light"
          },
          "margin": {
           "b": 36,
           "l": 60,
           "r": 20,
           "t": 42
          },
          "paper_bgcolor": "white",
          "plot_bgcolor": "white",
          "polar": {
           "angularaxis": {
            "gridcolor": "white",
            "linecolor": "white",
            "ticks": ""
           },
           "bgcolor": "#E5ECF6",
           "radialaxis": {
            "gridcolor": "white",
            "linecolor": "white",
            "ticks": ""
           }
          },
          "scene": {
           "xaxis": {
            "backgroundcolor": "#E5ECF6",
            "gridcolor": "white",
            "gridwidth": 2,
            "linecolor": "white",
            "showbackground": true,
            "ticks": "",
            "zerolinecolor": "white"
           },
           "yaxis": {
            "backgroundcolor": "#E5ECF6",
            "gridcolor": "white",
            "gridwidth": 2,
            "linecolor": "white",
            "showbackground": true,
            "ticks": "",
            "zerolinecolor": "white"
           },
           "zaxis": {
            "backgroundcolor": "#E5ECF6",
            "gridcolor": "white",
            "gridwidth": 2,
            "linecolor": "white",
            "showbackground": true,
            "ticks": "",
            "zerolinecolor": "white"
           }
          },
          "shapedefaults": {
           "line": {
            "color": "#2a3f5f"
           }
          },
          "ternary": {
           "aaxis": {
            "gridcolor": "white",
            "linecolor": "white",
            "ticks": ""
           },
           "baxis": {
            "gridcolor": "white",
            "linecolor": "white",
            "ticks": ""
           },
           "bgcolor": "#E5ECF6",
           "caxis": {
            "gridcolor": "white",
            "linecolor": "white",
            "ticks": ""
           }
          },
          "title": {
           "font": {
            "color": "black",
            "size": 32
           },
           "x": 0
          },
          "uniformtext": {
           "minsize": 32,
           "mode": "hide"
          },
          "xaxis": {
           "automargin": true,
           "gridcolor": "white",
           "linecolor": "black",
           "linewidth": 0.6,
           "mirror": true,
           "showgrid": false,
           "tickfont": {
            "size": 32
           },
           "ticks": "outside",
           "title": {
            "font": {
             "size": 32
            },
            "standoff": 6
           },
           "zeroline": false,
           "zerolinecolor": "white",
           "zerolinewidth": 2
          },
          "yaxis": {
           "automargin": true,
           "gridcolor": "#e9e9e9",
           "gridwidth": 0.5,
           "linecolor": "black",
           "linewidth": 0.6,
           "mirror": true,
           "showgrid": false,
           "tickfont": {
            "size": 32
           },
           "ticks": "outside",
           "title": {
            "font": {
             "size": 32
            },
            "standoff": 6
           },
           "zeroline": false,
           "zerolinecolor": "white",
           "zerolinewidth": 2
          }
         }
        },
        "xaxis": {
         "anchor": "y",
         "domain": [
          0,
          1
         ],
         "title": {
          "text": "Disparity Value"
         }
        },
        "yaxis": {
         "anchor": "x",
         "domain": [
          0,
          1
         ],
         "range": [
          0,
          18000
         ],
         "title": {
          "text": "#Pixel with Disparity Value"
         }
        }
       }
      }
     },
     "metadata": {},
     "output_type": "display_data"
    },
    {
     "data": {
      "application/vnd.plotly.v1+json": {
       "config": {
        "plotlyServerURL": "https://plot.ly"
       },
       "data": [
        {
         "hovertemplate": "Disparity Value=%{x}<br>#Pixel with Disparity Value=%{y}<extra></extra>",
         "insidetextfont": {
          "color": "black"
         },
         "legendgroup": "",
         "marker": {
          "color": "#cac8c8",
          "line": {
           "color": "black",
           "width": 0.8
          },
          "pattern": {
           "shape": ""
          }
         },
         "name": "",
         "orientation": "v",
         "showlegend": false,
         "textfont": {
          "color": "black"
         },
         "textposition": "auto",
         "type": "bar",
         "x": {
          "bdata": "AAECAwQFBgcICQoLDA0ODxAREhMUFRYXGBkaGxwdHh8gISIjJCUmJygpKissLS4vMDEyMzQ1Njc4OTo7PD0+P0BBQkNERUZHSElKS0xNTk9QUVJTVFVWV1hZWltcXV5fYGFiY2RlZmdoaWprbG1ub3BxcnN0dXZ3eHl6e3x9fn8=",
          "dtype": "i1"
         },
         "xaxis": "x",
         "y": {
          "bdata": "riAmV5AkxUCKhFOa1+O+QMBuj7UMgsBA9Z2N+o5kwED+RMIpTbG8QOUKYnKFNbpAyhXE5EoDuEDcYy1DRza1QOUKYnJFm7RAaxk6YLeQs0BS39mo79+xQPdYy9ABb7FALIjJFYRWsEDPRn1nI5uuQHusZeiAga5ApXnxJ5IkrUDcYy1DB6SrQEFMriCmv6tAISZXEBNDqkCKhFOaF4+pQD7WMnTA8KlAyFqGDlhXqECB3R5rGRWoQCyIyRXEGKhAiMkVxGTYpkCTK4jJlZumQIVTmhd/rKZA8ScSTunWpUC9+BMJJ1GmQFLf2ahvCaZApzQv/kTVpEDlCmJyBeykQBk6YLdHzqRAOmC3x1q7o0CB3R5rGSWkQMafSDiliqNAC2JyBTFio0DhlObFH3+jQDbqOxv17aJA6IDdHmvlokDxJxJOaQGjQLmCmFxBbKJAvfgTCadwokDKFcTkCsWiQH8i4ZTmMqJAQUyuIKbzoUDE5ApictihQPdYy9ABuaFAuz3WMnQFokBVVVVV1S+iQMTkCmLy06FApzQv/sT2oUA8G/WdDe2hQFuGDtjtYqFAHbDbY62+oUDIWoYO2FGhQMIpzYs/XqFA6jsb9R1voUAhJlcQkwKhQL34EwknFaFAo76zUV+DoUBHfWejPhShQL+zUd9Z0qBAe6xl6IDMoEANHbDb47egQDbqOxt10qBA2qjvbNQhoUAhJlcQk9egQPvORn1n6KBA8ScSTun3oEByBTG5ApWgQEyuICZXAKFA2qjvbFTpoEANHbDb472gQFuGDthtKaFAzYs/kfDBoECuICZXEJygQN4eaxk6JqFAb4+1DB33oEDjTyScUuWgQOz2WMvQ9KBAaV78iQSNoEA4pXnxp6qgQOUKYnKFi6BAArs91jJwoEDGn0g4Jf6gQFnL0AG7LqFAVxCTK4gQoUCMP5FwSnqhQFcQkyuIZKFAb4+1DJ1xoUB9Z6O+M3yhQFVVVVVVlKFAH2sZOmB4oUDCKc2Lv9ehQB2w22OtH6JAq6qqqqpFokBAkXBK83iiQFLf2ahvUaJAspahA3aVokC/s1HfWROjQLRR39moD6NABTG5ghgpo0BFwinNC7mjQPvORn3n1qNA3GMtQ4chpEBrGTpgNyqkQKV58SeSvaRApzQv/kSTpUBgt8dahg2mQLs91jL0uqZAgd0eaxmfp0DCKc2LPz6oQBbE5ApixKhAsNtjLUPlqUDPRn1nI9CqQFAknNK896tA9Z2N+k7WrUDWMnTAbuCvQIOYXEHMHbFAcUrz4o+DskDnxZ9IOBK0QM9GfWdjqLZAriAmV9BXuUDwbNR3Nkm6QNxjLUOHZ7lAIuGU5kUFq0C5gphcwSmyQA==",
          "dtype": "f8"
         },
         "yaxis": "y"
        }
       ],
       "layout": {
        "annotations": [
         {
          "font": {
           "size": 28
          },
          "showarrow": false,
          "text": "Min: 0.00,  Max: 127.00,\n &mu;=58.96, σ=43.03",
          "x": 0.5,
          "xref": "paper",
          "y": -0.11,
          "yref": "paper",
          "yshift": 350
         }
        ],
        "barmode": "relative",
        "legend": {
         "tracegroupgap": 0
        },
        "margin": {
         "t": 60
        },
        "template": {
         "data": {
          "bar": [
           {
            "error_x": {
             "color": "#2a3f5f"
            },
            "error_y": {
             "color": "#2a3f5f"
            },
            "insidetextfont": {
             "color": "black",
             "size": 32
            },
            "marker": {
             "color": "#cac8c8",
             "line": {
              "color": "black",
              "width": 0.8
             },
             "pattern": {
              "fillmode": "overlay",
              "size": 10,
              "solidity": 0.2
             }
            },
            "opacity": 1,
            "textfont": {
             "color": "black",
             "size": 32
            },
            "textposition": "auto",
            "texttemplate": "%{y:.0f}",
            "type": "bar"
           }
          ],
          "barpolar": [
           {
            "marker": {
             "line": {
              "color": "#E5ECF6",
              "width": 0.5
             },
             "pattern": {
              "fillmode": "overlay",
              "size": 10,
              "solidity": 0.2
             }
            },
            "type": "barpolar"
           }
          ],
          "carpet": [
           {
            "aaxis": {
             "endlinecolor": "#2a3f5f",
             "gridcolor": "white",
             "linecolor": "white",
             "minorgridcolor": "white",
             "startlinecolor": "#2a3f5f"
            },
            "baxis": {
             "endlinecolor": "#2a3f5f",
             "gridcolor": "white",
             "linecolor": "white",
             "minorgridcolor": "white",
             "startlinecolor": "#2a3f5f"
            },
            "type": "carpet"
           }
          ],
          "choropleth": [
           {
            "colorbar": {
             "outlinewidth": 0,
             "ticks": ""
            },
            "type": "choropleth"
           }
          ],
          "contour": [
           {
            "colorbar": {
             "outlinewidth": 0,
             "ticks": ""
            },
            "colorscale": [
             [
              0,
              "#0d0887"
             ],
             [
              0.1111111111111111,
              "#46039f"
             ],
             [
              0.2222222222222222,
              "#7201a8"
             ],
             [
              0.3333333333333333,
              "#9c179e"
             ],
             [
              0.4444444444444444,
              "#bd3786"
             ],
             [
              0.5555555555555556,
              "#d8576b"
             ],
             [
              0.6666666666666666,
              "#ed7953"
             ],
             [
              0.7777777777777778,
              "#fb9f3a"
             ],
             [
              0.8888888888888888,
              "#fdca26"
             ],
             [
              1,
              "#f0f921"
             ]
            ],
            "type": "contour"
           }
          ],
          "contourcarpet": [
           {
            "colorbar": {
             "outlinewidth": 0,
             "ticks": ""
            },
            "type": "contourcarpet"
           }
          ],
          "heatmap": [
           {
            "colorbar": {
             "outlinewidth": 0,
             "ticks": ""
            },
            "colorscale": [
             [
              0,
              "#0d0887"
             ],
             [
              0.1111111111111111,
              "#46039f"
             ],
             [
              0.2222222222222222,
              "#7201a8"
             ],
             [
              0.3333333333333333,
              "#9c179e"
             ],
             [
              0.4444444444444444,
              "#bd3786"
             ],
             [
              0.5555555555555556,
              "#d8576b"
             ],
             [
              0.6666666666666666,
              "#ed7953"
             ],
             [
              0.7777777777777778,
              "#fb9f3a"
             ],
             [
              0.8888888888888888,
              "#fdca26"
             ],
             [
              1,
              "#f0f921"
             ]
            ],
            "type": "heatmap"
           }
          ],
          "histogram": [
           {
            "marker": {
             "pattern": {
              "fillmode": "overlay",
              "size": 10,
              "solidity": 0.2
             }
            },
            "type": "histogram"
           }
          ],
          "histogram2d": [
           {
            "colorbar": {
             "outlinewidth": 0,
             "ticks": ""
            },
            "colorscale": [
             [
              0,
              "#0d0887"
             ],
             [
              0.1111111111111111,
              "#46039f"
             ],
             [
              0.2222222222222222,
              "#7201a8"
             ],
             [
              0.3333333333333333,
              "#9c179e"
             ],
             [
              0.4444444444444444,
              "#bd3786"
             ],
             [
              0.5555555555555556,
              "#d8576b"
             ],
             [
              0.6666666666666666,
              "#ed7953"
             ],
             [
              0.7777777777777778,
              "#fb9f3a"
             ],
             [
              0.8888888888888888,
              "#fdca26"
             ],
             [
              1,
              "#f0f921"
             ]
            ],
            "type": "histogram2d"
           }
          ],
          "histogram2dcontour": [
           {
            "colorbar": {
             "outlinewidth": 0,
             "ticks": ""
            },
            "colorscale": [
             [
              0,
              "#0d0887"
             ],
             [
              0.1111111111111111,
              "#46039f"
             ],
             [
              0.2222222222222222,
              "#7201a8"
             ],
             [
              0.3333333333333333,
              "#9c179e"
             ],
             [
              0.4444444444444444,
              "#bd3786"
             ],
             [
              0.5555555555555556,
              "#d8576b"
             ],
             [
              0.6666666666666666,
              "#ed7953"
             ],
             [
              0.7777777777777778,
              "#fb9f3a"
             ],
             [
              0.8888888888888888,
              "#fdca26"
             ],
             [
              1,
              "#f0f921"
             ]
            ],
            "type": "histogram2dcontour"
           }
          ],
          "mesh3d": [
           {
            "colorbar": {
             "outlinewidth": 0,
             "ticks": ""
            },
            "type": "mesh3d"
           }
          ],
          "parcoords": [
           {
            "line": {
             "colorbar": {
              "outlinewidth": 0,
              "ticks": ""
             }
            },
            "type": "parcoords"
           }
          ],
          "pie": [
           {
            "automargin": true,
            "type": "pie"
           }
          ],
          "scatter": [
           {
            "fillpattern": {
             "fillmode": "overlay",
             "size": 10,
             "solidity": 0.2
            },
            "type": "scatter"
           }
          ],
          "scatter3d": [
           {
            "line": {
             "colorbar": {
              "outlinewidth": 0,
              "ticks": ""
             }
            },
            "marker": {
             "colorbar": {
              "outlinewidth": 0,
              "ticks": ""
             }
            },
            "type": "scatter3d"
           }
          ],
          "scattercarpet": [
           {
            "marker": {
             "colorbar": {
              "outlinewidth": 0,
              "ticks": ""
             }
            },
            "type": "scattercarpet"
           }
          ],
          "scattergeo": [
           {
            "marker": {
             "colorbar": {
              "outlinewidth": 0,
              "ticks": ""
             }
            },
            "type": "scattergeo"
           }
          ],
          "scattergl": [
           {
            "marker": {
             "colorbar": {
              "outlinewidth": 0,
              "ticks": ""
             }
            },
            "type": "scattergl"
           }
          ],
          "scattermap": [
           {
            "marker": {
             "colorbar": {
              "outlinewidth": 0,
              "ticks": ""
             }
            },
            "type": "scattermap"
           }
          ],
          "scattermapbox": [
           {
            "marker": {
             "colorbar": {
              "outlinewidth": 0,
              "ticks": ""
             }
            },
            "type": "scattermapbox"
           }
          ],
          "scatterpolar": [
           {
            "marker": {
             "colorbar": {
              "outlinewidth": 0,
              "ticks": ""
             }
            },
            "type": "scatterpolar"
           }
          ],
          "scatterpolargl": [
           {
            "marker": {
             "colorbar": {
              "outlinewidth": 0,
              "ticks": ""
             }
            },
            "type": "scatterpolargl"
           }
          ],
          "scatterternary": [
           {
            "marker": {
             "colorbar": {
              "outlinewidth": 0,
              "ticks": ""
             }
            },
            "type": "scatterternary"
           }
          ],
          "surface": [
           {
            "colorbar": {
             "outlinewidth": 0,
             "ticks": ""
            },
            "colorscale": [
             [
              0,
              "#0d0887"
             ],
             [
              0.1111111111111111,
              "#46039f"
             ],
             [
              0.2222222222222222,
              "#7201a8"
             ],
             [
              0.3333333333333333,
              "#9c179e"
             ],
             [
              0.4444444444444444,
              "#bd3786"
             ],
             [
              0.5555555555555556,
              "#d8576b"
             ],
             [
              0.6666666666666666,
              "#ed7953"
             ],
             [
              0.7777777777777778,
              "#fb9f3a"
             ],
             [
              0.8888888888888888,
              "#fdca26"
             ],
             [
              1,
              "#f0f921"
             ]
            ],
            "type": "surface"
           }
          ],
          "table": [
           {
            "cells": {
             "fill": {
              "color": "#EBF0F8"
             },
             "line": {
              "color": "white"
             }
            },
            "header": {
             "fill": {
              "color": "#C8D4E3"
             },
             "line": {
              "color": "white"
             }
            },
            "type": "table"
           }
          ]
         },
         "layout": {
          "annotationdefaults": {
           "arrowcolor": "#2a3f5f",
           "arrowhead": 0,
           "arrowwidth": 1,
           "font": {
            "color": "black",
            "size": 32
           }
          },
          "autotypenumbers": "strict",
          "barmode": "group",
          "coloraxis": {
           "colorbar": {
            "outlinewidth": 0,
            "ticks": ""
           }
          },
          "colorscale": {
           "diverging": [
            [
             0,
             "#8e0152"
            ],
            [
             0.1,
             "#c51b7d"
            ],
            [
             0.2,
             "#de77ae"
            ],
            [
             0.3,
             "#f1b6da"
            ],
            [
             0.4,
             "#fde0ef"
            ],
            [
             0.5,
             "#f7f7f7"
            ],
            [
             0.6,
             "#e6f5d0"
            ],
            [
             0.7,
             "#b8e186"
            ],
            [
             0.8,
             "#7fbc41"
            ],
            [
             0.9,
             "#4d9221"
            ],
            [
             1,
             "#276419"
            ]
           ],
           "sequential": [
            [
             0,
             "#0d0887"
            ],
            [
             0.1111111111111111,
             "#46039f"
            ],
            [
             0.2222222222222222,
             "#7201a8"
            ],
            [
             0.3333333333333333,
             "#9c179e"
            ],
            [
             0.4444444444444444,
             "#bd3786"
            ],
            [
             0.5555555555555556,
             "#d8576b"
            ],
            [
             0.6666666666666666,
             "#ed7953"
            ],
            [
             0.7777777777777778,
             "#fb9f3a"
            ],
            [
             0.8888888888888888,
             "#fdca26"
            ],
            [
             1,
             "#f0f921"
            ]
           ],
           "sequentialminus": [
            [
             0,
             "#0d0887"
            ],
            [
             0.1111111111111111,
             "#46039f"
            ],
            [
             0.2222222222222222,
             "#7201a8"
            ],
            [
             0.3333333333333333,
             "#9c179e"
            ],
            [
             0.4444444444444444,
             "#bd3786"
            ],
            [
             0.5555555555555556,
             "#d8576b"
            ],
            [
             0.6666666666666666,
             "#ed7953"
            ],
            [
             0.7777777777777778,
             "#fb9f3a"
            ],
            [
             0.8888888888888888,
             "#fdca26"
            ],
            [
             1,
             "#f0f921"
            ]
           ]
          },
          "colorway": [
           "#cac8c8",
           "#cac8c8",
           "#cac8c8",
           "#cac8c8",
           "#cac8c8",
           "#cac8c8",
           "#cac8c8",
           "#cac8c8"
          ],
          "font": {
           "color": "black",
           "family": "Arial, sans-serif",
           "size": 32
          },
          "geo": {
           "bgcolor": "white",
           "lakecolor": "white",
           "landcolor": "#E5ECF6",
           "showlakes": true,
           "showland": true,
           "subunitcolor": "white"
          },
          "hoverlabel": {
           "align": "left"
          },
          "hovermode": "closest",
          "legend": {
           "bgcolor": "rgba(0,0,0,0)",
           "bordercolor": "rgba(0,0,0,0)",
           "borderwidth": 0,
           "font": {
            "size": 32
           }
          },
          "mapbox": {
           "style": "light"
          },
          "margin": {
           "b": 36,
           "l": 60,
           "r": 20,
           "t": 42
          },
          "paper_bgcolor": "white",
          "plot_bgcolor": "white",
          "polar": {
           "angularaxis": {
            "gridcolor": "white",
            "linecolor": "white",
            "ticks": ""
           },
           "bgcolor": "#E5ECF6",
           "radialaxis": {
            "gridcolor": "white",
            "linecolor": "white",
            "ticks": ""
           }
          },
          "scene": {
           "xaxis": {
            "backgroundcolor": "#E5ECF6",
            "gridcolor": "white",
            "gridwidth": 2,
            "linecolor": "white",
            "showbackground": true,
            "ticks": "",
            "zerolinecolor": "white"
           },
           "yaxis": {
            "backgroundcolor": "#E5ECF6",
            "gridcolor": "white",
            "gridwidth": 2,
            "linecolor": "white",
            "showbackground": true,
            "ticks": "",
            "zerolinecolor": "white"
           },
           "zaxis": {
            "backgroundcolor": "#E5ECF6",
            "gridcolor": "white",
            "gridwidth": 2,
            "linecolor": "white",
            "showbackground": true,
            "ticks": "",
            "zerolinecolor": "white"
           }
          },
          "shapedefaults": {
           "line": {
            "color": "#2a3f5f"
           }
          },
          "ternary": {
           "aaxis": {
            "gridcolor": "white",
            "linecolor": "white",
            "ticks": ""
           },
           "baxis": {
            "gridcolor": "white",
            "linecolor": "white",
            "ticks": ""
           },
           "bgcolor": "#E5ECF6",
           "caxis": {
            "gridcolor": "white",
            "linecolor": "white",
            "ticks": ""
           }
          },
          "title": {
           "font": {
            "color": "black",
            "size": 32
           },
           "x": 0
          },
          "uniformtext": {
           "minsize": 32,
           "mode": "hide"
          },
          "xaxis": {
           "automargin": true,
           "gridcolor": "white",
           "linecolor": "black",
           "linewidth": 0.6,
           "mirror": true,
           "showgrid": false,
           "tickfont": {
            "size": 32
           },
           "ticks": "outside",
           "title": {
            "font": {
             "size": 32
            },
            "standoff": 6
           },
           "zeroline": false,
           "zerolinecolor": "white",
           "zerolinewidth": 2
          },
          "yaxis": {
           "automargin": true,
           "gridcolor": "#e9e9e9",
           "gridwidth": 0.5,
           "linecolor": "black",
           "linewidth": 0.6,
           "mirror": true,
           "showgrid": false,
           "tickfont": {
            "size": 32
           },
           "ticks": "outside",
           "title": {
            "font": {
             "size": 32
            },
            "standoff": 6
           },
           "zeroline": false,
           "zerolinecolor": "white",
           "zerolinewidth": 2
          }
         }
        },
        "xaxis": {
         "anchor": "y",
         "domain": [
          0,
          1
         ],
         "title": {
          "text": "Disparity Value"
         }
        },
        "yaxis": {
         "anchor": "x",
         "domain": [
          0,
          1
         ],
         "range": [
          0,
          18000
         ],
         "title": {
          "text": "#Pixel with Disparity Value"
         }
        }
       }
      }
     },
     "metadata": {},
     "output_type": "display_data"
    },
    {
     "data": {
      "application/vnd.plotly.v1+json": {
       "config": {
        "plotlyServerURL": "https://plot.ly"
       },
       "data": [
        {
         "hovertemplate": "Disparity Value=%{x}<br>#Pixel with Disparity Value=%{y}<extra></extra>",
         "insidetextfont": {
          "color": "black"
         },
         "legendgroup": "",
         "marker": {
          "color": "#cac8c8",
          "line": {
           "color": "black",
           "width": 0.8
          },
          "pattern": {
           "shape": ""
          }
         },
         "name": "",
         "orientation": "v",
         "showlegend": false,
         "textfont": {
          "color": "black"
         },
         "textposition": "auto",
         "type": "bar",
         "x": {
          "bdata": "AAECAwQFBgcICQoLDA0ODxAREhMUFRYXGBkaGxwdHh8gISIjJCUmJygpKissLS4vMDEyMzQ1Njc4OTo7PD0+P0BBQkNERUZHSElKS0xNTk9QUVJTVFVWV1hZWltcXV5fYGFiY2RlZmdoaWprbG1ub3BxcnN0dXZ3eHl6e3x9fn8=",
          "dtype": "i1"
         },
         "xaxis": "x",
         "y": {
          "bdata": "/Pjx4yeLyEAgP378uHfAQIUKFSqkEsFAd+7cuUOUwEB0586dO+q8QBkxYsTImLpADhw4cOAQuEAcOHDgINu0QLNly5YtubNACxUqVAiNskCCAwcO3KywQIUKFSoUSbBAqFChQgXlrkAuW7ZsWdusQBkxYsRIdqxAOHDgwIEOq0AEBw4ceBWqQJ47d+7cNKpAs2XLli2gqEA/fvz48T+oQD9+/PgxVKhA4MCBA4fnpkA8d+7ceX2mQK9evXq1zaZAggMHDtxdpUB37ty5c06lQIwYMWJEUKVAnjt37lxTpECQHz9+fDSkQOvVq1cvHaRAd+7cubN0o0CaNGnS5K+jQEqTJk2aUqNAiREjRgymokDduXPnjuuiQEOFChXqkKJA2bJly9Y+okCzZcuWrWmiQD9+/PgxAqJABw4cODDRoUBKkyZNWgyiQIwYMWIEo6FAEiNGjFiCoUDkx48fP6qhQBIjRowYX6FAkB8/fvxRoUCvXr16NYihQFSoUKGCGKFA/Pjx40dNoUCvXr169RqhQBw4cOAADaFA+fHjx09loUDr1atXLx+hQLpz585djqBADhw4cOC/oECoUKFCRZugQJo0adKkb6BAZsuWLRvboEAZMWLESH2gQM+dO3cuXqBAr169enXEoECFChUqVIigQAcOHDhwj6BA2bJlyxaRoEBYr169upugQPz48ePH46BAjBgxYkT7oEAZMWLEyLOgQLNly5atxKBAjBgxYoTPoEChQoUKVYygQLZs2bIlBaFA1qtXrx7woEBfvXr1qqGgQAcOHDhw8KBAPHfu3LmNoEA4cODAAYmgQAQHDhy4wqBAID9+/Dh8oEAqVKhQoXqgQIIDBw4c6qBAQ4UKFSqxoEDEiBEjhuagQNmyZcvWQKFAd+7cubPxoED58ePHDxyhQGnSpEkTSaFA9erVq9floEA/fvz48S2hQBw4cOCA+6BAxIgRIwYQoUAEBw4cuIWhQLNly5YtxKFAJ02aNKkMokCoUKFCBeqhQLpz586dz6FAZsuWLZsVokDBgQMHzp+iQEqTJk1arqJADhw4cGBLo0DZsmXL1qujQMSIESMGYqNAMWLEiFG4o0Bw4MCBw8ujQLNly5YtRqRAkyZNmrT8pEDSpEmTpgKlQHfu3LnzS6VAvXr16tVkpkALFSpUKM6mQJctW7bs7aZAYsSIEeMIqEAZMWLECMSoQPz48eOHl6lAJ02aNOmXq0AnTZo06VKsQIUKFSpU9q1Anjt37rwksEDu3LlzB0SxQCNGjBgR7bJABAcOHJjRtEBDhQoVSoS3QGLEiBHD5bpA3blz565zvkCMGDFi1IfAQFSoUKESgMBA5MePH382skAcOHDgQOa7QA==",
          "dtype": "f8"
         },
         "yaxis": "y"
        }
       ],
       "layout": {
        "annotations": [
         {
          "font": {
           "size": 28
          },
          "showarrow": false,
          "text": "Min: 0.00,  Max: 127.00,\n &mu;=61.35, σ=44.12",
          "x": 0.5,
          "xref": "paper",
          "y": -0.11,
          "yref": "paper",
          "yshift": 350
         }
        ],
        "barmode": "relative",
        "legend": {
         "tracegroupgap": 0
        },
        "margin": {
         "t": 60
        },
        "template": {
         "data": {
          "bar": [
           {
            "error_x": {
             "color": "#2a3f5f"
            },
            "error_y": {
             "color": "#2a3f5f"
            },
            "insidetextfont": {
             "color": "black",
             "size": 32
            },
            "marker": {
             "color": "#cac8c8",
             "line": {
              "color": "black",
              "width": 0.8
             },
             "pattern": {
              "fillmode": "overlay",
              "size": 10,
              "solidity": 0.2
             }
            },
            "opacity": 1,
            "textfont": {
             "color": "black",
             "size": 32
            },
            "textposition": "auto",
            "texttemplate": "%{y:.0f}",
            "type": "bar"
           }
          ],
          "barpolar": [
           {
            "marker": {
             "line": {
              "color": "#E5ECF6",
              "width": 0.5
             },
             "pattern": {
              "fillmode": "overlay",
              "size": 10,
              "solidity": 0.2
             }
            },
            "type": "barpolar"
           }
          ],
          "carpet": [
           {
            "aaxis": {
             "endlinecolor": "#2a3f5f",
             "gridcolor": "white",
             "linecolor": "white",
             "minorgridcolor": "white",
             "startlinecolor": "#2a3f5f"
            },
            "baxis": {
             "endlinecolor": "#2a3f5f",
             "gridcolor": "white",
             "linecolor": "white",
             "minorgridcolor": "white",
             "startlinecolor": "#2a3f5f"
            },
            "type": "carpet"
           }
          ],
          "choropleth": [
           {
            "colorbar": {
             "outlinewidth": 0,
             "ticks": ""
            },
            "type": "choropleth"
           }
          ],
          "contour": [
           {
            "colorbar": {
             "outlinewidth": 0,
             "ticks": ""
            },
            "colorscale": [
             [
              0,
              "#0d0887"
             ],
             [
              0.1111111111111111,
              "#46039f"
             ],
             [
              0.2222222222222222,
              "#7201a8"
             ],
             [
              0.3333333333333333,
              "#9c179e"
             ],
             [
              0.4444444444444444,
              "#bd3786"
             ],
             [
              0.5555555555555556,
              "#d8576b"
             ],
             [
              0.6666666666666666,
              "#ed7953"
             ],
             [
              0.7777777777777778,
              "#fb9f3a"
             ],
             [
              0.8888888888888888,
              "#fdca26"
             ],
             [
              1,
              "#f0f921"
             ]
            ],
            "type": "contour"
           }
          ],
          "contourcarpet": [
           {
            "colorbar": {
             "outlinewidth": 0,
             "ticks": ""
            },
            "type": "contourcarpet"
           }
          ],
          "heatmap": [
           {
            "colorbar": {
             "outlinewidth": 0,
             "ticks": ""
            },
            "colorscale": [
             [
              0,
              "#0d0887"
             ],
             [
              0.1111111111111111,
              "#46039f"
             ],
             [
              0.2222222222222222,
              "#7201a8"
             ],
             [
              0.3333333333333333,
              "#9c179e"
             ],
             [
              0.4444444444444444,
              "#bd3786"
             ],
             [
              0.5555555555555556,
              "#d8576b"
             ],
             [
              0.6666666666666666,
              "#ed7953"
             ],
             [
              0.7777777777777778,
              "#fb9f3a"
             ],
             [
              0.8888888888888888,
              "#fdca26"
             ],
             [
              1,
              "#f0f921"
             ]
            ],
            "type": "heatmap"
           }
          ],
          "histogram": [
           {
            "marker": {
             "pattern": {
              "fillmode": "overlay",
              "size": 10,
              "solidity": 0.2
             }
            },
            "type": "histogram"
           }
          ],
          "histogram2d": [
           {
            "colorbar": {
             "outlinewidth": 0,
             "ticks": ""
            },
            "colorscale": [
             [
              0,
              "#0d0887"
             ],
             [
              0.1111111111111111,
              "#46039f"
             ],
             [
              0.2222222222222222,
              "#7201a8"
             ],
             [
              0.3333333333333333,
              "#9c179e"
             ],
             [
              0.4444444444444444,
              "#bd3786"
             ],
             [
              0.5555555555555556,
              "#d8576b"
             ],
             [
              0.6666666666666666,
              "#ed7953"
             ],
             [
              0.7777777777777778,
              "#fb9f3a"
             ],
             [
              0.8888888888888888,
              "#fdca26"
             ],
             [
              1,
              "#f0f921"
             ]
            ],
            "type": "histogram2d"
           }
          ],
          "histogram2dcontour": [
           {
            "colorbar": {
             "outlinewidth": 0,
             "ticks": ""
            },
            "colorscale": [
             [
              0,
              "#0d0887"
             ],
             [
              0.1111111111111111,
              "#46039f"
             ],
             [
              0.2222222222222222,
              "#7201a8"
             ],
             [
              0.3333333333333333,
              "#9c179e"
             ],
             [
              0.4444444444444444,
              "#bd3786"
             ],
             [
              0.5555555555555556,
              "#d8576b"
             ],
             [
              0.6666666666666666,
              "#ed7953"
             ],
             [
              0.7777777777777778,
              "#fb9f3a"
             ],
             [
              0.8888888888888888,
              "#fdca26"
             ],
             [
              1,
              "#f0f921"
             ]
            ],
            "type": "histogram2dcontour"
           }
          ],
          "mesh3d": [
           {
            "colorbar": {
             "outlinewidth": 0,
             "ticks": ""
            },
            "type": "mesh3d"
           }
          ],
          "parcoords": [
           {
            "line": {
             "colorbar": {
              "outlinewidth": 0,
              "ticks": ""
             }
            },
            "type": "parcoords"
           }
          ],
          "pie": [
           {
            "automargin": true,
            "type": "pie"
           }
          ],
          "scatter": [
           {
            "fillpattern": {
             "fillmode": "overlay",
             "size": 10,
             "solidity": 0.2
            },
            "type": "scatter"
           }
          ],
          "scatter3d": [
           {
            "line": {
             "colorbar": {
              "outlinewidth": 0,
              "ticks": ""
             }
            },
            "marker": {
             "colorbar": {
              "outlinewidth": 0,
              "ticks": ""
             }
            },
            "type": "scatter3d"
           }
          ],
          "scattercarpet": [
           {
            "marker": {
             "colorbar": {
              "outlinewidth": 0,
              "ticks": ""
             }
            },
            "type": "scattercarpet"
           }
          ],
          "scattergeo": [
           {
            "marker": {
             "colorbar": {
              "outlinewidth": 0,
              "ticks": ""
             }
            },
            "type": "scattergeo"
           }
          ],
          "scattergl": [
           {
            "marker": {
             "colorbar": {
              "outlinewidth": 0,
              "ticks": ""
             }
            },
            "type": "scattergl"
           }
          ],
          "scattermap": [
           {
            "marker": {
             "colorbar": {
              "outlinewidth": 0,
              "ticks": ""
             }
            },
            "type": "scattermap"
           }
          ],
          "scattermapbox": [
           {
            "marker": {
             "colorbar": {
              "outlinewidth": 0,
              "ticks": ""
             }
            },
            "type": "scattermapbox"
           }
          ],
          "scatterpolar": [
           {
            "marker": {
             "colorbar": {
              "outlinewidth": 0,
              "ticks": ""
             }
            },
            "type": "scatterpolar"
           }
          ],
          "scatterpolargl": [
           {
            "marker": {
             "colorbar": {
              "outlinewidth": 0,
              "ticks": ""
             }
            },
            "type": "scatterpolargl"
           }
          ],
          "scatterternary": [
           {
            "marker": {
             "colorbar": {
              "outlinewidth": 0,
              "ticks": ""
             }
            },
            "type": "scatterternary"
           }
          ],
          "surface": [
           {
            "colorbar": {
             "outlinewidth": 0,
             "ticks": ""
            },
            "colorscale": [
             [
              0,
              "#0d0887"
             ],
             [
              0.1111111111111111,
              "#46039f"
             ],
             [
              0.2222222222222222,
              "#7201a8"
             ],
             [
              0.3333333333333333,
              "#9c179e"
             ],
             [
              0.4444444444444444,
              "#bd3786"
             ],
             [
              0.5555555555555556,
              "#d8576b"
             ],
             [
              0.6666666666666666,
              "#ed7953"
             ],
             [
              0.7777777777777778,
              "#fb9f3a"
             ],
             [
              0.8888888888888888,
              "#fdca26"
             ],
             [
              1,
              "#f0f921"
             ]
            ],
            "type": "surface"
           }
          ],
          "table": [
           {
            "cells": {
             "fill": {
              "color": "#EBF0F8"
             },
             "line": {
              "color": "white"
             }
            },
            "header": {
             "fill": {
              "color": "#C8D4E3"
             },
             "line": {
              "color": "white"
             }
            },
            "type": "table"
           }
          ]
         },
         "layout": {
          "annotationdefaults": {
           "arrowcolor": "#2a3f5f",
           "arrowhead": 0,
           "arrowwidth": 1,
           "font": {
            "color": "black",
            "size": 32
           }
          },
          "autotypenumbers": "strict",
          "barmode": "group",
          "coloraxis": {
           "colorbar": {
            "outlinewidth": 0,
            "ticks": ""
           }
          },
          "colorscale": {
           "diverging": [
            [
             0,
             "#8e0152"
            ],
            [
             0.1,
             "#c51b7d"
            ],
            [
             0.2,
             "#de77ae"
            ],
            [
             0.3,
             "#f1b6da"
            ],
            [
             0.4,
             "#fde0ef"
            ],
            [
             0.5,
             "#f7f7f7"
            ],
            [
             0.6,
             "#e6f5d0"
            ],
            [
             0.7,
             "#b8e186"
            ],
            [
             0.8,
             "#7fbc41"
            ],
            [
             0.9,
             "#4d9221"
            ],
            [
             1,
             "#276419"
            ]
           ],
           "sequential": [
            [
             0,
             "#0d0887"
            ],
            [
             0.1111111111111111,
             "#46039f"
            ],
            [
             0.2222222222222222,
             "#7201a8"
            ],
            [
             0.3333333333333333,
             "#9c179e"
            ],
            [
             0.4444444444444444,
             "#bd3786"
            ],
            [
             0.5555555555555556,
             "#d8576b"
            ],
            [
             0.6666666666666666,
             "#ed7953"
            ],
            [
             0.7777777777777778,
             "#fb9f3a"
            ],
            [
             0.8888888888888888,
             "#fdca26"
            ],
            [
             1,
             "#f0f921"
            ]
           ],
           "sequentialminus": [
            [
             0,
             "#0d0887"
            ],
            [
             0.1111111111111111,
             "#46039f"
            ],
            [
             0.2222222222222222,
             "#7201a8"
            ],
            [
             0.3333333333333333,
             "#9c179e"
            ],
            [
             0.4444444444444444,
             "#bd3786"
            ],
            [
             0.5555555555555556,
             "#d8576b"
            ],
            [
             0.6666666666666666,
             "#ed7953"
            ],
            [
             0.7777777777777778,
             "#fb9f3a"
            ],
            [
             0.8888888888888888,
             "#fdca26"
            ],
            [
             1,
             "#f0f921"
            ]
           ]
          },
          "colorway": [
           "#cac8c8",
           "#cac8c8",
           "#cac8c8",
           "#cac8c8",
           "#cac8c8",
           "#cac8c8",
           "#cac8c8",
           "#cac8c8"
          ],
          "font": {
           "color": "black",
           "family": "Arial, sans-serif",
           "size": 32
          },
          "geo": {
           "bgcolor": "white",
           "lakecolor": "white",
           "landcolor": "#E5ECF6",
           "showlakes": true,
           "showland": true,
           "subunitcolor": "white"
          },
          "hoverlabel": {
           "align": "left"
          },
          "hovermode": "closest",
          "legend": {
           "bgcolor": "rgba(0,0,0,0)",
           "bordercolor": "rgba(0,0,0,0)",
           "borderwidth": 0,
           "font": {
            "size": 32
           }
          },
          "mapbox": {
           "style": "light"
          },
          "margin": {
           "b": 36,
           "l": 60,
           "r": 20,
           "t": 42
          },
          "paper_bgcolor": "white",
          "plot_bgcolor": "white",
          "polar": {
           "angularaxis": {
            "gridcolor": "white",
            "linecolor": "white",
            "ticks": ""
           },
           "bgcolor": "#E5ECF6",
           "radialaxis": {
            "gridcolor": "white",
            "linecolor": "white",
            "ticks": ""
           }
          },
          "scene": {
           "xaxis": {
            "backgroundcolor": "#E5ECF6",
            "gridcolor": "white",
            "gridwidth": 2,
            "linecolor": "white",
            "showbackground": true,
            "ticks": "",
            "zerolinecolor": "white"
           },
           "yaxis": {
            "backgroundcolor": "#E5ECF6",
            "gridcolor": "white",
            "gridwidth": 2,
            "linecolor": "white",
            "showbackground": true,
            "ticks": "",
            "zerolinecolor": "white"
           },
           "zaxis": {
            "backgroundcolor": "#E5ECF6",
            "gridcolor": "white",
            "gridwidth": 2,
            "linecolor": "white",
            "showbackground": true,
            "ticks": "",
            "zerolinecolor": "white"
           }
          },
          "shapedefaults": {
           "line": {
            "color": "#2a3f5f"
           }
          },
          "ternary": {
           "aaxis": {
            "gridcolor": "white",
            "linecolor": "white",
            "ticks": ""
           },
           "baxis": {
            "gridcolor": "white",
            "linecolor": "white",
            "ticks": ""
           },
           "bgcolor": "#E5ECF6",
           "caxis": {
            "gridcolor": "white",
            "linecolor": "white",
            "ticks": ""
           }
          },
          "title": {
           "font": {
            "color": "black",
            "size": 32
           },
           "x": 0
          },
          "uniformtext": {
           "minsize": 32,
           "mode": "hide"
          },
          "xaxis": {
           "automargin": true,
           "gridcolor": "white",
           "linecolor": "black",
           "linewidth": 0.6,
           "mirror": true,
           "showgrid": false,
           "tickfont": {
            "size": 32
           },
           "ticks": "outside",
           "title": {
            "font": {
             "size": 32
            },
            "standoff": 6
           },
           "zeroline": false,
           "zerolinecolor": "white",
           "zerolinewidth": 2
          },
          "yaxis": {
           "automargin": true,
           "gridcolor": "#e9e9e9",
           "gridwidth": 0.5,
           "linecolor": "black",
           "linewidth": 0.6,
           "mirror": true,
           "showgrid": false,
           "tickfont": {
            "size": 32
           },
           "ticks": "outside",
           "title": {
            "font": {
             "size": 32
            },
            "standoff": 6
           },
           "zeroline": false,
           "zerolinecolor": "white",
           "zerolinewidth": 2
          }
         }
        },
        "xaxis": {
         "anchor": "y",
         "domain": [
          0,
          1
         ],
         "title": {
          "text": "Disparity Value"
         }
        },
        "yaxis": {
         "anchor": "x",
         "domain": [
          0,
          1
         ],
         "range": [
          0,
          18000
         ],
         "title": {
          "text": "#Pixel with Disparity Value"
         }
        }
       }
      }
     },
     "metadata": {},
     "output_type": "display_data"
    },
    {
     "data": {
      "application/vnd.plotly.v1+json": {
       "config": {
        "plotlyServerURL": "https://plot.ly"
       },
       "data": [
        {
         "hovertemplate": "Disparity Value=%{x}<br>#Pixel with Disparity Value=%{y}<extra></extra>",
         "insidetextfont": {
          "color": "black"
         },
         "legendgroup": "",
         "marker": {
          "color": "#cac8c8",
          "line": {
           "color": "black",
           "width": 0.8
          },
          "pattern": {
           "shape": ""
          }
         },
         "name": "",
         "orientation": "v",
         "showlegend": false,
         "textfont": {
          "color": "black"
         },
         "textposition": "auto",
         "type": "bar",
         "x": {
          "bdata": "AAECAwQFBgcICQoLDA0ODxAREhMUFRYXGBkaGxwdHh8gISIjJCUmJygpKissLS4vMDEyMzQ1Njc4OTo7PD0+P0BBQkNERUZHSElKS0xNTk9QUVJTVFVWV1hZWltcXV5fYGFiY2RlZmdoaWprbG1ub3BxcnN0dXZ3eHl6e3x9fn8=",
          "dtype": "i1"
         },
         "xaxis": "x",
         "y": {
          "bdata": "8QmkkvOpyEB3sN9qIy7AQPSyiE/A4cBAYb/VxjBbwEAt4hNIZWu8QGtjaLqDh7lA9lttDE1qt0CT87KIjwy1QK42hqY7F7RAGZruYD+PskC/1cbQ9NGwQB7st9rYQ7BArjaGpjvtrkAjPoFU8oGtQIv4BFJJZaxAbQxNd7CaqkBSyXlZxO+oQBbxCaSSjKlAGZruYD/sp0BGfAKp5GunQEgl52WRg6dAuNoYmm5bpkCBVHJelrylQBGfQCo5AaZAcl4W8Qm1pEBeFvEJJJmkQGtjaLqD4KRAoukO9tsopECw32pjaCukQNhvtTE03qNAAAAAAAAxo0B/q42haZOjQPZbbQxNZKNAn0AqOa+LokD+VhtD03aiQGNouoP9IaJADE13sF8VokCdl0V8gpeiQPSyiE+gKKJACqSS8zKgoUBrY2i6g6ahQCiQSs7LuqFA7LfaGJq6oUAjPoFUcs2hQC3iE0ilhqFAq42h6Q49oUAH+602hnGhQIFUcl6W9KBA+QRSyfnjoEAAAAAAANigQEgl52WR56BAD/ZbbYzxoEBhv9XGULGgQCiQSs7LdKBAY2i6g/2ooEAKpJLzsmigQEgl52WRKKBA4GpjaDotoEDgamNoOiugQEZ8AqnkLKBAG0PTHWwhoED+VhtDUwagQAxNd7Dfpp9AL4v4BFI1oEC/1cbQ9CGgQLqD/VabhaBA8QmkkvPAoEDWxtB0ByqgQAAAAAAA/Z9AXhbxCaQioECw32pjaAKgQJ2XRXyCVaBAGZruYD94oEC1MTTdQUygQNbG0HSHY6BAkErOyyJAoEC42hia7nWgQAqkkvOyzKBAD/ZbbYySoEAUSCXn5Z6gQDzYb7UxvqBA1sbQdAeHoEByXhbxCbegQD6BVHLeCKFAFEgl5+XDoEDst9oYmt+gQIT9VhvDJKFA/lYbQ1MdoUBQIJWcFyKhQI6h6Q72R6FA6g72W+2eoUB1B/utNuqhQFAglZwX6aFAcl4W8YkHokB/q42h6XmiQG0MTXewRaJApJLzsoh+okC42hiabhOjQIv4BFJJHKNAJedlEZ9zo0A3hqY72AukQAf7rTYGsaNA2G+1MTQWpEDbGJruYHOkQNbG0HQHkaRA7LfaGBoVpUCJTyCVHI2lQC3iE0gl/KVA4GpjaDo9p0B1B/uttqenQGtjaLqDwqhAgVRyXhatqUACqeS8rPapQJPzsojP4apAs4hPIJVKrEC42hia7kWtQNMd7Ldaw65Ak/OyiM93sEC6g/1WGyeyQBma7mD/zrNAY2i6gz3ctUBLzssifou4QHJeFvGJe7tAnZdFfILvvkB3sN9qA7zAQC3iE0ilh8BA6g72W+0vskDH0HQHexO7QA==",
          "dtype": "f8"
         },
         "yaxis": "y"
        }
       ],
       "layout": {
        "annotations": [
         {
          "font": {
           "size": 28
          },
          "showarrow": false,
          "text": "Min: 0.00,  Max: 127.00,\n &mu;=61.97, σ=44.24",
          "x": 0.5,
          "xref": "paper",
          "y": -0.11,
          "yref": "paper",
          "yshift": 350
         }
        ],
        "barmode": "relative",
        "legend": {
         "tracegroupgap": 0
        },
        "margin": {
         "t": 60
        },
        "template": {
         "data": {
          "bar": [
           {
            "error_x": {
             "color": "#2a3f5f"
            },
            "error_y": {
             "color": "#2a3f5f"
            },
            "insidetextfont": {
             "color": "black",
             "size": 32
            },
            "marker": {
             "color": "#cac8c8",
             "line": {
              "color": "black",
              "width": 0.8
             },
             "pattern": {
              "fillmode": "overlay",
              "size": 10,
              "solidity": 0.2
             }
            },
            "opacity": 1,
            "textfont": {
             "color": "black",
             "size": 32
            },
            "textposition": "auto",
            "texttemplate": "%{y:.0f}",
            "type": "bar"
           }
          ],
          "barpolar": [
           {
            "marker": {
             "line": {
              "color": "#E5ECF6",
              "width": 0.5
             },
             "pattern": {
              "fillmode": "overlay",
              "size": 10,
              "solidity": 0.2
             }
            },
            "type": "barpolar"
           }
          ],
          "carpet": [
           {
            "aaxis": {
             "endlinecolor": "#2a3f5f",
             "gridcolor": "white",
             "linecolor": "white",
             "minorgridcolor": "white",
             "startlinecolor": "#2a3f5f"
            },
            "baxis": {
             "endlinecolor": "#2a3f5f",
             "gridcolor": "white",
             "linecolor": "white",
             "minorgridcolor": "white",
             "startlinecolor": "#2a3f5f"
            },
            "type": "carpet"
           }
          ],
          "choropleth": [
           {
            "colorbar": {
             "outlinewidth": 0,
             "ticks": ""
            },
            "type": "choropleth"
           }
          ],
          "contour": [
           {
            "colorbar": {
             "outlinewidth": 0,
             "ticks": ""
            },
            "colorscale": [
             [
              0,
              "#0d0887"
             ],
             [
              0.1111111111111111,
              "#46039f"
             ],
             [
              0.2222222222222222,
              "#7201a8"
             ],
             [
              0.3333333333333333,
              "#9c179e"
             ],
             [
              0.4444444444444444,
              "#bd3786"
             ],
             [
              0.5555555555555556,
              "#d8576b"
             ],
             [
              0.6666666666666666,
              "#ed7953"
             ],
             [
              0.7777777777777778,
              "#fb9f3a"
             ],
             [
              0.8888888888888888,
              "#fdca26"
             ],
             [
              1,
              "#f0f921"
             ]
            ],
            "type": "contour"
           }
          ],
          "contourcarpet": [
           {
            "colorbar": {
             "outlinewidth": 0,
             "ticks": ""
            },
            "type": "contourcarpet"
           }
          ],
          "heatmap": [
           {
            "colorbar": {
             "outlinewidth": 0,
             "ticks": ""
            },
            "colorscale": [
             [
              0,
              "#0d0887"
             ],
             [
              0.1111111111111111,
              "#46039f"
             ],
             [
              0.2222222222222222,
              "#7201a8"
             ],
             [
              0.3333333333333333,
              "#9c179e"
             ],
             [
              0.4444444444444444,
              "#bd3786"
             ],
             [
              0.5555555555555556,
              "#d8576b"
             ],
             [
              0.6666666666666666,
              "#ed7953"
             ],
             [
              0.7777777777777778,
              "#fb9f3a"
             ],
             [
              0.8888888888888888,
              "#fdca26"
             ],
             [
              1,
              "#f0f921"
             ]
            ],
            "type": "heatmap"
           }
          ],
          "histogram": [
           {
            "marker": {
             "pattern": {
              "fillmode": "overlay",
              "size": 10,
              "solidity": 0.2
             }
            },
            "type": "histogram"
           }
          ],
          "histogram2d": [
           {
            "colorbar": {
             "outlinewidth": 0,
             "ticks": ""
            },
            "colorscale": [
             [
              0,
              "#0d0887"
             ],
             [
              0.1111111111111111,
              "#46039f"
             ],
             [
              0.2222222222222222,
              "#7201a8"
             ],
             [
              0.3333333333333333,
              "#9c179e"
             ],
             [
              0.4444444444444444,
              "#bd3786"
             ],
             [
              0.5555555555555556,
              "#d8576b"
             ],
             [
              0.6666666666666666,
              "#ed7953"
             ],
             [
              0.7777777777777778,
              "#fb9f3a"
             ],
             [
              0.8888888888888888,
              "#fdca26"
             ],
             [
              1,
              "#f0f921"
             ]
            ],
            "type": "histogram2d"
           }
          ],
          "histogram2dcontour": [
           {
            "colorbar": {
             "outlinewidth": 0,
             "ticks": ""
            },
            "colorscale": [
             [
              0,
              "#0d0887"
             ],
             [
              0.1111111111111111,
              "#46039f"
             ],
             [
              0.2222222222222222,
              "#7201a8"
             ],
             [
              0.3333333333333333,
              "#9c179e"
             ],
             [
              0.4444444444444444,
              "#bd3786"
             ],
             [
              0.5555555555555556,
              "#d8576b"
             ],
             [
              0.6666666666666666,
              "#ed7953"
             ],
             [
              0.7777777777777778,
              "#fb9f3a"
             ],
             [
              0.8888888888888888,
              "#fdca26"
             ],
             [
              1,
              "#f0f921"
             ]
            ],
            "type": "histogram2dcontour"
           }
          ],
          "mesh3d": [
           {
            "colorbar": {
             "outlinewidth": 0,
             "ticks": ""
            },
            "type": "mesh3d"
           }
          ],
          "parcoords": [
           {
            "line": {
             "colorbar": {
              "outlinewidth": 0,
              "ticks": ""
             }
            },
            "type": "parcoords"
           }
          ],
          "pie": [
           {
            "automargin": true,
            "type": "pie"
           }
          ],
          "scatter": [
           {
            "fillpattern": {
             "fillmode": "overlay",
             "size": 10,
             "solidity": 0.2
            },
            "type": "scatter"
           }
          ],
          "scatter3d": [
           {
            "line": {
             "colorbar": {
              "outlinewidth": 0,
              "ticks": ""
             }
            },
            "marker": {
             "colorbar": {
              "outlinewidth": 0,
              "ticks": ""
             }
            },
            "type": "scatter3d"
           }
          ],
          "scattercarpet": [
           {
            "marker": {
             "colorbar": {
              "outlinewidth": 0,
              "ticks": ""
             }
            },
            "type": "scattercarpet"
           }
          ],
          "scattergeo": [
           {
            "marker": {
             "colorbar": {
              "outlinewidth": 0,
              "ticks": ""
             }
            },
            "type": "scattergeo"
           }
          ],
          "scattergl": [
           {
            "marker": {
             "colorbar": {
              "outlinewidth": 0,
              "ticks": ""
             }
            },
            "type": "scattergl"
           }
          ],
          "scattermap": [
           {
            "marker": {
             "colorbar": {
              "outlinewidth": 0,
              "ticks": ""
             }
            },
            "type": "scattermap"
           }
          ],
          "scattermapbox": [
           {
            "marker": {
             "colorbar": {
              "outlinewidth": 0,
              "ticks": ""
             }
            },
            "type": "scattermapbox"
           }
          ],
          "scatterpolar": [
           {
            "marker": {
             "colorbar": {
              "outlinewidth": 0,
              "ticks": ""
             }
            },
            "type": "scatterpolar"
           }
          ],
          "scatterpolargl": [
           {
            "marker": {
             "colorbar": {
              "outlinewidth": 0,
              "ticks": ""
             }
            },
            "type": "scatterpolargl"
           }
          ],
          "scatterternary": [
           {
            "marker": {
             "colorbar": {
              "outlinewidth": 0,
              "ticks": ""
             }
            },
            "type": "scatterternary"
           }
          ],
          "surface": [
           {
            "colorbar": {
             "outlinewidth": 0,
             "ticks": ""
            },
            "colorscale": [
             [
              0,
              "#0d0887"
             ],
             [
              0.1111111111111111,
              "#46039f"
             ],
             [
              0.2222222222222222,
              "#7201a8"
             ],
             [
              0.3333333333333333,
              "#9c179e"
             ],
             [
              0.4444444444444444,
              "#bd3786"
             ],
             [
              0.5555555555555556,
              "#d8576b"
             ],
             [
              0.6666666666666666,
              "#ed7953"
             ],
             [
              0.7777777777777778,
              "#fb9f3a"
             ],
             [
              0.8888888888888888,
              "#fdca26"
             ],
             [
              1,
              "#f0f921"
             ]
            ],
            "type": "surface"
           }
          ],
          "table": [
           {
            "cells": {
             "fill": {
              "color": "#EBF0F8"
             },
             "line": {
              "color": "white"
             }
            },
            "header": {
             "fill": {
              "color": "#C8D4E3"
             },
             "line": {
              "color": "white"
             }
            },
            "type": "table"
           }
          ]
         },
         "layout": {
          "annotationdefaults": {
           "arrowcolor": "#2a3f5f",
           "arrowhead": 0,
           "arrowwidth": 1,
           "font": {
            "color": "black",
            "size": 32
           }
          },
          "autotypenumbers": "strict",
          "barmode": "group",
          "coloraxis": {
           "colorbar": {
            "outlinewidth": 0,
            "ticks": ""
           }
          },
          "colorscale": {
           "diverging": [
            [
             0,
             "#8e0152"
            ],
            [
             0.1,
             "#c51b7d"
            ],
            [
             0.2,
             "#de77ae"
            ],
            [
             0.3,
             "#f1b6da"
            ],
            [
             0.4,
             "#fde0ef"
            ],
            [
             0.5,
             "#f7f7f7"
            ],
            [
             0.6,
             "#e6f5d0"
            ],
            [
             0.7,
             "#b8e186"
            ],
            [
             0.8,
             "#7fbc41"
            ],
            [
             0.9,
             "#4d9221"
            ],
            [
             1,
             "#276419"
            ]
           ],
           "sequential": [
            [
             0,
             "#0d0887"
            ],
            [
             0.1111111111111111,
             "#46039f"
            ],
            [
             0.2222222222222222,
             "#7201a8"
            ],
            [
             0.3333333333333333,
             "#9c179e"
            ],
            [
             0.4444444444444444,
             "#bd3786"
            ],
            [
             0.5555555555555556,
             "#d8576b"
            ],
            [
             0.6666666666666666,
             "#ed7953"
            ],
            [
             0.7777777777777778,
             "#fb9f3a"
            ],
            [
             0.8888888888888888,
             "#fdca26"
            ],
            [
             1,
             "#f0f921"
            ]
           ],
           "sequentialminus": [
            [
             0,
             "#0d0887"
            ],
            [
             0.1111111111111111,
             "#46039f"
            ],
            [
             0.2222222222222222,
             "#7201a8"
            ],
            [
             0.3333333333333333,
             "#9c179e"
            ],
            [
             0.4444444444444444,
             "#bd3786"
            ],
            [
             0.5555555555555556,
             "#d8576b"
            ],
            [
             0.6666666666666666,
             "#ed7953"
            ],
            [
             0.7777777777777778,
             "#fb9f3a"
            ],
            [
             0.8888888888888888,
             "#fdca26"
            ],
            [
             1,
             "#f0f921"
            ]
           ]
          },
          "colorway": [
           "#cac8c8",
           "#cac8c8",
           "#cac8c8",
           "#cac8c8",
           "#cac8c8",
           "#cac8c8",
           "#cac8c8",
           "#cac8c8"
          ],
          "font": {
           "color": "black",
           "family": "Arial, sans-serif",
           "size": 32
          },
          "geo": {
           "bgcolor": "white",
           "lakecolor": "white",
           "landcolor": "#E5ECF6",
           "showlakes": true,
           "showland": true,
           "subunitcolor": "white"
          },
          "hoverlabel": {
           "align": "left"
          },
          "hovermode": "closest",
          "legend": {
           "bgcolor": "rgba(0,0,0,0)",
           "bordercolor": "rgba(0,0,0,0)",
           "borderwidth": 0,
           "font": {
            "size": 32
           }
          },
          "mapbox": {
           "style": "light"
          },
          "margin": {
           "b": 36,
           "l": 60,
           "r": 20,
           "t": 42
          },
          "paper_bgcolor": "white",
          "plot_bgcolor": "white",
          "polar": {
           "angularaxis": {
            "gridcolor": "white",
            "linecolor": "white",
            "ticks": ""
           },
           "bgcolor": "#E5ECF6",
           "radialaxis": {
            "gridcolor": "white",
            "linecolor": "white",
            "ticks": ""
           }
          },
          "scene": {
           "xaxis": {
            "backgroundcolor": "#E5ECF6",
            "gridcolor": "white",
            "gridwidth": 2,
            "linecolor": "white",
            "showbackground": true,
            "ticks": "",
            "zerolinecolor": "white"
           },
           "yaxis": {
            "backgroundcolor": "#E5ECF6",
            "gridcolor": "white",
            "gridwidth": 2,
            "linecolor": "white",
            "showbackground": true,
            "ticks": "",
            "zerolinecolor": "white"
           },
           "zaxis": {
            "backgroundcolor": "#E5ECF6",
            "gridcolor": "white",
            "gridwidth": 2,
            "linecolor": "white",
            "showbackground": true,
            "ticks": "",
            "zerolinecolor": "white"
           }
          },
          "shapedefaults": {
           "line": {
            "color": "#2a3f5f"
           }
          },
          "ternary": {
           "aaxis": {
            "gridcolor": "white",
            "linecolor": "white",
            "ticks": ""
           },
           "baxis": {
            "gridcolor": "white",
            "linecolor": "white",
            "ticks": ""
           },
           "bgcolor": "#E5ECF6",
           "caxis": {
            "gridcolor": "white",
            "linecolor": "white",
            "ticks": ""
           }
          },
          "title": {
           "font": {
            "color": "black",
            "size": 32
           },
           "x": 0
          },
          "uniformtext": {
           "minsize": 32,
           "mode": "hide"
          },
          "xaxis": {
           "automargin": true,
           "gridcolor": "white",
           "linecolor": "black",
           "linewidth": 0.6,
           "mirror": true,
           "showgrid": false,
           "tickfont": {
            "size": 32
           },
           "ticks": "outside",
           "title": {
            "font": {
             "size": 32
            },
            "standoff": 6
           },
           "zeroline": false,
           "zerolinecolor": "white",
           "zerolinewidth": 2
          },
          "yaxis": {
           "automargin": true,
           "gridcolor": "#e9e9e9",
           "gridwidth": 0.5,
           "linecolor": "black",
           "linewidth": 0.6,
           "mirror": true,
           "showgrid": false,
           "tickfont": {
            "size": 32
           },
           "ticks": "outside",
           "title": {
            "font": {
             "size": 32
            },
            "standoff": 6
           },
           "zeroline": false,
           "zerolinecolor": "white",
           "zerolinewidth": 2
          }
         }
        },
        "xaxis": {
         "anchor": "y",
         "domain": [
          0,
          1
         ],
         "title": {
          "text": "Disparity Value"
         }
        },
        "yaxis": {
         "anchor": "x",
         "domain": [
          0,
          1
         ],
         "range": [
          0,
          18000
         ],
         "title": {
          "text": "#Pixel with Disparity Value"
         }
        }
       }
      }
     },
     "metadata": {},
     "output_type": "display_data"
    },
    {
     "data": {
      "application/vnd.plotly.v1+json": {
       "config": {
        "plotlyServerURL": "https://plot.ly"
       },
       "data": [
        {
         "hovertemplate": "Disparity Value=%{x}<br>#Pixel with Disparity Value=%{y}<extra></extra>",
         "insidetextfont": {
          "color": "black"
         },
         "legendgroup": "",
         "marker": {
          "color": "#cac8c8",
          "line": {
           "color": "black",
           "width": 0.8
          },
          "pattern": {
           "shape": ""
          }
         },
         "name": "",
         "orientation": "v",
         "showlegend": false,
         "textfont": {
          "color": "black"
         },
         "textposition": "auto",
         "type": "bar",
         "x": {
          "bdata": "AAECAwQFBgcICQoLDA0ODxAREhMUFRYXGBkaGxwdHh8gISIjJCUmJygpKissLS4vMDEyMzQ1Njc4OTo7PD0+P0BBQkNERUZHSElKS0xNTk9QUVJTVFVWV1hZWltcXV5fYGFiY2RlZmdoaWprbG1ub3BxcnN0dXZ3eHl6e3x9fn8=",
          "dtype": "i1"
         },
         "xaxis": "x",
         "y": {
          "bdata": "LtiCLeBH0EDv7u7uTn/AQAu2YAsGicFAwRZswcaOwEAcx3EcpwC6QBdswRbsPrlA2IIt2CI8t0CJiIiIiBazQNiCLdhiybJAchzHcbynsEBKn/RJH+iuQDmO4zjuA7BA9Umf9IkqrUBhC7ZgC5OrQEqf9EnfTqxAiYiIiAi5qECrqqqq6gynQNInfdJnBqpAYQu2YMvEpkAzMzMzc8KmQGzBFmwBWahAC7ZgC7ZlpUBmZmZmpqylQIMt2IItD6dAZmZmZuampECJiIiIiISlQGZmZmbmPaVALtiCLRg/o0De3d3dXeKkQGzBFmzBq6RAVVVVVRUPo0DYgi3YQmulQC7Ygi0YkqVAZmZmZuYNpEDe3d3dXQakQERERETEO6NAwRZswZYtokC8u7u7OyCkQMdxHMfxoKJAfdInfVJAoUBbsAVb8P+iQEREREQEbqJA0id90melokBQ+qRPetGiQD/pkz6ppKFAzczMzAx2okB90id90pGiQFuwBVswbaFAIiIiIiLtokDpkz7pE5iiQFVVVVWVIqFAjuM4jmMWokBKn/RJH2ihQImIiIiI9qBAq6qqqipdokD6pE/6ZHaiQFD6pE96c6FAYQu2YEt2oUB3d3d3t9CgQIMt2IItJqJAZmZmZiYEo0Au2IIt2D6hQJqZmZkZ3aBAmpmZmRmToECDLdiC7YigQBERERER1KFAjuM4jmNOoUAAAAAAQJWgQPVJn/SJEaJAtmALtqBZoUAAAAAAAAqhQGzBFmyBzqJAVVVVVdWMokAXbMEW7AqiQIMt2ILtk6JAq6qqqmrNoUC2YAu2IDCiQH3SJ31SnqJAn/RJn3QboUDSJ33SJ2GhQPqkT/okXKJAmpmZmZnmoUB3d3d3N2iiQOmTPumTtaJAP+mTPil9oUDNzMzMTN2hQEqf9EnfhKFAYQu2YAtjoUA5juM4TimiQDmO4ziObqJAiYiIiAhIokCO4ziOowyjQC7Ygi0YS6NAiYiIiMg9o0A/6ZM+6UmkQJQ+6ZO+cKNARERERESWo0BKn/RJ35SlQNInfdKnHqRAVVVVVVX7o0DkOI7juDylQAu2YAt2zqNAx3EcxzFipEC8u7u7+1ylQGZmZmZmJ6VAKH3SJz1/pkDNzMzMjLylQKVP+qQPsqVAIiIiIqJap0B90id9Eq2nQOmTPunTbqhAiYiIiMhkqkByHMdxnECpQKVP+qSPeKpAvLu7u3t0rUDpkz7pk9OuQMEWbMGWjLBAsAVbsAUgsUB90id9UvyxQAu2YAvWILRAP+mTPkm4tUBQ+qRPugO4QGELtmDL8rtAUPqkT3prvkAGW7AFewPAQOQ4juNY08BAbMEWbGHjtECamZmZya3CQA==",
          "dtype": "f8"
         },
         "yaxis": "y"
        }
       ],
       "layout": {
        "annotations": [
         {
          "font": {
           "size": 28
          },
          "showarrow": false,
          "text": "Min: 0.00,  Max: 127.00,\n &mu;=62.40, σ=44.14",
          "x": 0.5,
          "xref": "paper",
          "y": -0.11,
          "yref": "paper",
          "yshift": 350
         }
        ],
        "barmode": "relative",
        "legend": {
         "tracegroupgap": 0
        },
        "margin": {
         "t": 60
        },
        "template": {
         "data": {
          "bar": [
           {
            "error_x": {
             "color": "#2a3f5f"
            },
            "error_y": {
             "color": "#2a3f5f"
            },
            "insidetextfont": {
             "color": "black",
             "size": 32
            },
            "marker": {
             "color": "#cac8c8",
             "line": {
              "color": "black",
              "width": 0.8
             },
             "pattern": {
              "fillmode": "overlay",
              "size": 10,
              "solidity": 0.2
             }
            },
            "opacity": 1,
            "textfont": {
             "color": "black",
             "size": 32
            },
            "textposition": "auto",
            "texttemplate": "%{y:.0f}",
            "type": "bar"
           }
          ],
          "barpolar": [
           {
            "marker": {
             "line": {
              "color": "#E5ECF6",
              "width": 0.5
             },
             "pattern": {
              "fillmode": "overlay",
              "size": 10,
              "solidity": 0.2
             }
            },
            "type": "barpolar"
           }
          ],
          "carpet": [
           {
            "aaxis": {
             "endlinecolor": "#2a3f5f",
             "gridcolor": "white",
             "linecolor": "white",
             "minorgridcolor": "white",
             "startlinecolor": "#2a3f5f"
            },
            "baxis": {
             "endlinecolor": "#2a3f5f",
             "gridcolor": "white",
             "linecolor": "white",
             "minorgridcolor": "white",
             "startlinecolor": "#2a3f5f"
            },
            "type": "carpet"
           }
          ],
          "choropleth": [
           {
            "colorbar": {
             "outlinewidth": 0,
             "ticks": ""
            },
            "type": "choropleth"
           }
          ],
          "contour": [
           {
            "colorbar": {
             "outlinewidth": 0,
             "ticks": ""
            },
            "colorscale": [
             [
              0,
              "#0d0887"
             ],
             [
              0.1111111111111111,
              "#46039f"
             ],
             [
              0.2222222222222222,
              "#7201a8"
             ],
             [
              0.3333333333333333,
              "#9c179e"
             ],
             [
              0.4444444444444444,
              "#bd3786"
             ],
             [
              0.5555555555555556,
              "#d8576b"
             ],
             [
              0.6666666666666666,
              "#ed7953"
             ],
             [
              0.7777777777777778,
              "#fb9f3a"
             ],
             [
              0.8888888888888888,
              "#fdca26"
             ],
             [
              1,
              "#f0f921"
             ]
            ],
            "type": "contour"
           }
          ],
          "contourcarpet": [
           {
            "colorbar": {
             "outlinewidth": 0,
             "ticks": ""
            },
            "type": "contourcarpet"
           }
          ],
          "heatmap": [
           {
            "colorbar": {
             "outlinewidth": 0,
             "ticks": ""
            },
            "colorscale": [
             [
              0,
              "#0d0887"
             ],
             [
              0.1111111111111111,
              "#46039f"
             ],
             [
              0.2222222222222222,
              "#7201a8"
             ],
             [
              0.3333333333333333,
              "#9c179e"
             ],
             [
              0.4444444444444444,
              "#bd3786"
             ],
             [
              0.5555555555555556,
              "#d8576b"
             ],
             [
              0.6666666666666666,
              "#ed7953"
             ],
             [
              0.7777777777777778,
              "#fb9f3a"
             ],
             [
              0.8888888888888888,
              "#fdca26"
             ],
             [
              1,
              "#f0f921"
             ]
            ],
            "type": "heatmap"
           }
          ],
          "histogram": [
           {
            "marker": {
             "pattern": {
              "fillmode": "overlay",
              "size": 10,
              "solidity": 0.2
             }
            },
            "type": "histogram"
           }
          ],
          "histogram2d": [
           {
            "colorbar": {
             "outlinewidth": 0,
             "ticks": ""
            },
            "colorscale": [
             [
              0,
              "#0d0887"
             ],
             [
              0.1111111111111111,
              "#46039f"
             ],
             [
              0.2222222222222222,
              "#7201a8"
             ],
             [
              0.3333333333333333,
              "#9c179e"
             ],
             [
              0.4444444444444444,
              "#bd3786"
             ],
             [
              0.5555555555555556,
              "#d8576b"
             ],
             [
              0.6666666666666666,
              "#ed7953"
             ],
             [
              0.7777777777777778,
              "#fb9f3a"
             ],
             [
              0.8888888888888888,
              "#fdca26"
             ],
             [
              1,
              "#f0f921"
             ]
            ],
            "type": "histogram2d"
           }
          ],
          "histogram2dcontour": [
           {
            "colorbar": {
             "outlinewidth": 0,
             "ticks": ""
            },
            "colorscale": [
             [
              0,
              "#0d0887"
             ],
             [
              0.1111111111111111,
              "#46039f"
             ],
             [
              0.2222222222222222,
              "#7201a8"
             ],
             [
              0.3333333333333333,
              "#9c179e"
             ],
             [
              0.4444444444444444,
              "#bd3786"
             ],
             [
              0.5555555555555556,
              "#d8576b"
             ],
             [
              0.6666666666666666,
              "#ed7953"
             ],
             [
              0.7777777777777778,
              "#fb9f3a"
             ],
             [
              0.8888888888888888,
              "#fdca26"
             ],
             [
              1,
              "#f0f921"
             ]
            ],
            "type": "histogram2dcontour"
           }
          ],
          "mesh3d": [
           {
            "colorbar": {
             "outlinewidth": 0,
             "ticks": ""
            },
            "type": "mesh3d"
           }
          ],
          "parcoords": [
           {
            "line": {
             "colorbar": {
              "outlinewidth": 0,
              "ticks": ""
             }
            },
            "type": "parcoords"
           }
          ],
          "pie": [
           {
            "automargin": true,
            "type": "pie"
           }
          ],
          "scatter": [
           {
            "fillpattern": {
             "fillmode": "overlay",
             "size": 10,
             "solidity": 0.2
            },
            "type": "scatter"
           }
          ],
          "scatter3d": [
           {
            "line": {
             "colorbar": {
              "outlinewidth": 0,
              "ticks": ""
             }
            },
            "marker": {
             "colorbar": {
              "outlinewidth": 0,
              "ticks": ""
             }
            },
            "type": "scatter3d"
           }
          ],
          "scattercarpet": [
           {
            "marker": {
             "colorbar": {
              "outlinewidth": 0,
              "ticks": ""
             }
            },
            "type": "scattercarpet"
           }
          ],
          "scattergeo": [
           {
            "marker": {
             "colorbar": {
              "outlinewidth": 0,
              "ticks": ""
             }
            },
            "type": "scattergeo"
           }
          ],
          "scattergl": [
           {
            "marker": {
             "colorbar": {
              "outlinewidth": 0,
              "ticks": ""
             }
            },
            "type": "scattergl"
           }
          ],
          "scattermap": [
           {
            "marker": {
             "colorbar": {
              "outlinewidth": 0,
              "ticks": ""
             }
            },
            "type": "scattermap"
           }
          ],
          "scattermapbox": [
           {
            "marker": {
             "colorbar": {
              "outlinewidth": 0,
              "ticks": ""
             }
            },
            "type": "scattermapbox"
           }
          ],
          "scatterpolar": [
           {
            "marker": {
             "colorbar": {
              "outlinewidth": 0,
              "ticks": ""
             }
            },
            "type": "scatterpolar"
           }
          ],
          "scatterpolargl": [
           {
            "marker": {
             "colorbar": {
              "outlinewidth": 0,
              "ticks": ""
             }
            },
            "type": "scatterpolargl"
           }
          ],
          "scatterternary": [
           {
            "marker": {
             "colorbar": {
              "outlinewidth": 0,
              "ticks": ""
             }
            },
            "type": "scatterternary"
           }
          ],
          "surface": [
           {
            "colorbar": {
             "outlinewidth": 0,
             "ticks": ""
            },
            "colorscale": [
             [
              0,
              "#0d0887"
             ],
             [
              0.1111111111111111,
              "#46039f"
             ],
             [
              0.2222222222222222,
              "#7201a8"
             ],
             [
              0.3333333333333333,
              "#9c179e"
             ],
             [
              0.4444444444444444,
              "#bd3786"
             ],
             [
              0.5555555555555556,
              "#d8576b"
             ],
             [
              0.6666666666666666,
              "#ed7953"
             ],
             [
              0.7777777777777778,
              "#fb9f3a"
             ],
             [
              0.8888888888888888,
              "#fdca26"
             ],
             [
              1,
              "#f0f921"
             ]
            ],
            "type": "surface"
           }
          ],
          "table": [
           {
            "cells": {
             "fill": {
              "color": "#EBF0F8"
             },
             "line": {
              "color": "white"
             }
            },
            "header": {
             "fill": {
              "color": "#C8D4E3"
             },
             "line": {
              "color": "white"
             }
            },
            "type": "table"
           }
          ]
         },
         "layout": {
          "annotationdefaults": {
           "arrowcolor": "#2a3f5f",
           "arrowhead": 0,
           "arrowwidth": 1,
           "font": {
            "color": "black",
            "size": 32
           }
          },
          "autotypenumbers": "strict",
          "barmode": "group",
          "coloraxis": {
           "colorbar": {
            "outlinewidth": 0,
            "ticks": ""
           }
          },
          "colorscale": {
           "diverging": [
            [
             0,
             "#8e0152"
            ],
            [
             0.1,
             "#c51b7d"
            ],
            [
             0.2,
             "#de77ae"
            ],
            [
             0.3,
             "#f1b6da"
            ],
            [
             0.4,
             "#fde0ef"
            ],
            [
             0.5,
             "#f7f7f7"
            ],
            [
             0.6,
             "#e6f5d0"
            ],
            [
             0.7,
             "#b8e186"
            ],
            [
             0.8,
             "#7fbc41"
            ],
            [
             0.9,
             "#4d9221"
            ],
            [
             1,
             "#276419"
            ]
           ],
           "sequential": [
            [
             0,
             "#0d0887"
            ],
            [
             0.1111111111111111,
             "#46039f"
            ],
            [
             0.2222222222222222,
             "#7201a8"
            ],
            [
             0.3333333333333333,
             "#9c179e"
            ],
            [
             0.4444444444444444,
             "#bd3786"
            ],
            [
             0.5555555555555556,
             "#d8576b"
            ],
            [
             0.6666666666666666,
             "#ed7953"
            ],
            [
             0.7777777777777778,
             "#fb9f3a"
            ],
            [
             0.8888888888888888,
             "#fdca26"
            ],
            [
             1,
             "#f0f921"
            ]
           ],
           "sequentialminus": [
            [
             0,
             "#0d0887"
            ],
            [
             0.1111111111111111,
             "#46039f"
            ],
            [
             0.2222222222222222,
             "#7201a8"
            ],
            [
             0.3333333333333333,
             "#9c179e"
            ],
            [
             0.4444444444444444,
             "#bd3786"
            ],
            [
             0.5555555555555556,
             "#d8576b"
            ],
            [
             0.6666666666666666,
             "#ed7953"
            ],
            [
             0.7777777777777778,
             "#fb9f3a"
            ],
            [
             0.8888888888888888,
             "#fdca26"
            ],
            [
             1,
             "#f0f921"
            ]
           ]
          },
          "colorway": [
           "#cac8c8",
           "#cac8c8",
           "#cac8c8",
           "#cac8c8",
           "#cac8c8",
           "#cac8c8",
           "#cac8c8",
           "#cac8c8"
          ],
          "font": {
           "color": "black",
           "family": "Arial, sans-serif",
           "size": 32
          },
          "geo": {
           "bgcolor": "white",
           "lakecolor": "white",
           "landcolor": "#E5ECF6",
           "showlakes": true,
           "showland": true,
           "subunitcolor": "white"
          },
          "hoverlabel": {
           "align": "left"
          },
          "hovermode": "closest",
          "legend": {
           "bgcolor": "rgba(0,0,0,0)",
           "bordercolor": "rgba(0,0,0,0)",
           "borderwidth": 0,
           "font": {
            "size": 32
           }
          },
          "mapbox": {
           "style": "light"
          },
          "margin": {
           "b": 36,
           "l": 60,
           "r": 20,
           "t": 42
          },
          "paper_bgcolor": "white",
          "plot_bgcolor": "white",
          "polar": {
           "angularaxis": {
            "gridcolor": "white",
            "linecolor": "white",
            "ticks": ""
           },
           "bgcolor": "#E5ECF6",
           "radialaxis": {
            "gridcolor": "white",
            "linecolor": "white",
            "ticks": ""
           }
          },
          "scene": {
           "xaxis": {
            "backgroundcolor": "#E5ECF6",
            "gridcolor": "white",
            "gridwidth": 2,
            "linecolor": "white",
            "showbackground": true,
            "ticks": "",
            "zerolinecolor": "white"
           },
           "yaxis": {
            "backgroundcolor": "#E5ECF6",
            "gridcolor": "white",
            "gridwidth": 2,
            "linecolor": "white",
            "showbackground": true,
            "ticks": "",
            "zerolinecolor": "white"
           },
           "zaxis": {
            "backgroundcolor": "#E5ECF6",
            "gridcolor": "white",
            "gridwidth": 2,
            "linecolor": "white",
            "showbackground": true,
            "ticks": "",
            "zerolinecolor": "white"
           }
          },
          "shapedefaults": {
           "line": {
            "color": "#2a3f5f"
           }
          },
          "ternary": {
           "aaxis": {
            "gridcolor": "white",
            "linecolor": "white",
            "ticks": ""
           },
           "baxis": {
            "gridcolor": "white",
            "linecolor": "white",
            "ticks": ""
           },
           "bgcolor": "#E5ECF6",
           "caxis": {
            "gridcolor": "white",
            "linecolor": "white",
            "ticks": ""
           }
          },
          "title": {
           "font": {
            "color": "black",
            "size": 32
           },
           "x": 0
          },
          "uniformtext": {
           "minsize": 32,
           "mode": "hide"
          },
          "xaxis": {
           "automargin": true,
           "gridcolor": "white",
           "linecolor": "black",
           "linewidth": 0.6,
           "mirror": true,
           "showgrid": false,
           "tickfont": {
            "size": 32
           },
           "ticks": "outside",
           "title": {
            "font": {
             "size": 32
            },
            "standoff": 6
           },
           "zeroline": false,
           "zerolinecolor": "white",
           "zerolinewidth": 2
          },
          "yaxis": {
           "automargin": true,
           "gridcolor": "#e9e9e9",
           "gridwidth": 0.5,
           "linecolor": "black",
           "linewidth": 0.6,
           "mirror": true,
           "showgrid": false,
           "tickfont": {
            "size": 32
           },
           "ticks": "outside",
           "title": {
            "font": {
             "size": 32
            },
            "standoff": 6
           },
           "zeroline": false,
           "zerolinecolor": "white",
           "zerolinewidth": 2
          }
         }
        },
        "xaxis": {
         "anchor": "y",
         "domain": [
          0,
          1
         ],
         "title": {
          "text": "Disparity Value"
         }
        },
        "yaxis": {
         "anchor": "x",
         "domain": [
          0,
          1
         ],
         "range": [
          0,
          18000
         ],
         "title": {
          "text": "#Pixel with Disparity Value"
         }
        }
       }
      }
     },
     "metadata": {},
     "output_type": "display_data"
    }
   ],
   "source": [
    "# Normalised (Bar Plot)\n",
    "order = [\"<=3\", \"4\", \"5\", \"6\", \"7\", \"8\" ]\n",
    "for label in tqdm(order, desc=\"Plotting\", unit=\" label\"):\n",
    "    hist_array = normalised_disparities_per_label_file[label]\n",
    "    # Subtract min_occurence from all values\n",
    "    if len(hist_array) == 0 or np.all(hist_array == 0):\n",
    "        print(f\"[{label}] no valid data, skipping.\")\n",
    "        continue\n",
    "    \n",
    "    mean_occurence = np.mean(hist_array)\n",
    "    hist_array = hist_array \n",
    "    \n",
    "    # Remove negative values\n",
    "    hist_array[hist_array < 0] = 0\n",
    "\n",
    "    # Only keep values that are far enough away\n",
    "    min_dist = 0 # in mm\n",
    "    hist_array = hist_array\n",
    "\n",
    "    # Plot the histogram\n",
    "    # x = disparity values, y = normalized fractions\n",
    "    x = np.arange(hist_array.shape[0])\n",
    "    y = hist_array\n",
    "\n",
    "    # Stats\n",
    "    nonzero = y > 0\n",
    "    min_val = x[nonzero].min()\n",
    "    max_val = x[nonzero].max()\n",
    "    mean = (x * y).sum() / y.sum()\n",
    "    var  = ((x - mean)**2 * y).sum() / y.sum()\n",
    "    std  = np.sqrt(var)\n",
    "\n",
    "    fig = px.bar(\n",
    "        x=x+min_dist, y=y,\n",
    "        labels={'x': 'Disparity Value', 'y': '#Pixel with Disparity Value'},\n",
    "        # title=f\"Disparity Histogram for “{label}”\"\n",
    "    )\n",
    "    fig.update_layout(yaxis=dict(range=[0, 18_000]))\n",
    "\n",
    "    # put stats below the chart\n",
    "    fig.add_annotation(\n",
    "        text=f\"Min: {min_val:.2f},  Max: {max_val:.2f},\\n \"\n",
    "                f\"&mu;={mean:.2f}, σ={std:.2f}\",\n",
    "        showarrow=False,\n",
    "        x=0.5, y=-0.11,\n",
    "        xref='paper', yref='paper',\n",
    "        font=dict(size=28),\n",
    "        yshift=350\n",
    "    )\n",
    "    fig.update_layout(**theme_dict)  \n",
    "    fig.update_traces(\n",
    "        marker=dict(color=colour, line=dict(color=\"black\", width=0.8)),\n",
    "        textfont=dict(color=\"black\"),\n",
    "        insidetextfont=dict(color=\"black\"),\n",
    "        textposition=\"auto\"\n",
    "    )  \n",
    "    fig.write_image(f\"Disparity-Histogram-{label}.pdf\")\n",
    "    fig.show()\n",
    "    "
   ]
  },
  {
   "cell_type": "code",
   "execution_count": null,
   "id": "a6909e30",
   "metadata": {},
   "outputs": [],
   "source": [
    "# colours = {\"<=3\":\"#002c4b\",\"4\":\"#da6600\",\"5\":\"#0d740d\",\"6\":\"#b30909\",\"7\":\"#5e1f99\",\"8\":\"#e68774\"}\n",
    "# Colorblind-safe, publication-friendly palette (Okabe–Ito subset)\n",
    "colours = {\n",
    "    \"<=3\": \"#000000\",   # black\n",
    "    \"4\":   \"#E69F00\",   # orange\n",
    "    \"5\":   \"#56B4E9\",   # light blue\n",
    "    \"6\":   \"#009E73\",   # bluish green\n",
    "    \"7\":   \"#0072B2\",   # deep blue\n",
    "    \"8\":   \"#D55E00\",   # reddish orange\n",
    "}\n",
    "thin_width = 0.8"
   ]
  },
  {
   "cell_type": "code",
   "execution_count": null,
   "id": "328d6a25",
   "metadata": {},
   "outputs": [
    {
     "data": {
      "application/vnd.jupyter.widget-view+json": {
       "model_id": "b411d6282c6c444ebca3c4c82d03f5df",
       "version_major": 2,
       "version_minor": 0
      },
      "text/plain": [
       "Collecting:   0%|          | 0/6 [00:00<?, ?label/s]"
      ]
     },
     "metadata": {},
     "output_type": "display_data"
    },
    {
     "data": {
      "application/vnd.plotly.v1+json": {
       "config": {
        "plotlyServerURL": "https://plot.ly"
       },
       "data": [
        {
         "hovertemplate": "Label=<=3<br>Disparity=%{x:.0f} mm<br>Frac=%{y:.6f}<extra></extra>",
         "line": {
          "color": "#000000",
          "width": 0.8
         },
         "marker": {
          "color": "#000000"
         },
         "mode": "lines",
         "name": "<=3",
         "type": "scatter",
         "x": {
          "bdata": "AAECAwQFBgcICQoLDA0ODxAREhMUFRYXGBkaGxwdHh8gISIjJCUmJygpKissLS4vMDEyMzQ1Njc4OTo7PD0+P0BBQkNERUZHSElKS0xNTk9QUVJTVFVWV1hZWltcXV5fYGFiY2RlZmdoaWprbG1ub3BxcnN0dXZ3eHl6e3x9fn8=",
          "dtype": "i1"
         },
         "y": {
          "bdata": "L6G9hIYVw0C0l9Be4g+5QF9CewmtO7xAchzHcSwbvECF9hLaS0q4QC+hvYTW4rlAQnsJ7eURuECO4ziOA0u0QEJ7Ce0FrrRAVVVVVWVrskCY0F5Ci6awQIX2Etr7fLFAq6qqqnoWsEAmtJfQPreuQBPaS2hPe7BAmNBeQhuFrUDtJbSXMGqsQEJ7Ce1FYK5AQnsJ7aUoq0CY0F5CO2SqQPcS2ktoUKtAchzHcdyfqEDRXkJ7yTypQExoL6G9walAx3Ecx1GrpkCO4ziOIyOnQHIcx3G8F6dAewntJfRzpUCO4ziOY0mnQExoL6H9cKdAHMdxHMfHpUChvYT2MrOmQI7jOI4jMKZAE9pLaI/wpEC0l9BewtmlQCa0l9D+vKRAewntJVSyo0C0l9BeIjilQGgvob2EsqNA5DiO4zgto0A5juM4DkGlQO0ltJdwLKRAVVVVVXWbo0AmtJfQfuajQCa0l9B+QKJAq6qqqqoWo0D3EtpLyFKkQExoL6EdN6NAvoT2EvompEBCewntJcSjQF9CewnNZaNAewntJVROpUCF9hLaKy6kQJjQXkKbH6NAL6G9hLYhpEB7Ce0ltE6jQHsJ7SU07aNAaC+hveRMpECY0F5Cm/KiQO0ltJdwu6JACe0ltFcbo0Acx3EcZz6iQOQ4juPYcKJAaC+hvYSiokDaS2gvofahQFVVVVU1OKJAtJfQXmK2okB7Ce0ltCCiQF9CewltBqNAx3EcxxE9okAmtJfQvv+hQKG9hPayHKNA2ktoL6EQokDRXkJ7af2hQLSX0F7iyqJA2ktoL8E1okBfQnsJrQWiQMdxHMdR4qJAvoT2EhoUokC0l9BewpWiQIX2EtpLjaJAX0J7CY2joUBCewnthWGiQHsJ7SX0FqNAQnsJ7YX9oUAT2ktoz92hQExoL6EdRaJA0V5Ce6lTokDaS2gv4ZmjQI7jOI5jxKNAQnsJ7WUco0BMaC+hnfejQKG9hPYy56JA7SW0l7DrokCrqqqqajSkQIX2Etprc6NAHMdxHEe8o0BMaC+hvaekQLSX0F7iXKNAVVVVVdXio0C0l9BegsqkQIX2EtrrraNAVVVVVXWIpEAcx3EcJ6ylQHsJ7SX0PqVACe0ltDdJpkA5juM4zvCmQBzHcRxH+6ZAOY7jOG5qp0B7Ce0lNBKnQF9CewkNeqdAhfYS2kvlqEBCewntxSSpQOQ4juMYgKlAhfYS2iuUq0D3EtpLyOmrQGgvob0EFa5AewntJVTmr0ByHMdxDI2wQL6E9hK6h7FAx3Ecx/F5skCY0F5C60GzQDmO4zhuurVAL6G9hJYAuEC0l9BeggK5QI7jOI5jB7hAtJfQXkJnqUAvob2Elg2xQA==",
          "dtype": "f8"
         }
        },
        {
         "hovertemplate": "Label=4<br>Disparity=%{x:.0f} mm<br>Frac=%{y:.6f}<extra></extra>",
         "line": {
          "color": "#E69F00",
          "width": 0.8
         },
         "marker": {
          "color": "#E69F00"
         },
         "mode": "lines",
         "name": "4",
         "type": "scatter",
         "x": {
          "bdata": "AAECAwQFBgcICQoLDA0ODxAREhMUFRYXGBkaGxwdHh8gISIjJCUmJygpKissLS4vMDEyMzQ1Njc4OTo7PD0+P0BBQkNERUZHSElKS0xNTk9QUVJTVFVWV1hZWltcXV5fYGFiY2RlZmdoaWprbG1ub3BxcnN0dXZ3eHl6e3x9fn8=",
          "dtype": "i1"
         },
         "y": {
          "bdata": "NpTXUOopxkDKayivoVK8QCivobze179AQ3kN5QWJv0BDeQ3lTaq6QPMaymsg1rpAKK+hvBZquEAor6G83q20QL2G8hoyJ7VANpTXUA5bs0CvobyGYlqxQCivobzuO7JA8xrKazCcsEDzGspriGquQK+hvIYC969ADeU1lCfQrECvobyG4pWrQAAAAABwH61ANpTXUP69qUAAAAAAkDOqQOU1lNfAPKtAlNdQXiMqqEDYUF5DWaeoQAAAAADAj6lAQ3kN5eUnp0CU11Be0xuoQJTXUF7THKhAXkN5DaURpkDYUF5D2Q6nQEN5DeWVU6ZADeU1lKcCpUB5DeU1xESmQK+hvIbSxKVAvYbyGioRpECvobyGAl2lQOU1lNewy6RAG8prKI8IpEAAAAAAcEWlQPMaymuY4aNA2FBeQ1n/o0DKayivQfSkQOU1lNcwvqNA5TWU1wDQo0C9hvIamnKkQF5DeQ1l9KJA2FBeQ3lMo0DlNZTXgJGjQJTXUF5zVKJAeQ3lNZRto0DYUF5D+TOjQF5DeQ21eaJANpTXUF7kokAN5TWU55miQNhQXkNZmqJAUV5DeX02o0BDeQ3lpVSiQAAAAADwWKJAh/IayttOo0BeQ3kNJXKiQPMaymuor6JAbCivodyBokCH8hrKS42hQK+hvIZyQqJAKK+hvIa8okAAAAAA4LyhQDaU11CuO6JAoryG8lpdokBDeQ3ltXihQA3lNZRnKqJAlNdQXsMaokBsKK+hHH+hQBvKayh/haJAeQ3lNUThoUDzGspriLWhQF5DeQ31QqJAG8prKL9IokCivIbyik2iQEN5DeWV5aJAvYbyGjr/oUBRXkN5DUaiQMprKK/x4qJA5TWU1+C1oUCH8hrKqw6iQA3lNZRne6JAUV5DeV3SoUDYUF5Duc6iQK+hvIbCF6NAoryG8qrHokDzGsprqPejQIfyGsr7AqNAXkN5DTV6okAbymsov5ijQMprKK+h9KJAG8prKM8Po0C9hvIa2iCkQEN5DeVVa6NAeQ3lNaSbo0DYUF5DKaKkQA3lNZT3oqNAG8prKL8FpECivIbyig+lQOU1lNcQfqRAAAAAANAgpUC9hvIaCkGlQA3lNZQn0KRA8xrKa7iApUDYUF5D+SGmQFFeQ3mN7qVAeQ3lNdRIp0AbymsoHzunQFFeQ3kd/6ZA8xrKa2g1qEDlNZTX8JCoQNhQXkN5xqhAAAAAAAC3qkAor6G8FgOrQEN5DeX1baxAAAAAAOCmrkDzGspr6MivQCivobzmDrFAvYbyGpJeskDKayivIdCzQDaU11CO2LVAKK+hvC6ct0A2lNdQrqa3QGwor6EcHbdAQ3kN5bWIqUAN5TWUryGzQA==",
          "dtype": "f8"
         }
        },
        {
         "hovertemplate": "Label=5<br>Disparity=%{x:.0f} mm<br>Frac=%{y:.6f}<extra></extra>",
         "line": {
          "color": "#56B4E9",
          "width": 0.8
         },
         "marker": {
          "color": "#56B4E9"
         },
         "mode": "lines",
         "name": "5",
         "type": "scatter",
         "x": {
          "bdata": "AAECAwQFBgcICQoLDA0ODxAREhMUFRYXGBkaGxwdHh8gISIjJCUmJygpKissLS4vMDEyMzQ1Njc4OTo7PD0+P0BBQkNERUZHSElKS0xNTk9QUVJTVFVWV1hZWltcXV5fYGFiY2RlZmdoaWprbG1ub3BxcnN0dXZ3eHl6e3x9fn8=",
          "dtype": "i1"
         },
         "y": {
          "bdata": "riAmV5AkxUCKhFOa1+O+QMBuj7UMgsBA9Z2N+o5kwED+RMIpTbG8QOUKYnKFNbpAyhXE5EoDuEDcYy1DRza1QOUKYnJFm7RAaxk6YLeQs0BS39mo79+xQPdYy9ABb7FALIjJFYRWsEDPRn1nI5uuQHusZeiAga5ApXnxJ5IkrUDcYy1DB6SrQEFMriCmv6tAISZXEBNDqkCKhFOaF4+pQD7WMnTA8KlAyFqGDlhXqECB3R5rGRWoQCyIyRXEGKhAiMkVxGTYpkCTK4jJlZumQIVTmhd/rKZA8ScSTunWpUC9+BMJJ1GmQFLf2ahvCaZApzQv/kTVpEDlCmJyBeykQBk6YLdHzqRAOmC3x1q7o0CB3R5rGSWkQMafSDiliqNAC2JyBTFio0DhlObFH3+jQDbqOxv17aJA6IDdHmvlokDxJxJOaQGjQLmCmFxBbKJAvfgTCadwokDKFcTkCsWiQH8i4ZTmMqJAQUyuIKbzoUDE5ApictihQPdYy9ABuaFAuz3WMnQFokBVVVVV1S+iQMTkCmLy06FApzQv/sT2oUA8G/WdDe2hQFuGDtjtYqFAHbDbY62+oUDIWoYO2FGhQMIpzYs/XqFA6jsb9R1voUAhJlcQkwKhQL34EwknFaFAo76zUV+DoUBHfWejPhShQL+zUd9Z0qBAe6xl6IDMoEANHbDb47egQDbqOxt10qBA2qjvbNQhoUAhJlcQk9egQPvORn1n6KBA8ScSTun3oEByBTG5ApWgQEyuICZXAKFA2qjvbFTpoEANHbDb472gQFuGDthtKaFAzYs/kfDBoECuICZXEJygQN4eaxk6JqFAb4+1DB33oEDjTyScUuWgQOz2WMvQ9KBAaV78iQSNoEA4pXnxp6qgQOUKYnKFi6BAArs91jJwoEDGn0g4Jf6gQFnL0AG7LqFAVxCTK4gQoUCMP5FwSnqhQFcQkyuIZKFAb4+1DJ1xoUB9Z6O+M3yhQFVVVVVVlKFAH2sZOmB4oUDCKc2Lv9ehQB2w22OtH6JAq6qqqqpFokBAkXBK83iiQFLf2ahvUaJAspahA3aVokC/s1HfWROjQLRR39moD6NABTG5ghgpo0BFwinNC7mjQPvORn3n1qNA3GMtQ4chpEBrGTpgNyqkQKV58SeSvaRApzQv/kSTpUBgt8dahg2mQLs91jL0uqZAgd0eaxmfp0DCKc2LPz6oQBbE5ApixKhAsNtjLUPlqUDPRn1nI9CqQFAknNK896tA9Z2N+k7WrUDWMnTAbuCvQIOYXEHMHbFAcUrz4o+DskDnxZ9IOBK0QM9GfWdjqLZAriAmV9BXuUDwbNR3Nkm6QNxjLUOHZ7lAIuGU5kUFq0C5gphcwSmyQA==",
          "dtype": "f8"
         }
        },
        {
         "hovertemplate": "Label=6<br>Disparity=%{x:.0f} mm<br>Frac=%{y:.6f}<extra></extra>",
         "line": {
          "color": "#009E73",
          "width": 0.8
         },
         "marker": {
          "color": "#009E73"
         },
         "mode": "lines",
         "name": "6",
         "type": "scatter",
         "x": {
          "bdata": "AAECAwQFBgcICQoLDA0ODxAREhMUFRYXGBkaGxwdHh8gISIjJCUmJygpKissLS4vMDEyMzQ1Njc4OTo7PD0+P0BBQkNERUZHSElKS0xNTk9QUVJTVFVWV1hZWltcXV5fYGFiY2RlZmdoaWprbG1ub3BxcnN0dXZ3eHl6e3x9fn8=",
          "dtype": "i1"
         },
         "y": {
          "bdata": "/Pjx4yeLyEAgP378uHfAQIUKFSqkEsFAd+7cuUOUwEB0586dO+q8QBkxYsTImLpADhw4cOAQuEAcOHDgINu0QLNly5YtubNACxUqVAiNskCCAwcO3KywQIUKFSoUSbBAqFChQgXlrkAuW7ZsWdusQBkxYsRIdqxAOHDgwIEOq0AEBw4ceBWqQJ47d+7cNKpAs2XLli2gqEA/fvz48T+oQD9+/PgxVKhA4MCBA4fnpkA8d+7ceX2mQK9evXq1zaZAggMHDtxdpUB37ty5c06lQIwYMWJEUKVAnjt37lxTpECQHz9+fDSkQOvVq1cvHaRAd+7cubN0o0CaNGnS5K+jQEqTJk2aUqNAiREjRgymokDduXPnjuuiQEOFChXqkKJA2bJly9Y+okCzZcuWrWmiQD9+/PgxAqJABw4cODDRoUBKkyZNWgyiQIwYMWIEo6FAEiNGjFiCoUDkx48fP6qhQBIjRowYX6FAkB8/fvxRoUCvXr16NYihQFSoUKGCGKFA/Pjx40dNoUCvXr169RqhQBw4cOAADaFA+fHjx09loUDr1atXLx+hQLpz585djqBADhw4cOC/oECoUKFCRZugQJo0adKkb6BAZsuWLRvboEAZMWLESH2gQM+dO3cuXqBAr169enXEoECFChUqVIigQAcOHDhwj6BA2bJlyxaRoEBYr169upugQPz48ePH46BAjBgxYkT7oEAZMWLEyLOgQLNly5atxKBAjBgxYoTPoEChQoUKVYygQLZs2bIlBaFA1qtXrx7woEBfvXr1qqGgQAcOHDhw8KBAPHfu3LmNoEA4cODAAYmgQAQHDhy4wqBAID9+/Dh8oEAqVKhQoXqgQIIDBw4c6qBAQ4UKFSqxoEDEiBEjhuagQNmyZcvWQKFAd+7cubPxoED58ePHDxyhQGnSpEkTSaFA9erVq9floEA/fvz48S2hQBw4cOCA+6BAxIgRIwYQoUAEBw4cuIWhQLNly5YtxKFAJ02aNKkMokCoUKFCBeqhQLpz586dz6FAZsuWLZsVokDBgQMHzp+iQEqTJk1arqJADhw4cGBLo0DZsmXL1qujQMSIESMGYqNAMWLEiFG4o0Bw4MCBw8ujQLNly5YtRqRAkyZNmrT8pEDSpEmTpgKlQHfu3LnzS6VAvXr16tVkpkALFSpUKM6mQJctW7bs7aZAYsSIEeMIqEAZMWLECMSoQPz48eOHl6lAJ02aNOmXq0AnTZo06VKsQIUKFSpU9q1Anjt37rwksEDu3LlzB0SxQCNGjBgR7bJABAcOHJjRtEBDhQoVSoS3QGLEiBHD5bpA3blz565zvkCMGDFi1IfAQFSoUKESgMBA5MePH382skAcOHDgQOa7QA==",
          "dtype": "f8"
         }
        },
        {
         "hovertemplate": "Label=7<br>Disparity=%{x:.0f} mm<br>Frac=%{y:.6f}<extra></extra>",
         "line": {
          "color": "#0072B2",
          "width": 0.8
         },
         "marker": {
          "color": "#0072B2"
         },
         "mode": "lines",
         "name": "7",
         "type": "scatter",
         "x": {
          "bdata": "AAECAwQFBgcICQoLDA0ODxAREhMUFRYXGBkaGxwdHh8gISIjJCUmJygpKissLS4vMDEyMzQ1Njc4OTo7PD0+P0BBQkNERUZHSElKS0xNTk9QUVJTVFVWV1hZWltcXV5fYGFiY2RlZmdoaWprbG1ub3BxcnN0dXZ3eHl6e3x9fn8=",
          "dtype": "i1"
         },
         "y": {
          "bdata": "8QmkkvOpyEB3sN9qIy7AQPSyiE/A4cBAYb/VxjBbwEAt4hNIZWu8QGtjaLqDh7lA9lttDE1qt0CT87KIjwy1QK42hqY7F7RAGZruYD+PskC/1cbQ9NGwQB7st9rYQ7BArjaGpjvtrkAjPoFU8oGtQIv4BFJJZaxAbQxNd7CaqkBSyXlZxO+oQBbxCaSSjKlAGZruYD/sp0BGfAKp5GunQEgl52WRg6dAuNoYmm5bpkCBVHJelrylQBGfQCo5AaZAcl4W8Qm1pEBeFvEJJJmkQGtjaLqD4KRAoukO9tsopECw32pjaCukQNhvtTE03qNAAAAAAAAxo0B/q42haZOjQPZbbQxNZKNAn0AqOa+LokD+VhtD03aiQGNouoP9IaJADE13sF8VokCdl0V8gpeiQPSyiE+gKKJACqSS8zKgoUBrY2i6g6ahQCiQSs7LuqFA7LfaGJq6oUAjPoFUcs2hQC3iE0ilhqFAq42h6Q49oUAH+602hnGhQIFUcl6W9KBA+QRSyfnjoEAAAAAAANigQEgl52WR56BAD/ZbbYzxoEBhv9XGULGgQCiQSs7LdKBAY2i6g/2ooEAKpJLzsmigQEgl52WRKKBA4GpjaDotoEDgamNoOiugQEZ8AqnkLKBAG0PTHWwhoED+VhtDUwagQAxNd7Dfpp9AL4v4BFI1oEC/1cbQ9CGgQLqD/VabhaBA8QmkkvPAoEDWxtB0ByqgQAAAAAAA/Z9AXhbxCaQioECw32pjaAKgQJ2XRXyCVaBAGZruYD94oEC1MTTdQUygQNbG0HSHY6BAkErOyyJAoEC42hia7nWgQAqkkvOyzKBAD/ZbbYySoEAUSCXn5Z6gQDzYb7UxvqBA1sbQdAeHoEByXhbxCbegQD6BVHLeCKFAFEgl5+XDoEDst9oYmt+gQIT9VhvDJKFA/lYbQ1MdoUBQIJWcFyKhQI6h6Q72R6FA6g72W+2eoUB1B/utNuqhQFAglZwX6aFAcl4W8YkHokB/q42h6XmiQG0MTXewRaJApJLzsoh+okC42hiabhOjQIv4BFJJHKNAJedlEZ9zo0A3hqY72AukQAf7rTYGsaNA2G+1MTQWpEDbGJruYHOkQNbG0HQHkaRA7LfaGBoVpUCJTyCVHI2lQC3iE0gl/KVA4GpjaDo9p0B1B/uttqenQGtjaLqDwqhAgVRyXhatqUACqeS8rPapQJPzsojP4apAs4hPIJVKrEC42hia7kWtQNMd7Ldaw65Ak/OyiM93sEC6g/1WGyeyQBma7mD/zrNAY2i6gz3ctUBLzssifou4QHJeFvGJe7tAnZdFfILvvkB3sN9qA7zAQC3iE0ilh8BA6g72W+0vskDH0HQHexO7QA==",
          "dtype": "f8"
         }
        },
        {
         "hovertemplate": "Label=8<br>Disparity=%{x:.0f} mm<br>Frac=%{y:.6f}<extra></extra>",
         "line": {
          "color": "#D55E00",
          "width": 0.8
         },
         "marker": {
          "color": "#D55E00"
         },
         "mode": "lines",
         "name": "8",
         "type": "scatter",
         "x": {
          "bdata": "AAECAwQFBgcICQoLDA0ODxAREhMUFRYXGBkaGxwdHh8gISIjJCUmJygpKissLS4vMDEyMzQ1Njc4OTo7PD0+P0BBQkNERUZHSElKS0xNTk9QUVJTVFVWV1hZWltcXV5fYGFiY2RlZmdoaWprbG1ub3BxcnN0dXZ3eHl6e3x9fn8=",
          "dtype": "i1"
         },
         "y": {
          "bdata": "LtiCLeBH0EDv7u7uTn/AQAu2YAsGicFAwRZswcaOwEAcx3EcpwC6QBdswRbsPrlA2IIt2CI8t0CJiIiIiBazQNiCLdhiybJAchzHcbynsEBKn/RJH+iuQDmO4zjuA7BA9Umf9IkqrUBhC7ZgC5OrQEqf9EnfTqxAiYiIiAi5qECrqqqq6gynQNInfdJnBqpAYQu2YMvEpkAzMzMzc8KmQGzBFmwBWahAC7ZgC7ZlpUBmZmZmpqylQIMt2IItD6dAZmZmZuampECJiIiIiISlQGZmZmbmPaVALtiCLRg/o0De3d3dXeKkQGzBFmzBq6RAVVVVVRUPo0DYgi3YQmulQC7Ygi0YkqVAZmZmZuYNpEDe3d3dXQakQERERETEO6NAwRZswZYtokC8u7u7OyCkQMdxHMfxoKJAfdInfVJAoUBbsAVb8P+iQEREREQEbqJA0id90melokBQ+qRPetGiQD/pkz6ppKFAzczMzAx2okB90id90pGiQFuwBVswbaFAIiIiIiLtokDpkz7pE5iiQFVVVVWVIqFAjuM4jmMWokBKn/RJH2ihQImIiIiI9qBAq6qqqipdokD6pE/6ZHaiQFD6pE96c6FAYQu2YEt2oUB3d3d3t9CgQIMt2IItJqJAZmZmZiYEo0Au2IIt2D6hQJqZmZkZ3aBAmpmZmRmToECDLdiC7YigQBERERER1KFAjuM4jmNOoUAAAAAAQJWgQPVJn/SJEaJAtmALtqBZoUAAAAAAAAqhQGzBFmyBzqJAVVVVVdWMokAXbMEW7AqiQIMt2ILtk6JAq6qqqmrNoUC2YAu2IDCiQH3SJ31SnqJAn/RJn3QboUDSJ33SJ2GhQPqkT/okXKJAmpmZmZnmoUB3d3d3N2iiQOmTPumTtaJAP+mTPil9oUDNzMzMTN2hQEqf9EnfhKFAYQu2YAtjoUA5juM4TimiQDmO4ziObqJAiYiIiAhIokCO4ziOowyjQC7Ygi0YS6NAiYiIiMg9o0A/6ZM+6UmkQJQ+6ZO+cKNARERERESWo0BKn/RJ35SlQNInfdKnHqRAVVVVVVX7o0DkOI7juDylQAu2YAt2zqNAx3EcxzFipEC8u7u7+1ylQGZmZmZmJ6VAKH3SJz1/pkDNzMzMjLylQKVP+qQPsqVAIiIiIqJap0B90id9Eq2nQOmTPunTbqhAiYiIiMhkqkByHMdxnECpQKVP+qSPeKpAvLu7u3t0rUDpkz7pk9OuQMEWbMGWjLBAsAVbsAUgsUB90id9UvyxQAu2YAvWILRAP+mTPkm4tUBQ+qRPugO4QGELtmDL8rtAUPqkT3prvkAGW7AFewPAQOQ4juNY08BAbMEWbGHjtECamZmZya3CQA==",
          "dtype": "f8"
         }
        }
       ],
       "layout": {
        "annotations": [
         {
          "align": "left",
          "bgcolor": "rgba(255,255,255,0.7)",
          "font": {
           "size": 28
          },
          "showarrow": false,
          "text": "<=3: μ=60.10, σ=42.10<br>4: μ=59.18, σ=42.42<br>5: μ=58.96, σ=43.03<br>6: μ=61.35, σ=44.12<br>7: μ=61.97, σ=44.24<br>8: μ=62.40, σ=44.14",
          "x": 0.5,
          "xref": "paper",
          "y": 0.65,
          "yref": "paper"
         }
        ],
        "hovermode": "x unified",
        "legend": {
         "title": {
          "text": "Label"
         }
        },
        "template": {
         "data": {
          "bar": [
           {
            "error_x": {
             "color": "#2a3f5f"
            },
            "error_y": {
             "color": "#2a3f5f"
            },
            "insidetextfont": {
             "color": "black",
             "size": 32
            },
            "marker": {
             "color": "#cac8c8",
             "line": {
              "color": "black",
              "width": 0.8
             },
             "pattern": {
              "fillmode": "overlay",
              "size": 10,
              "solidity": 0.2
             }
            },
            "opacity": 1,
            "textfont": {
             "color": "black",
             "size": 32
            },
            "textposition": "auto",
            "texttemplate": "%{y:.0f}",
            "type": "bar"
           }
          ],
          "barpolar": [
           {
            "marker": {
             "line": {
              "color": "#E5ECF6",
              "width": 0.5
             },
             "pattern": {
              "fillmode": "overlay",
              "size": 10,
              "solidity": 0.2
             }
            },
            "type": "barpolar"
           }
          ],
          "carpet": [
           {
            "aaxis": {
             "endlinecolor": "#2a3f5f",
             "gridcolor": "white",
             "linecolor": "white",
             "minorgridcolor": "white",
             "startlinecolor": "#2a3f5f"
            },
            "baxis": {
             "endlinecolor": "#2a3f5f",
             "gridcolor": "white",
             "linecolor": "white",
             "minorgridcolor": "white",
             "startlinecolor": "#2a3f5f"
            },
            "type": "carpet"
           }
          ],
          "choropleth": [
           {
            "colorbar": {
             "outlinewidth": 0,
             "ticks": ""
            },
            "type": "choropleth"
           }
          ],
          "contour": [
           {
            "colorbar": {
             "outlinewidth": 0,
             "ticks": ""
            },
            "colorscale": [
             [
              0,
              "#0d0887"
             ],
             [
              0.1111111111111111,
              "#46039f"
             ],
             [
              0.2222222222222222,
              "#7201a8"
             ],
             [
              0.3333333333333333,
              "#9c179e"
             ],
             [
              0.4444444444444444,
              "#bd3786"
             ],
             [
              0.5555555555555556,
              "#d8576b"
             ],
             [
              0.6666666666666666,
              "#ed7953"
             ],
             [
              0.7777777777777778,
              "#fb9f3a"
             ],
             [
              0.8888888888888888,
              "#fdca26"
             ],
             [
              1,
              "#f0f921"
             ]
            ],
            "type": "contour"
           }
          ],
          "contourcarpet": [
           {
            "colorbar": {
             "outlinewidth": 0,
             "ticks": ""
            },
            "type": "contourcarpet"
           }
          ],
          "heatmap": [
           {
            "colorbar": {
             "outlinewidth": 0,
             "ticks": ""
            },
            "colorscale": [
             [
              0,
              "#0d0887"
             ],
             [
              0.1111111111111111,
              "#46039f"
             ],
             [
              0.2222222222222222,
              "#7201a8"
             ],
             [
              0.3333333333333333,
              "#9c179e"
             ],
             [
              0.4444444444444444,
              "#bd3786"
             ],
             [
              0.5555555555555556,
              "#d8576b"
             ],
             [
              0.6666666666666666,
              "#ed7953"
             ],
             [
              0.7777777777777778,
              "#fb9f3a"
             ],
             [
              0.8888888888888888,
              "#fdca26"
             ],
             [
              1,
              "#f0f921"
             ]
            ],
            "type": "heatmap"
           }
          ],
          "histogram": [
           {
            "marker": {
             "pattern": {
              "fillmode": "overlay",
              "size": 10,
              "solidity": 0.2
             }
            },
            "type": "histogram"
           }
          ],
          "histogram2d": [
           {
            "colorbar": {
             "outlinewidth": 0,
             "ticks": ""
            },
            "colorscale": [
             [
              0,
              "#0d0887"
             ],
             [
              0.1111111111111111,
              "#46039f"
             ],
             [
              0.2222222222222222,
              "#7201a8"
             ],
             [
              0.3333333333333333,
              "#9c179e"
             ],
             [
              0.4444444444444444,
              "#bd3786"
             ],
             [
              0.5555555555555556,
              "#d8576b"
             ],
             [
              0.6666666666666666,
              "#ed7953"
             ],
             [
              0.7777777777777778,
              "#fb9f3a"
             ],
             [
              0.8888888888888888,
              "#fdca26"
             ],
             [
              1,
              "#f0f921"
             ]
            ],
            "type": "histogram2d"
           }
          ],
          "histogram2dcontour": [
           {
            "colorbar": {
             "outlinewidth": 0,
             "ticks": ""
            },
            "colorscale": [
             [
              0,
              "#0d0887"
             ],
             [
              0.1111111111111111,
              "#46039f"
             ],
             [
              0.2222222222222222,
              "#7201a8"
             ],
             [
              0.3333333333333333,
              "#9c179e"
             ],
             [
              0.4444444444444444,
              "#bd3786"
             ],
             [
              0.5555555555555556,
              "#d8576b"
             ],
             [
              0.6666666666666666,
              "#ed7953"
             ],
             [
              0.7777777777777778,
              "#fb9f3a"
             ],
             [
              0.8888888888888888,
              "#fdca26"
             ],
             [
              1,
              "#f0f921"
             ]
            ],
            "type": "histogram2dcontour"
           }
          ],
          "mesh3d": [
           {
            "colorbar": {
             "outlinewidth": 0,
             "ticks": ""
            },
            "type": "mesh3d"
           }
          ],
          "parcoords": [
           {
            "line": {
             "colorbar": {
              "outlinewidth": 0,
              "ticks": ""
             }
            },
            "type": "parcoords"
           }
          ],
          "pie": [
           {
            "automargin": true,
            "type": "pie"
           }
          ],
          "scatter": [
           {
            "fillpattern": {
             "fillmode": "overlay",
             "size": 10,
             "solidity": 0.2
            },
            "type": "scatter"
           }
          ],
          "scatter3d": [
           {
            "line": {
             "colorbar": {
              "outlinewidth": 0,
              "ticks": ""
             }
            },
            "marker": {
             "colorbar": {
              "outlinewidth": 0,
              "ticks": ""
             }
            },
            "type": "scatter3d"
           }
          ],
          "scattercarpet": [
           {
            "marker": {
             "colorbar": {
              "outlinewidth": 0,
              "ticks": ""
             }
            },
            "type": "scattercarpet"
           }
          ],
          "scattergeo": [
           {
            "marker": {
             "colorbar": {
              "outlinewidth": 0,
              "ticks": ""
             }
            },
            "type": "scattergeo"
           }
          ],
          "scattergl": [
           {
            "marker": {
             "colorbar": {
              "outlinewidth": 0,
              "ticks": ""
             }
            },
            "type": "scattergl"
           }
          ],
          "scattermap": [
           {
            "marker": {
             "colorbar": {
              "outlinewidth": 0,
              "ticks": ""
             }
            },
            "type": "scattermap"
           }
          ],
          "scattermapbox": [
           {
            "marker": {
             "colorbar": {
              "outlinewidth": 0,
              "ticks": ""
             }
            },
            "type": "scattermapbox"
           }
          ],
          "scatterpolar": [
           {
            "marker": {
             "colorbar": {
              "outlinewidth": 0,
              "ticks": ""
             }
            },
            "type": "scatterpolar"
           }
          ],
          "scatterpolargl": [
           {
            "marker": {
             "colorbar": {
              "outlinewidth": 0,
              "ticks": ""
             }
            },
            "type": "scatterpolargl"
           }
          ],
          "scatterternary": [
           {
            "marker": {
             "colorbar": {
              "outlinewidth": 0,
              "ticks": ""
             }
            },
            "type": "scatterternary"
           }
          ],
          "surface": [
           {
            "colorbar": {
             "outlinewidth": 0,
             "ticks": ""
            },
            "colorscale": [
             [
              0,
              "#0d0887"
             ],
             [
              0.1111111111111111,
              "#46039f"
             ],
             [
              0.2222222222222222,
              "#7201a8"
             ],
             [
              0.3333333333333333,
              "#9c179e"
             ],
             [
              0.4444444444444444,
              "#bd3786"
             ],
             [
              0.5555555555555556,
              "#d8576b"
             ],
             [
              0.6666666666666666,
              "#ed7953"
             ],
             [
              0.7777777777777778,
              "#fb9f3a"
             ],
             [
              0.8888888888888888,
              "#fdca26"
             ],
             [
              1,
              "#f0f921"
             ]
            ],
            "type": "surface"
           }
          ],
          "table": [
           {
            "cells": {
             "fill": {
              "color": "#EBF0F8"
             },
             "line": {
              "color": "white"
             }
            },
            "header": {
             "fill": {
              "color": "#C8D4E3"
             },
             "line": {
              "color": "white"
             }
            },
            "type": "table"
           }
          ]
         },
         "layout": {
          "annotationdefaults": {
           "arrowcolor": "#2a3f5f",
           "arrowhead": 0,
           "arrowwidth": 1,
           "font": {
            "color": "black",
            "size": 32
           }
          },
          "autotypenumbers": "strict",
          "barmode": "group",
          "coloraxis": {
           "colorbar": {
            "outlinewidth": 0,
            "ticks": ""
           }
          },
          "colorscale": {
           "diverging": [
            [
             0,
             "#8e0152"
            ],
            [
             0.1,
             "#c51b7d"
            ],
            [
             0.2,
             "#de77ae"
            ],
            [
             0.3,
             "#f1b6da"
            ],
            [
             0.4,
             "#fde0ef"
            ],
            [
             0.5,
             "#f7f7f7"
            ],
            [
             0.6,
             "#e6f5d0"
            ],
            [
             0.7,
             "#b8e186"
            ],
            [
             0.8,
             "#7fbc41"
            ],
            [
             0.9,
             "#4d9221"
            ],
            [
             1,
             "#276419"
            ]
           ],
           "sequential": [
            [
             0,
             "#0d0887"
            ],
            [
             0.1111111111111111,
             "#46039f"
            ],
            [
             0.2222222222222222,
             "#7201a8"
            ],
            [
             0.3333333333333333,
             "#9c179e"
            ],
            [
             0.4444444444444444,
             "#bd3786"
            ],
            [
             0.5555555555555556,
             "#d8576b"
            ],
            [
             0.6666666666666666,
             "#ed7953"
            ],
            [
             0.7777777777777778,
             "#fb9f3a"
            ],
            [
             0.8888888888888888,
             "#fdca26"
            ],
            [
             1,
             "#f0f921"
            ]
           ],
           "sequentialminus": [
            [
             0,
             "#0d0887"
            ],
            [
             0.1111111111111111,
             "#46039f"
            ],
            [
             0.2222222222222222,
             "#7201a8"
            ],
            [
             0.3333333333333333,
             "#9c179e"
            ],
            [
             0.4444444444444444,
             "#bd3786"
            ],
            [
             0.5555555555555556,
             "#d8576b"
            ],
            [
             0.6666666666666666,
             "#ed7953"
            ],
            [
             0.7777777777777778,
             "#fb9f3a"
            ],
            [
             0.8888888888888888,
             "#fdca26"
            ],
            [
             1,
             "#f0f921"
            ]
           ]
          },
          "colorway": [
           "#cac8c8",
           "#cac8c8",
           "#cac8c8",
           "#cac8c8",
           "#cac8c8",
           "#cac8c8",
           "#cac8c8",
           "#cac8c8"
          ],
          "font": {
           "color": "black",
           "family": "Arial, sans-serif",
           "size": 32
          },
          "geo": {
           "bgcolor": "white",
           "lakecolor": "white",
           "landcolor": "#E5ECF6",
           "showlakes": true,
           "showland": true,
           "subunitcolor": "white"
          },
          "hoverlabel": {
           "align": "left"
          },
          "hovermode": "closest",
          "legend": {
           "bgcolor": "rgba(0,0,0,0)",
           "bordercolor": "rgba(0,0,0,0)",
           "borderwidth": 0,
           "font": {
            "size": 32
           }
          },
          "mapbox": {
           "style": "light"
          },
          "margin": {
           "b": 36,
           "l": 60,
           "r": 20,
           "t": 42
          },
          "paper_bgcolor": "white",
          "plot_bgcolor": "white",
          "polar": {
           "angularaxis": {
            "gridcolor": "white",
            "linecolor": "white",
            "ticks": ""
           },
           "bgcolor": "#E5ECF6",
           "radialaxis": {
            "gridcolor": "white",
            "linecolor": "white",
            "ticks": ""
           }
          },
          "scene": {
           "xaxis": {
            "backgroundcolor": "#E5ECF6",
            "gridcolor": "white",
            "gridwidth": 2,
            "linecolor": "white",
            "showbackground": true,
            "ticks": "",
            "zerolinecolor": "white"
           },
           "yaxis": {
            "backgroundcolor": "#E5ECF6",
            "gridcolor": "white",
            "gridwidth": 2,
            "linecolor": "white",
            "showbackground": true,
            "ticks": "",
            "zerolinecolor": "white"
           },
           "zaxis": {
            "backgroundcolor": "#E5ECF6",
            "gridcolor": "white",
            "gridwidth": 2,
            "linecolor": "white",
            "showbackground": true,
            "ticks": "",
            "zerolinecolor": "white"
           }
          },
          "shapedefaults": {
           "line": {
            "color": "#2a3f5f"
           }
          },
          "ternary": {
           "aaxis": {
            "gridcolor": "white",
            "linecolor": "white",
            "ticks": ""
           },
           "baxis": {
            "gridcolor": "white",
            "linecolor": "white",
            "ticks": ""
           },
           "bgcolor": "#E5ECF6",
           "caxis": {
            "gridcolor": "white",
            "linecolor": "white",
            "ticks": ""
           }
          },
          "title": {
           "font": {
            "color": "black",
            "size": 32
           },
           "x": 0
          },
          "uniformtext": {
           "minsize": 32,
           "mode": "hide"
          },
          "xaxis": {
           "automargin": true,
           "gridcolor": "white",
           "linecolor": "black",
           "linewidth": 0.6,
           "mirror": true,
           "showgrid": false,
           "tickfont": {
            "size": 32
           },
           "ticks": "outside",
           "title": {
            "font": {
             "size": 32
            },
            "standoff": 6
           },
           "zeroline": false,
           "zerolinecolor": "white",
           "zerolinewidth": 2
          },
          "yaxis": {
           "automargin": true,
           "gridcolor": "#e9e9e9",
           "gridwidth": 0.5,
           "linecolor": "black",
           "linewidth": 0.6,
           "mirror": true,
           "showgrid": false,
           "tickfont": {
            "size": 32
           },
           "ticks": "outside",
           "title": {
            "font": {
             "size": 32
            },
            "standoff": 6
           },
           "zeroline": false,
           "zerolinecolor": "white",
           "zerolinewidth": 2
          }
         }
        },
        "xaxis": {
         "title": {
          "text": "Disparity Value"
         }
        },
        "yaxis": {
         "range": [
          0,
          18000
         ],
         "title": {
          "text": "#Pixel with Disparity Value"
         }
        }
       }
      }
     },
     "metadata": {},
     "output_type": "display_data"
    }
   ],
   "source": [
    "# Collect valid arrays and compute per-label stats\n",
    "valid_labels = []\n",
    "label_stats = {}   # will store (min_idx, max_idx, mean, std)\n",
    "arrays = {}\n",
    "\n",
    "for label in tqdm(order, desc=\"Collecting\", unit=\"label\"):\n",
    "    hist_array = normalised_disparities_per_label_file.get(label, None)\n",
    "    if hist_array is None or len(hist_array) == 0 or np.all(hist_array == 0):\n",
    "        print(f\"[{label}] no valid data, skipping.\")\n",
    "        continue\n",
    "\n",
    "    hist = hist_array.copy()\n",
    "\n",
    "    # Remove negative values (same as your code)\n",
    "    hist[hist < 0] = 0\n",
    "\n",
    "    # Keep array\n",
    "    arrays[label] = hist\n",
    "\n",
    "    # Basic stats (on un-padded data)\n",
    "    x = np.arange(hist.shape[0]) + min_dist\n",
    "    nonzero = hist > 0\n",
    "    if nonzero.any():\n",
    "        min_val = x[nonzero].min()\n",
    "        max_val = x[nonzero].max()\n",
    "        mean = (x * hist).sum() / hist.sum()\n",
    "        var  = ((x - mean)**2 * hist).sum() / hist.sum()\n",
    "        std  = np.sqrt(var)\n",
    "    else:\n",
    "        min_val = np.nan; max_val = np.nan; mean = np.nan; std = np.nan\n",
    "\n",
    "    label_stats[label] = (min_val, max_val, mean, std)\n",
    "    valid_labels.append(label)\n",
    "\n",
    "if len(valid_labels) == 0:\n",
    "    raise RuntimeError(\"No valid label arrays to plot.\")\n",
    "\n",
    "# Pad arrays so they share the same x axis\n",
    "max_len = max(arr.shape[0] for arr in arrays.values())\n",
    "x = np.arange(max_len) + min_dist\n",
    "\n",
    "padded = {}\n",
    "for label, arr in arrays.items():\n",
    "    if arr.shape[0] < max_len:\n",
    "        y = np.zeros(max_len, dtype=arr.dtype)\n",
    "        y[: arr.shape[0]] = arr\n",
    "    else:\n",
    "        y = arr\n",
    "    padded[label] = y\n",
    "\n",
    "# Build the combined line figure\n",
    "fig = go.Figure()\n",
    "\n",
    "\n",
    "\n",
    "for i, label in enumerate(valid_labels):\n",
    "    y = padded[label]\n",
    "\n",
    "    # Use markers+lines for readability; change mode to 'lines' if you prefer plain lines\n",
    "    trace_kwargs = dict(\n",
    "        x=x, y=y,\n",
    "        mode=\"lines+markers\",\n",
    "        name=str(label),\n",
    "        hovertemplate=f\"Label={label}<br>Disparity=%{{x:.0f}} mm<br>Frac=%{{y:.6f}}<extra></extra>\"\n",
    "    )\n",
    "    if colours and label in colours:\n",
    "        trace_kwargs[\"line\"] = dict(color=colours[label], width=thin_width)\n",
    "        trace_kwargs[\"marker\"] = dict(color=colours[label])\n",
    "    else:\n",
    "        trace_kwargs[\"line\"] = dict(width=thin_width)\n",
    "\n",
    "    fig.add_trace(go.Scatter(**trace_kwargs))\n",
    "\n",
    "# Layout tuning\n",
    "fig.update_layout(\n",
    "    # title=\"Disparity distributions (overlaid lines)\",\n",
    "    xaxis_title=\"Disparity Value\",\n",
    "    yaxis_title=\"#Pixel with Disparity Value\",\n",
    "    yaxis=dict(range=[0, 18_000]),   # same as your bar plots\n",
    "    legend_title=\"Label\",\n",
    "    hovermode=\"x unified\",\n",
    "    **(theme_dict if \"theme_dict\" in globals() else {})\n",
    ")\n",
    "\n",
    "# Optional: add a small stats table/annotation in the bottom-right with per-label mean/std\n",
    "# build a short multi-line string\n",
    "stats_lines = []\n",
    "for label in valid_labels:\n",
    "    mn, mx, mean, std = label_stats[label]\n",
    "    stats_lines.append(f\"{label}: μ={mean:.2f}, σ={std:.2f}\")\n",
    "stats_text = \"<br>\".join(stats_lines)\n",
    "\n",
    "fig.add_annotation(\n",
    "    text=stats_text,\n",
    "    showarrow=False,\n",
    "    x=0.5, y=0.65,\n",
    "    xref='paper', yref='paper',\n",
    "    align='left',\n",
    "    font=dict(size=28),\n",
    "    bgcolor=\"rgba(255,255,255,0.7)\"\n",
    ")\n",
    "fig.update_traces(mode=\"lines\")\n",
    "\n",
    "# Save & show\n",
    "fig.write_image(\"Disparity-Distributions-Lines.pdf\")   # requires kaleido/orca\n",
    "fig.show()"
   ]
  },
  {
   "cell_type": "markdown",
   "id": "8badddb7",
   "metadata": {},
   "source": [
    "### Checking Separability"
   ]
  },
  {
   "cell_type": "code",
   "execution_count": 24,
   "id": "b05abdf0",
   "metadata": {},
   "outputs": [
    {
     "data": {
      "application/vnd.plotly.v1+json": {
       "config": {
        "plotlyServerURL": "https://plot.ly"
       },
       "data": [
        {
         "colorbar": {
          "title": {
           "text": "JSD"
          }
         },
         "hovertemplate": "i: %{y}<br>j: %{x}<br>val: %{z:.4f}<extra></extra>",
         "text": {
          "bdata": "AAAAAAAAAAD8qfHSTWJAP0YldQKaCGs/4JwRpb3BZz/8qfHSTWJAP2EyVTAqqXM//Knx0k1iQD8AAAAAAAAAAPyp8dJNYmA/XwfOGVHaWz9hMlUwKqlTPxWMSuoENHE/RiV1ApoIaz/8qfHSTWJgPwAAAAAAAAAALUMc6+I2Gj8i/fZ14JxxP2EyVTAqqVM/4JwRpb3BZz9fB84ZUdpbPy1DHOviNho/AAAAAAAAAAD8qfHSTWJwP2EyVTAqqVM//Knx0k1iQD9hMlUwKqlTPyL99nXgnHE//Knx0k1icD8AAAAAAAAAAAfwFkhQ/Hg/YTJVMCqpcz8VjErqBDRxP2EyVTAqqVM/YTJVMCqpUz8H8BZIUPx4PwAAAAAAAAAA",
          "dtype": "f8",
          "shape": "6, 6"
         },
         "type": "heatmap",
         "x": [
          "4",
          "5",
          "7",
          "6",
          "<=3",
          "8"
         ],
         "y": [
          "4",
          "5",
          "7",
          "6",
          "<=3",
          "8"
         ],
         "z": {
          "bdata": "AAAAAAAAAADTTYb8l7FAP/MdxQvBLms/m1mSZRsLaD/4pC1Pe9M9Pz1m38NzoHM/002G/JexQD8AAAAAAAAAABqCy056jWA/NuM8LeqeWz/wNDW/QPhSPwc9MrcmBHE/8x3FC8Euaz8agstOeo1gPwAAAAAAAAAAQetU7TGAHj9IParlYJRxP9ox/UtwuVM/m1mSZRsLaD824zwt6p5bP0HrVO0xgB4/AAAAAAAAAADPR/HM+jlwP4jN83RDd1M/+KQtT3vTPT/wNDW/QPhSP0g9quVglHE/z0fxzPo5cD8AAAAAAAAAAADsdM+l/Hg/PWbfw3Ogcz8HPTK3JgRxP9ox/UtwuVM/iM3zdEN3Uz8A7HTPpfx4PwAAAAAAAAAA",
          "dtype": "f8",
          "shape": "6, 6"
         }
        }
       ],
       "layout": {
        "height": 700,
        "template": {
         "data": {
          "bar": [
           {
            "error_x": {
             "color": "#2a3f5f"
            },
            "error_y": {
             "color": "#2a3f5f"
            },
            "marker": {
             "line": {
              "color": "#E5ECF6",
              "width": 0.5
             },
             "pattern": {
              "fillmode": "overlay",
              "size": 10,
              "solidity": 0.2
             }
            },
            "type": "bar"
           }
          ],
          "barpolar": [
           {
            "marker": {
             "line": {
              "color": "#E5ECF6",
              "width": 0.5
             },
             "pattern": {
              "fillmode": "overlay",
              "size": 10,
              "solidity": 0.2
             }
            },
            "type": "barpolar"
           }
          ],
          "carpet": [
           {
            "aaxis": {
             "endlinecolor": "#2a3f5f",
             "gridcolor": "white",
             "linecolor": "white",
             "minorgridcolor": "white",
             "startlinecolor": "#2a3f5f"
            },
            "baxis": {
             "endlinecolor": "#2a3f5f",
             "gridcolor": "white",
             "linecolor": "white",
             "minorgridcolor": "white",
             "startlinecolor": "#2a3f5f"
            },
            "type": "carpet"
           }
          ],
          "choropleth": [
           {
            "colorbar": {
             "outlinewidth": 0,
             "ticks": ""
            },
            "type": "choropleth"
           }
          ],
          "contour": [
           {
            "colorbar": {
             "outlinewidth": 0,
             "ticks": ""
            },
            "colorscale": [
             [
              0,
              "#0d0887"
             ],
             [
              0.1111111111111111,
              "#46039f"
             ],
             [
              0.2222222222222222,
              "#7201a8"
             ],
             [
              0.3333333333333333,
              "#9c179e"
             ],
             [
              0.4444444444444444,
              "#bd3786"
             ],
             [
              0.5555555555555556,
              "#d8576b"
             ],
             [
              0.6666666666666666,
              "#ed7953"
             ],
             [
              0.7777777777777778,
              "#fb9f3a"
             ],
             [
              0.8888888888888888,
              "#fdca26"
             ],
             [
              1,
              "#f0f921"
             ]
            ],
            "type": "contour"
           }
          ],
          "contourcarpet": [
           {
            "colorbar": {
             "outlinewidth": 0,
             "ticks": ""
            },
            "type": "contourcarpet"
           }
          ],
          "heatmap": [
           {
            "colorbar": {
             "outlinewidth": 0,
             "ticks": ""
            },
            "colorscale": [
             [
              0,
              "#0d0887"
             ],
             [
              0.1111111111111111,
              "#46039f"
             ],
             [
              0.2222222222222222,
              "#7201a8"
             ],
             [
              0.3333333333333333,
              "#9c179e"
             ],
             [
              0.4444444444444444,
              "#bd3786"
             ],
             [
              0.5555555555555556,
              "#d8576b"
             ],
             [
              0.6666666666666666,
              "#ed7953"
             ],
             [
              0.7777777777777778,
              "#fb9f3a"
             ],
             [
              0.8888888888888888,
              "#fdca26"
             ],
             [
              1,
              "#f0f921"
             ]
            ],
            "type": "heatmap"
           }
          ],
          "histogram": [
           {
            "marker": {
             "pattern": {
              "fillmode": "overlay",
              "size": 10,
              "solidity": 0.2
             }
            },
            "type": "histogram"
           }
          ],
          "histogram2d": [
           {
            "colorbar": {
             "outlinewidth": 0,
             "ticks": ""
            },
            "colorscale": [
             [
              0,
              "#0d0887"
             ],
             [
              0.1111111111111111,
              "#46039f"
             ],
             [
              0.2222222222222222,
              "#7201a8"
             ],
             [
              0.3333333333333333,
              "#9c179e"
             ],
             [
              0.4444444444444444,
              "#bd3786"
             ],
             [
              0.5555555555555556,
              "#d8576b"
             ],
             [
              0.6666666666666666,
              "#ed7953"
             ],
             [
              0.7777777777777778,
              "#fb9f3a"
             ],
             [
              0.8888888888888888,
              "#fdca26"
             ],
             [
              1,
              "#f0f921"
             ]
            ],
            "type": "histogram2d"
           }
          ],
          "histogram2dcontour": [
           {
            "colorbar": {
             "outlinewidth": 0,
             "ticks": ""
            },
            "colorscale": [
             [
              0,
              "#0d0887"
             ],
             [
              0.1111111111111111,
              "#46039f"
             ],
             [
              0.2222222222222222,
              "#7201a8"
             ],
             [
              0.3333333333333333,
              "#9c179e"
             ],
             [
              0.4444444444444444,
              "#bd3786"
             ],
             [
              0.5555555555555556,
              "#d8576b"
             ],
             [
              0.6666666666666666,
              "#ed7953"
             ],
             [
              0.7777777777777778,
              "#fb9f3a"
             ],
             [
              0.8888888888888888,
              "#fdca26"
             ],
             [
              1,
              "#f0f921"
             ]
            ],
            "type": "histogram2dcontour"
           }
          ],
          "mesh3d": [
           {
            "colorbar": {
             "outlinewidth": 0,
             "ticks": ""
            },
            "type": "mesh3d"
           }
          ],
          "parcoords": [
           {
            "line": {
             "colorbar": {
              "outlinewidth": 0,
              "ticks": ""
             }
            },
            "type": "parcoords"
           }
          ],
          "pie": [
           {
            "automargin": true,
            "type": "pie"
           }
          ],
          "scatter": [
           {
            "fillpattern": {
             "fillmode": "overlay",
             "size": 10,
             "solidity": 0.2
            },
            "type": "scatter"
           }
          ],
          "scatter3d": [
           {
            "line": {
             "colorbar": {
              "outlinewidth": 0,
              "ticks": ""
             }
            },
            "marker": {
             "colorbar": {
              "outlinewidth": 0,
              "ticks": ""
             }
            },
            "type": "scatter3d"
           }
          ],
          "scattercarpet": [
           {
            "marker": {
             "colorbar": {
              "outlinewidth": 0,
              "ticks": ""
             }
            },
            "type": "scattercarpet"
           }
          ],
          "scattergeo": [
           {
            "marker": {
             "colorbar": {
              "outlinewidth": 0,
              "ticks": ""
             }
            },
            "type": "scattergeo"
           }
          ],
          "scattergl": [
           {
            "marker": {
             "colorbar": {
              "outlinewidth": 0,
              "ticks": ""
             }
            },
            "type": "scattergl"
           }
          ],
          "scattermap": [
           {
            "marker": {
             "colorbar": {
              "outlinewidth": 0,
              "ticks": ""
             }
            },
            "type": "scattermap"
           }
          ],
          "scattermapbox": [
           {
            "marker": {
             "colorbar": {
              "outlinewidth": 0,
              "ticks": ""
             }
            },
            "type": "scattermapbox"
           }
          ],
          "scatterpolar": [
           {
            "marker": {
             "colorbar": {
              "outlinewidth": 0,
              "ticks": ""
             }
            },
            "type": "scatterpolar"
           }
          ],
          "scatterpolargl": [
           {
            "marker": {
             "colorbar": {
              "outlinewidth": 0,
              "ticks": ""
             }
            },
            "type": "scatterpolargl"
           }
          ],
          "scatterternary": [
           {
            "marker": {
             "colorbar": {
              "outlinewidth": 0,
              "ticks": ""
             }
            },
            "type": "scatterternary"
           }
          ],
          "surface": [
           {
            "colorbar": {
             "outlinewidth": 0,
             "ticks": ""
            },
            "colorscale": [
             [
              0,
              "#0d0887"
             ],
             [
              0.1111111111111111,
              "#46039f"
             ],
             [
              0.2222222222222222,
              "#7201a8"
             ],
             [
              0.3333333333333333,
              "#9c179e"
             ],
             [
              0.4444444444444444,
              "#bd3786"
             ],
             [
              0.5555555555555556,
              "#d8576b"
             ],
             [
              0.6666666666666666,
              "#ed7953"
             ],
             [
              0.7777777777777778,
              "#fb9f3a"
             ],
             [
              0.8888888888888888,
              "#fdca26"
             ],
             [
              1,
              "#f0f921"
             ]
            ],
            "type": "surface"
           }
          ],
          "table": [
           {
            "cells": {
             "fill": {
              "color": "#EBF0F8"
             },
             "line": {
              "color": "white"
             }
            },
            "header": {
             "fill": {
              "color": "#C8D4E3"
             },
             "line": {
              "color": "white"
             }
            },
            "type": "table"
           }
          ]
         },
         "layout": {
          "annotationdefaults": {
           "arrowcolor": "#2a3f5f",
           "arrowhead": 0,
           "arrowwidth": 1
          },
          "autotypenumbers": "strict",
          "coloraxis": {
           "colorbar": {
            "outlinewidth": 0,
            "ticks": ""
           }
          },
          "colorscale": {
           "diverging": [
            [
             0,
             "#8e0152"
            ],
            [
             0.1,
             "#c51b7d"
            ],
            [
             0.2,
             "#de77ae"
            ],
            [
             0.3,
             "#f1b6da"
            ],
            [
             0.4,
             "#fde0ef"
            ],
            [
             0.5,
             "#f7f7f7"
            ],
            [
             0.6,
             "#e6f5d0"
            ],
            [
             0.7,
             "#b8e186"
            ],
            [
             0.8,
             "#7fbc41"
            ],
            [
             0.9,
             "#4d9221"
            ],
            [
             1,
             "#276419"
            ]
           ],
           "sequential": [
            [
             0,
             "#0d0887"
            ],
            [
             0.1111111111111111,
             "#46039f"
            ],
            [
             0.2222222222222222,
             "#7201a8"
            ],
            [
             0.3333333333333333,
             "#9c179e"
            ],
            [
             0.4444444444444444,
             "#bd3786"
            ],
            [
             0.5555555555555556,
             "#d8576b"
            ],
            [
             0.6666666666666666,
             "#ed7953"
            ],
            [
             0.7777777777777778,
             "#fb9f3a"
            ],
            [
             0.8888888888888888,
             "#fdca26"
            ],
            [
             1,
             "#f0f921"
            ]
           ],
           "sequentialminus": [
            [
             0,
             "#0d0887"
            ],
            [
             0.1111111111111111,
             "#46039f"
            ],
            [
             0.2222222222222222,
             "#7201a8"
            ],
            [
             0.3333333333333333,
             "#9c179e"
            ],
            [
             0.4444444444444444,
             "#bd3786"
            ],
            [
             0.5555555555555556,
             "#d8576b"
            ],
            [
             0.6666666666666666,
             "#ed7953"
            ],
            [
             0.7777777777777778,
             "#fb9f3a"
            ],
            [
             0.8888888888888888,
             "#fdca26"
            ],
            [
             1,
             "#f0f921"
            ]
           ]
          },
          "colorway": [
           "#636efa",
           "#EF553B",
           "#00cc96",
           "#ab63fa",
           "#FFA15A",
           "#19d3f3",
           "#FF6692",
           "#B6E880",
           "#FF97FF",
           "#FECB52"
          ],
          "font": {
           "color": "#2a3f5f"
          },
          "geo": {
           "bgcolor": "white",
           "lakecolor": "white",
           "landcolor": "#E5ECF6",
           "showlakes": true,
           "showland": true,
           "subunitcolor": "white"
          },
          "hoverlabel": {
           "align": "left"
          },
          "hovermode": "closest",
          "mapbox": {
           "style": "light"
          },
          "paper_bgcolor": "white",
          "plot_bgcolor": "#E5ECF6",
          "polar": {
           "angularaxis": {
            "gridcolor": "white",
            "linecolor": "white",
            "ticks": ""
           },
           "bgcolor": "#E5ECF6",
           "radialaxis": {
            "gridcolor": "white",
            "linecolor": "white",
            "ticks": ""
           }
          },
          "scene": {
           "xaxis": {
            "backgroundcolor": "#E5ECF6",
            "gridcolor": "white",
            "gridwidth": 2,
            "linecolor": "white",
            "showbackground": true,
            "ticks": "",
            "zerolinecolor": "white"
           },
           "yaxis": {
            "backgroundcolor": "#E5ECF6",
            "gridcolor": "white",
            "gridwidth": 2,
            "linecolor": "white",
            "showbackground": true,
            "ticks": "",
            "zerolinecolor": "white"
           },
           "zaxis": {
            "backgroundcolor": "#E5ECF6",
            "gridcolor": "white",
            "gridwidth": 2,
            "linecolor": "white",
            "showbackground": true,
            "ticks": "",
            "zerolinecolor": "white"
           }
          },
          "shapedefaults": {
           "line": {
            "color": "#2a3f5f"
           }
          },
          "ternary": {
           "aaxis": {
            "gridcolor": "white",
            "linecolor": "white",
            "ticks": ""
           },
           "baxis": {
            "gridcolor": "white",
            "linecolor": "white",
            "ticks": ""
           },
           "bgcolor": "#E5ECF6",
           "caxis": {
            "gridcolor": "white",
            "linecolor": "white",
            "ticks": ""
           }
          },
          "title": {
           "x": 0.05
          },
          "xaxis": {
           "automargin": true,
           "gridcolor": "white",
           "linecolor": "white",
           "ticks": "",
           "title": {
            "standoff": 15
           },
           "zerolinecolor": "white",
           "zerolinewidth": 2
          },
          "yaxis": {
           "automargin": true,
           "gridcolor": "white",
           "linecolor": "white",
           "ticks": "",
           "title": {
            "standoff": 15
           },
           "zerolinecolor": "white",
           "zerolinewidth": 2
          }
         }
        },
        "title": {
         "text": "Pairwise JSD"
        },
        "updatemenus": [
         {
          "active": 0,
          "buttons": [
           {
            "args": [
             {
              "text": [
               [
                [
                 0,
                 0.0005,
                 0.0033,
                 0.0029,
                 0.0005,
                 0.0048
                ],
                [
                 0.0005,
                 0,
                 0.002,
                 0.0017,
                 0.0012,
                 0.0042
                ],
                [
                 0.0033,
                 0.002,
                 0,
                 0.0001,
                 0.0043,
                 0.0012
                ],
                [
                 0.0029,
                 0.0017,
                 0.0001,
                 0,
                 0.004,
                 0.0012
                ],
                [
                 0.0005,
                 0.0012,
                 0.0043,
                 0.004,
                 0,
                 0.0061
                ],
                [
                 0.0048,
                 0.0042,
                 0.0012,
                 0.0012,
                 0.0061,
                 0
                ]
               ]
              ],
              "z": [
               [
                [
                 0,
                 0.0005094520684444888,
                 0.003318192522929081,
                 0.0029349837391905004,
                 0.0004551101730415198,
                 0.0047916910243315765
                ],
                [
                 0.0005094520684444888,
                 0,
                 0.002020586855323592,
                 0.0016858374483048172,
                 0.001157820920372029,
                 0.004154349549153175
                ],
                [
                 0.003318192522929081,
                 0.002020586855323592,
                 0,
                 0.00011635117273993153,
                 0.004291895393762353,
                 0.00120387999045867
                ],
                [
                 0.0029349837391905004,
                 0.0016858374483048172,
                 0.00011635117273993153,
                 0,
                 0.003961543740915687,
                 0.0011881026037457738
                ],
                [
                 0.0004551101730415198,
                 0.001157820920372029,
                 0.004291895393762353,
                 0.003961543740915687,
                 0,
                 0.006100318619526313
                ],
                [
                 0.0047916910243315765,
                 0.004154349549153175,
                 0.00120387999045867,
                 0.0011881026037457738,
                 0.006100318619526313,
                 0
                ]
               ]
              ]
             },
             {
              "annotations": [],
              "coloraxis": null,
              "title": "Pairwise JSD"
             }
            ],
            "label": "JSD",
            "method": "update"
           },
           {
            "args": [
             {
              "text": [
               [
                [
                 0,
                 0.0014,
                 0.0092,
                 0.0082,
                 0.0013,
                 0.0134
                ],
                [
                 0.0014,
                 0,
                 0.0056,
                 0.0047,
                 0.0032,
                 0.0116
                ],
                [
                 0.0092,
                 0.0056,
                 0,
                 0.0003,
                 0.0119,
                 0.0033
                ],
                [
                 0.0082,
                 0.0047,
                 0.0003,
                 0,
                 0.011,
                 0.0033
                ],
                [
                 0.0013,
                 0.0032,
                 0.0119,
                 0.011,
                 0,
                 0.0171
                ],
                [
                 0.0134,
                 0.0116,
                 0.0033,
                 0.0033,
                 0.0171,
                 0
                ]
               ]
              ],
              "z": [
               [
                [
                 0,
                 0.001412982215926116,
                 0.00922724300461581,
                 0.008163584578223191,
                 0.0012624021615594628,
                 0.013375324341718718
                ],
                [
                 0.001412982215926116,
                 0,
                 0.005613846093104663,
                 0.004686719983907927,
                 0.0032132612142202624,
                 0.011605810156988507
                ],
                [
                 0.00922724300461581,
                 0.005613846093104663,
                 0,
                 0.00032261825220009994,
                 0.01193674770636589,
                 0.0033434664615616797
                ],
                [
                 0.008163584578223191,
                 0.004686719983907927,
                 0.00032261825220009994,
                 0,
                 0.01102213058175405,
                 0.00329913640364329
                ],
                [
                 0.0012624021615594628,
                 0.0032132612142202624,
                 0.01193674770636589,
                 0.01102213058175405,
                 0,
                 0.017077753167067996
                ],
                [
                 0.013375324341718718,
                 0.011605810156988507,
                 0.0033434664615616797,
                 0.00329913640364329,
                 0.017077753167067996,
                 0
                ]
               ]
              ]
             },
             {
              "annotations": [],
              "coloraxis": null,
              "title": "Pairwise SymKL"
             }
            ],
            "label": "SymKL",
            "method": "update"
           },
           {
            "args": [
             {
              "text": [
               [
                [
                 0,
                 0.0215,
                 0.0542,
                 0.0491,
                 0.0186,
                 0.0598
                ],
                [
                 0.0215,
                 0,
                 0.0413,
                 0.0344,
                 0.0317,
                 0.0516
                ],
                [
                 0.0542,
                 0.0413,
                 0,
                 0.0103,
                 0.0624,
                 0.0283
                ],
                [
                 0.0491,
                 0.0344,
                 0.0103,
                 0,
                 0.0582,
                 0.0281
                ],
                [
                 0.0186,
                 0.0317,
                 0.0624,
                 0.0582,
                 0,
                 0.0667
                ],
                [
                 0.0598,
                 0.0516,
                 0.0283,
                 0.0281,
                 0.0667,
                 0
                ]
               ]
              ],
              "z": [
               [
                [
                 0,
                 0.02151006732956203,
                 0.05421593407013553,
                 0.04906253428937839,
                 0.01863219011896838,
                 0.05977206787004923
                ],
                [
                 0.02151006732956203,
                 0,
                 0.04126039275076658,
                 0.03439593343432497,
                 0.031668894063820806,
                 0.051645455645487115
                ],
                [
                 0.05421593407013553,
                 0.04126039275076658,
                 0,
                 0.01032279960046133,
                 0.06235788940290582,
                 0.028283118456421452
                ],
                [
                 0.04906253428937839,
                 0.03439593343432497,
                 0.01032279960046133,
                 0,
                 0.05821303685890701,
                 0.02812126569230742
                ],
                [
                 0.01863219011896838,
                 0.031668894063820806,
                 0.06235788940290582,
                 0.05821303685890701,
                 0,
                 0.06666402379169883
                ],
                [
                 0.05977206787004923,
                 0.051645455645487115,
                 0.028283118456421452,
                 0.02812126569230742,
                 0.06666402379169883,
                 0
                ]
               ]
              ]
             },
             {
              "annotations": [],
              "coloraxis": null,
              "title": "Pairwise TV"
             }
            ],
            "label": "TV",
            "method": "update"
           },
           {
            "args": [
             {
              "text": [
               [
                [
                 0,
                 0.0188,
                 0.048,
                 0.0451,
                 0.0178,
                 0.0577
                ],
                [
                 0.0188,
                 0,
                 0.0374,
                 0.0342,
                 0.0283,
                 0.0538
                ],
                [
                 0.048,
                 0.0374,
                 0,
                 0.009,
                 0.0546,
                 0.0289
                ],
                [
                 0.0451,
                 0.0342,
                 0.009,
                 0,
                 0.0524,
                 0.0287
                ],
                [
                 0.0178,
                 0.0283,
                 0.0546,
                 0.0524,
                 0,
                 0.0652
                ],
                [
                 0.0577,
                 0.0538,
                 0.0289,
                 0.0287,
                 0.0652,
                 0
                ]
               ]
              ],
              "z": [
               [
                [
                 0,
                 0.018793227263342326,
                 0.04799368428743209,
                 0.0451400719456232,
                 0.01776314749125486,
                 0.057727834707912075
                ],
                [
                 0.018793227263342326,
                 0,
                 0.03744341437814537,
                 0.03420675002998461,
                 0.028335974290811382,
                 0.05376261567135849
                ],
                [
                 0.04799368428743209,
                 0.03744341437814537,
                 0,
                 0.008980619408732507,
                 0.0545851264938974,
                 0.028899225262992188
                ],
                [
                 0.0451400719456232,
                 0.03420675002998461,
                 0.008980619408732507,
                 0,
                 0.052447249807866386,
                 0.02870812047596135
                ],
                [
                 0.01776314749125486,
                 0.028335974290811382,
                 0.0545851264938974,
                 0.052447249807866386,
                 0,
                 0.06518213323047675
                ],
                [
                 0.057727834707912075,
                 0.05376261567135849,
                 0.028899225262992188,
                 0.02870812047596135,
                 0.06518213323047675,
                 0
                ]
               ]
              ]
             },
             {
              "annotations": [],
              "coloraxis": null,
              "title": "Pairwise Hellinger"
             }
            ],
            "label": "Hellinger",
            "method": "update"
           },
           {
            "args": [
             {
              "text": [
               [
                [
                 0,
                 0.0004,
                 0.0023,
                 0.002,
                 0.0003,
                 0.0033
                ],
                [
                 0.0004,
                 0,
                 0.0014,
                 0.0012,
                 0.0008,
                 0.0029
                ],
                [
                 0.0023,
                 0.0014,
                 0,
                 0.0001,
                 0.003,
                 0.0008
                ],
                [
                 0.002,
                 0.0012,
                 0.0001,
                 0,
                 0.0028,
                 0.0008
                ],
                [
                 0.0003,
                 0.0008,
                 0.003,
                 0.0028,
                 0,
                 0.0043
                ],
                [
                 0.0033,
                 0.0029,
                 0.0008,
                 0.0008,
                 0.0043,
                 0
                ]
               ]
              ],
              "z": [
               [
                [
                 0,
                 0.0003532477756211502,
                 0.0023060506235192202,
                 0.0020397048796451937,
                 0.0003155791986737193,
                 0.0033380680552237752
                ],
                [
                 0.0003532477756211502,
                 2.220446049250313e-16,
                 0.0014029930148821946,
                 0.0011707868511432581,
                 0.0008032499578967827,
                 0.002894604171217739
                ],
                [
                 0.0023060506235192202,
                 0.0014029930148821946,
                 0,
                 0.00008065477747362406,
                 0.0029839836886728236,
                 0.0008355141655721962
                ],
                [
                 0.0020397048796451937,
                 0.0011707868511432581,
                 0.00008065477747362406,
                 0,
                 0.0027545041782349885,
                 0.0008244959846816357
                ],
                [
                 0.0003155791986737193,
                 0.0008032499578967827,
                 0.0029839836886728236,
                 0.0027545041782349885,
                 0,
                 0.004257761909899622
                ],
                [
                 0.0033380680552237752,
                 0.002894604171217739,
                 0.0008355141655721962,
                 0.0008244959846816357,
                 0.004257761909899622,
                 1.1102230246251565e-16
                ]
               ]
              ]
             },
             {
              "annotations": [],
              "coloraxis": null,
              "title": "Pairwise Bhattacharyya"
             }
            ],
            "label": "Bhattacharyya",
            "method": "update"
           },
           {
            "args": [
             {
              "text": [
               [
                [
                 0,
                 0.7771,
                 3.0349,
                 2.499,
                 0.9201,
                 3.5044
                ],
                [
                 0.7771,
                 0,
                 3.0657,
                 2.4731,
                 1.444,
                 3.5997
                ],
                [
                 3.0349,
                 3.0657,
                 0,
                 0.6208,
                 2.7877,
                 0.5625
                ],
                [
                 2.499,
                 2.4731,
                 0.6208,
                 0,
                 2.3904,
                 1.134
                ],
                [
                 0.9201,
                 1.444,
                 2.7877,
                 2.3904,
                 0,
                 3.0389
                ],
                [
                 3.5044,
                 3.5997,
                 0.5625,
                 1.134,
                 3.0389,
                 0
                ]
               ]
              ],
              "z": [
               [
                [
                 0,
                 0.7770888015225987,
                 3.034916036992196,
                 2.498996847368823,
                 0.9201481689103259,
                 3.504427715124515
                ],
                [
                 0.7770888015225987,
                 0,
                 3.0656527813867616,
                 2.473117932983023,
                 1.4440340373979073,
                 3.599661062409667
                ],
                [
                 3.034916036992196,
                 3.0656527813867616,
                 0,
                 0.6207686738908736,
                 2.787659088439086,
                 0.5625411534121648
                ],
                [
                 2.498996847368823,
                 2.473117932983023,
                 0.6207686738908736,
                 0,
                 2.390433898113068,
                 1.1340363913847598
                ],
                [
                 0.9201481689103259,
                 1.4440340373979073,
                 2.787659088439086,
                 2.390433898113068,
                 0,
                 3.038851798913552
                ],
                [
                 3.504427715124515,
                 3.599661062409667,
                 0.5625411534121648,
                 1.1340363913847598,
                 3.038851798913552,
                 0
                ]
               ]
              ]
             },
             {
              "annotations": [],
              "coloraxis": null,
              "title": "Pairwise Wasserstein"
             }
            ],
            "label": "Wasserstein",
            "method": "update"
           }
          ],
          "x": 0.01,
          "xanchor": "left",
          "y": 1.15,
          "yanchor": "top"
         }
        ],
        "width": 700,
        "xaxis": {
         "side": "top"
        }
       }
      }
     },
     "metadata": {},
     "output_type": "display_data"
    },
    {
     "data": {
      "application/vnd.plotly.v1+json": {
       "config": {
        "plotlyServerURL": "https://plot.ly"
       },
       "data": [
        {
         "hovertemplate": "x=%{x}<br>y=%{y}<br>label=%{text}<extra></extra>",
         "legendgroup": "",
         "marker": {
          "color": "#636efa",
          "symbol": "circle"
         },
         "mode": "markers+text",
         "name": "",
         "orientation": "v",
         "showlegend": false,
         "text": [
          "4",
          "5",
          "7",
          "6",
          "<=3",
          "8"
         ],
         "textposition": "top center",
         "type": "scatter",
         "x": {
          "bdata": "mvEOwCgc+b8Op2RgkCL5vw9CWKS6Zfc/yhv8ZuYP7T/iQcSf9jDyv5aKYegBgv4/",
          "dtype": "f8"
         },
         "xaxis": "x",
         "y": {
          "bdata": "VSk+LN8pkz9jwoREL/Liv0oIHH0Obsa/Gf4vLadq2r9/phhNkh3qP3xX0mdKGNY/",
          "dtype": "f8"
         },
         "yaxis": "y"
        }
       ],
       "layout": {
        "height": 500,
        "legend": {
         "tracegroupgap": 0
        },
        "template": {
         "data": {
          "bar": [
           {
            "error_x": {
             "color": "#2a3f5f"
            },
            "error_y": {
             "color": "#2a3f5f"
            },
            "marker": {
             "line": {
              "color": "#E5ECF6",
              "width": 0.5
             },
             "pattern": {
              "fillmode": "overlay",
              "size": 10,
              "solidity": 0.2
             }
            },
            "type": "bar"
           }
          ],
          "barpolar": [
           {
            "marker": {
             "line": {
              "color": "#E5ECF6",
              "width": 0.5
             },
             "pattern": {
              "fillmode": "overlay",
              "size": 10,
              "solidity": 0.2
             }
            },
            "type": "barpolar"
           }
          ],
          "carpet": [
           {
            "aaxis": {
             "endlinecolor": "#2a3f5f",
             "gridcolor": "white",
             "linecolor": "white",
             "minorgridcolor": "white",
             "startlinecolor": "#2a3f5f"
            },
            "baxis": {
             "endlinecolor": "#2a3f5f",
             "gridcolor": "white",
             "linecolor": "white",
             "minorgridcolor": "white",
             "startlinecolor": "#2a3f5f"
            },
            "type": "carpet"
           }
          ],
          "choropleth": [
           {
            "colorbar": {
             "outlinewidth": 0,
             "ticks": ""
            },
            "type": "choropleth"
           }
          ],
          "contour": [
           {
            "colorbar": {
             "outlinewidth": 0,
             "ticks": ""
            },
            "colorscale": [
             [
              0,
              "#0d0887"
             ],
             [
              0.1111111111111111,
              "#46039f"
             ],
             [
              0.2222222222222222,
              "#7201a8"
             ],
             [
              0.3333333333333333,
              "#9c179e"
             ],
             [
              0.4444444444444444,
              "#bd3786"
             ],
             [
              0.5555555555555556,
              "#d8576b"
             ],
             [
              0.6666666666666666,
              "#ed7953"
             ],
             [
              0.7777777777777778,
              "#fb9f3a"
             ],
             [
              0.8888888888888888,
              "#fdca26"
             ],
             [
              1,
              "#f0f921"
             ]
            ],
            "type": "contour"
           }
          ],
          "contourcarpet": [
           {
            "colorbar": {
             "outlinewidth": 0,
             "ticks": ""
            },
            "type": "contourcarpet"
           }
          ],
          "heatmap": [
           {
            "colorbar": {
             "outlinewidth": 0,
             "ticks": ""
            },
            "colorscale": [
             [
              0,
              "#0d0887"
             ],
             [
              0.1111111111111111,
              "#46039f"
             ],
             [
              0.2222222222222222,
              "#7201a8"
             ],
             [
              0.3333333333333333,
              "#9c179e"
             ],
             [
              0.4444444444444444,
              "#bd3786"
             ],
             [
              0.5555555555555556,
              "#d8576b"
             ],
             [
              0.6666666666666666,
              "#ed7953"
             ],
             [
              0.7777777777777778,
              "#fb9f3a"
             ],
             [
              0.8888888888888888,
              "#fdca26"
             ],
             [
              1,
              "#f0f921"
             ]
            ],
            "type": "heatmap"
           }
          ],
          "histogram": [
           {
            "marker": {
             "pattern": {
              "fillmode": "overlay",
              "size": 10,
              "solidity": 0.2
             }
            },
            "type": "histogram"
           }
          ],
          "histogram2d": [
           {
            "colorbar": {
             "outlinewidth": 0,
             "ticks": ""
            },
            "colorscale": [
             [
              0,
              "#0d0887"
             ],
             [
              0.1111111111111111,
              "#46039f"
             ],
             [
              0.2222222222222222,
              "#7201a8"
             ],
             [
              0.3333333333333333,
              "#9c179e"
             ],
             [
              0.4444444444444444,
              "#bd3786"
             ],
             [
              0.5555555555555556,
              "#d8576b"
             ],
             [
              0.6666666666666666,
              "#ed7953"
             ],
             [
              0.7777777777777778,
              "#fb9f3a"
             ],
             [
              0.8888888888888888,
              "#fdca26"
             ],
             [
              1,
              "#f0f921"
             ]
            ],
            "type": "histogram2d"
           }
          ],
          "histogram2dcontour": [
           {
            "colorbar": {
             "outlinewidth": 0,
             "ticks": ""
            },
            "colorscale": [
             [
              0,
              "#0d0887"
             ],
             [
              0.1111111111111111,
              "#46039f"
             ],
             [
              0.2222222222222222,
              "#7201a8"
             ],
             [
              0.3333333333333333,
              "#9c179e"
             ],
             [
              0.4444444444444444,
              "#bd3786"
             ],
             [
              0.5555555555555556,
              "#d8576b"
             ],
             [
              0.6666666666666666,
              "#ed7953"
             ],
             [
              0.7777777777777778,
              "#fb9f3a"
             ],
             [
              0.8888888888888888,
              "#fdca26"
             ],
             [
              1,
              "#f0f921"
             ]
            ],
            "type": "histogram2dcontour"
           }
          ],
          "mesh3d": [
           {
            "colorbar": {
             "outlinewidth": 0,
             "ticks": ""
            },
            "type": "mesh3d"
           }
          ],
          "parcoords": [
           {
            "line": {
             "colorbar": {
              "outlinewidth": 0,
              "ticks": ""
             }
            },
            "type": "parcoords"
           }
          ],
          "pie": [
           {
            "automargin": true,
            "type": "pie"
           }
          ],
          "scatter": [
           {
            "fillpattern": {
             "fillmode": "overlay",
             "size": 10,
             "solidity": 0.2
            },
            "type": "scatter"
           }
          ],
          "scatter3d": [
           {
            "line": {
             "colorbar": {
              "outlinewidth": 0,
              "ticks": ""
             }
            },
            "marker": {
             "colorbar": {
              "outlinewidth": 0,
              "ticks": ""
             }
            },
            "type": "scatter3d"
           }
          ],
          "scattercarpet": [
           {
            "marker": {
             "colorbar": {
              "outlinewidth": 0,
              "ticks": ""
             }
            },
            "type": "scattercarpet"
           }
          ],
          "scattergeo": [
           {
            "marker": {
             "colorbar": {
              "outlinewidth": 0,
              "ticks": ""
             }
            },
            "type": "scattergeo"
           }
          ],
          "scattergl": [
           {
            "marker": {
             "colorbar": {
              "outlinewidth": 0,
              "ticks": ""
             }
            },
            "type": "scattergl"
           }
          ],
          "scattermap": [
           {
            "marker": {
             "colorbar": {
              "outlinewidth": 0,
              "ticks": ""
             }
            },
            "type": "scattermap"
           }
          ],
          "scattermapbox": [
           {
            "marker": {
             "colorbar": {
              "outlinewidth": 0,
              "ticks": ""
             }
            },
            "type": "scattermapbox"
           }
          ],
          "scatterpolar": [
           {
            "marker": {
             "colorbar": {
              "outlinewidth": 0,
              "ticks": ""
             }
            },
            "type": "scatterpolar"
           }
          ],
          "scatterpolargl": [
           {
            "marker": {
             "colorbar": {
              "outlinewidth": 0,
              "ticks": ""
             }
            },
            "type": "scatterpolargl"
           }
          ],
          "scatterternary": [
           {
            "marker": {
             "colorbar": {
              "outlinewidth": 0,
              "ticks": ""
             }
            },
            "type": "scatterternary"
           }
          ],
          "surface": [
           {
            "colorbar": {
             "outlinewidth": 0,
             "ticks": ""
            },
            "colorscale": [
             [
              0,
              "#0d0887"
             ],
             [
              0.1111111111111111,
              "#46039f"
             ],
             [
              0.2222222222222222,
              "#7201a8"
             ],
             [
              0.3333333333333333,
              "#9c179e"
             ],
             [
              0.4444444444444444,
              "#bd3786"
             ],
             [
              0.5555555555555556,
              "#d8576b"
             ],
             [
              0.6666666666666666,
              "#ed7953"
             ],
             [
              0.7777777777777778,
              "#fb9f3a"
             ],
             [
              0.8888888888888888,
              "#fdca26"
             ],
             [
              1,
              "#f0f921"
             ]
            ],
            "type": "surface"
           }
          ],
          "table": [
           {
            "cells": {
             "fill": {
              "color": "#EBF0F8"
             },
             "line": {
              "color": "white"
             }
            },
            "header": {
             "fill": {
              "color": "#C8D4E3"
             },
             "line": {
              "color": "white"
             }
            },
            "type": "table"
           }
          ]
         },
         "layout": {
          "annotationdefaults": {
           "arrowcolor": "#2a3f5f",
           "arrowhead": 0,
           "arrowwidth": 1
          },
          "autotypenumbers": "strict",
          "coloraxis": {
           "colorbar": {
            "outlinewidth": 0,
            "ticks": ""
           }
          },
          "colorscale": {
           "diverging": [
            [
             0,
             "#8e0152"
            ],
            [
             0.1,
             "#c51b7d"
            ],
            [
             0.2,
             "#de77ae"
            ],
            [
             0.3,
             "#f1b6da"
            ],
            [
             0.4,
             "#fde0ef"
            ],
            [
             0.5,
             "#f7f7f7"
            ],
            [
             0.6,
             "#e6f5d0"
            ],
            [
             0.7,
             "#b8e186"
            ],
            [
             0.8,
             "#7fbc41"
            ],
            [
             0.9,
             "#4d9221"
            ],
            [
             1,
             "#276419"
            ]
           ],
           "sequential": [
            [
             0,
             "#0d0887"
            ],
            [
             0.1111111111111111,
             "#46039f"
            ],
            [
             0.2222222222222222,
             "#7201a8"
            ],
            [
             0.3333333333333333,
             "#9c179e"
            ],
            [
             0.4444444444444444,
             "#bd3786"
            ],
            [
             0.5555555555555556,
             "#d8576b"
            ],
            [
             0.6666666666666666,
             "#ed7953"
            ],
            [
             0.7777777777777778,
             "#fb9f3a"
            ],
            [
             0.8888888888888888,
             "#fdca26"
            ],
            [
             1,
             "#f0f921"
            ]
           ],
           "sequentialminus": [
            [
             0,
             "#0d0887"
            ],
            [
             0.1111111111111111,
             "#46039f"
            ],
            [
             0.2222222222222222,
             "#7201a8"
            ],
            [
             0.3333333333333333,
             "#9c179e"
            ],
            [
             0.4444444444444444,
             "#bd3786"
            ],
            [
             0.5555555555555556,
             "#d8576b"
            ],
            [
             0.6666666666666666,
             "#ed7953"
            ],
            [
             0.7777777777777778,
             "#fb9f3a"
            ],
            [
             0.8888888888888888,
             "#fdca26"
            ],
            [
             1,
             "#f0f921"
            ]
           ]
          },
          "colorway": [
           "#636efa",
           "#EF553B",
           "#00cc96",
           "#ab63fa",
           "#FFA15A",
           "#19d3f3",
           "#FF6692",
           "#B6E880",
           "#FF97FF",
           "#FECB52"
          ],
          "font": {
           "color": "#2a3f5f"
          },
          "geo": {
           "bgcolor": "white",
           "lakecolor": "white",
           "landcolor": "#E5ECF6",
           "showlakes": true,
           "showland": true,
           "subunitcolor": "white"
          },
          "hoverlabel": {
           "align": "left"
          },
          "hovermode": "closest",
          "mapbox": {
           "style": "light"
          },
          "paper_bgcolor": "white",
          "plot_bgcolor": "#E5ECF6",
          "polar": {
           "angularaxis": {
            "gridcolor": "white",
            "linecolor": "white",
            "ticks": ""
           },
           "bgcolor": "#E5ECF6",
           "radialaxis": {
            "gridcolor": "white",
            "linecolor": "white",
            "ticks": ""
           }
          },
          "scene": {
           "xaxis": {
            "backgroundcolor": "#E5ECF6",
            "gridcolor": "white",
            "gridwidth": 2,
            "linecolor": "white",
            "showbackground": true,
            "ticks": "",
            "zerolinecolor": "white"
           },
           "yaxis": {
            "backgroundcolor": "#E5ECF6",
            "gridcolor": "white",
            "gridwidth": 2,
            "linecolor": "white",
            "showbackground": true,
            "ticks": "",
            "zerolinecolor": "white"
           },
           "zaxis": {
            "backgroundcolor": "#E5ECF6",
            "gridcolor": "white",
            "gridwidth": 2,
            "linecolor": "white",
            "showbackground": true,
            "ticks": "",
            "zerolinecolor": "white"
           }
          },
          "shapedefaults": {
           "line": {
            "color": "#2a3f5f"
           }
          },
          "ternary": {
           "aaxis": {
            "gridcolor": "white",
            "linecolor": "white",
            "ticks": ""
           },
           "baxis": {
            "gridcolor": "white",
            "linecolor": "white",
            "ticks": ""
           },
           "bgcolor": "#E5ECF6",
           "caxis": {
            "gridcolor": "white",
            "linecolor": "white",
            "ticks": ""
           }
          },
          "title": {
           "x": 0.05
          },
          "xaxis": {
           "automargin": true,
           "gridcolor": "white",
           "linecolor": "white",
           "ticks": "",
           "title": {
            "standoff": 15
           },
           "zerolinecolor": "white",
           "zerolinewidth": 2
          },
          "yaxis": {
           "automargin": true,
           "gridcolor": "white",
           "linecolor": "white",
           "ticks": "",
           "title": {
            "standoff": 15
           },
           "zerolinecolor": "white",
           "zerolinewidth": 2
          }
         }
        },
        "title": {
         "text": "MDS 2D embedding (based on Wasserstein)"
        },
        "width": 700,
        "xaxis": {
         "anchor": "y",
         "domain": [
          0,
          1
         ],
         "title": {
          "text": "x"
         }
        },
        "yaxis": {
         "anchor": "x",
         "domain": [
          0,
          1
         ],
         "title": {
          "text": "y"
         }
        }
       }
      }
     },
     "metadata": {},
     "output_type": "display_data"
    },
    {
     "name": "stdout",
     "output_type": "stream",
     "text": [
      "Metric summary (mean off-diagonal):\n",
      " - JSD: mean=0.00252601, std=0.00177139\n",
      " - SymKL: mean=0.00703754, std=0.00495084\n",
      " - TV: mean=0.041075, std=0.0171192\n",
      " - Hellinger: mean=0.0386646, std=0.0161294\n",
      " - Bhattacharyya: mean=0.00175741, std=0.00123519\n",
      " - Wasserstein: mean=2.12349, std=1.05875\n"
     ]
    }
   ],
   "source": [
    "import numpy as np\n",
    "from scipy.spatial.distance import jensenshannon\n",
    "from scipy.stats import entropy, wasserstein_distance\n",
    "import plotly.graph_objects as go\n",
    "import plotly.express as px\n",
    "\n",
    "# ---------- USER: put your dict here ----------\n",
    "# pmfs_dict = normalised_disparities_per_label_file\n",
    "# min_dist = 100  # same offset you used when plotting (so bin_centers match)\n",
    "# If pmfs_dict contains counts or fractions of different lengths, the code will align/pad.\n",
    "# ------------------------------------------------\n",
    "\n",
    "def prepare_pmfs(pmfs_dict, eps=1e-9):\n",
    "    \"\"\"Pad to same length, clip negatives, add eps, normalize -> returns pmfs dict and bin_centers.\"\"\"\n",
    "    labels = list(pmfs_dict.keys())\n",
    "    max_len = max((len(pmfs_dict[k]) for k in labels))\n",
    "    arrs = {}\n",
    "    for k in labels:\n",
    "        a = np.array(pmfs_dict[k], dtype=float).copy()\n",
    "        a[a < 0] = 0.0\n",
    "        if a.shape[0] < max_len:\n",
    "            b = np.zeros(max_len, dtype=float)\n",
    "            b[: a.shape[0]] = a\n",
    "            a = b\n",
    "        a = a + eps\n",
    "        a = a / a.sum()\n",
    "        arrs[k] = a\n",
    "    return arrs, labels\n",
    "\n",
    "def total_variation(p,q):\n",
    "    return 0.5 * np.sum(np.abs(p - q))\n",
    "\n",
    "def hellinger(p,q):\n",
    "    return np.sqrt(0.5 * np.sum((np.sqrt(p) - np.sqrt(q))**2))\n",
    "\n",
    "def bhattacharyya_distance(p,q):\n",
    "    bc = np.sum(np.sqrt(p * q))\n",
    "    return -np.log(np.clip(bc, 1e-16, 1.0))\n",
    "\n",
    "def symmetric_kl(p,q):\n",
    "    # 0.5 * (KL(p||q) + KL(q||p))\n",
    "    return 0.5 * (entropy(p, q) + entropy(q, p))\n",
    "\n",
    "def jensen_shannon(p,q, base=2):\n",
    "    # scipy.spatial.distance.jensenshannon returns sqrt(JS); square it for JS.\n",
    "    return float(jensenshannon(p, q, base=base))**2\n",
    "\n",
    "def pairwise_matrices(pmfs, bin_centers=None):\n",
    "    labels = list(pmfs.keys())\n",
    "    n = len(labels)\n",
    "    names = ['JSD','SymKL','TV','Hellinger','Bhattacharyya','Wasserstein']\n",
    "    mats = {name: np.zeros((n,n)) for name in names}\n",
    "    for i in range(n):\n",
    "        for j in range(n):\n",
    "            p = pmfs[labels[i]]\n",
    "            q = pmfs[labels[j]]\n",
    "            mats['JSD'][i,j] = jensen_shannon(p,q)\n",
    "            mats['SymKL'][i,j] = symmetric_kl(p,q)\n",
    "            mats['TV'][i,j] = total_variation(p,q)\n",
    "            mats['Hellinger'][i,j] = hellinger(p,q)\n",
    "            mats['Bhattacharyya'][i,j] = bhattacharyya_distance(p,q)\n",
    "            if bin_centers is not None:\n",
    "                # wasserstein_distance accepts samples or distributions via weights\n",
    "                mats['Wasserstein'][i,j] = wasserstein_distance(bin_centers, bin_centers, p, q)\n",
    "            else:\n",
    "                mats['Wasserstein'][i,j] = np.nan\n",
    "    return labels, mats\n",
    "\n",
    "# Classical (metric) MDS from a distance matrix D (NxN) -> 2D coords\n",
    "def classical_mds(D, n_components=2):\n",
    "    # D is pairwise distance matrix\n",
    "    n = D.shape[0]\n",
    "    # double center\n",
    "    D2 = D**2\n",
    "    J = np.eye(n) - np.ones((n,n))/n\n",
    "    B = -0.5 * J.dot(D2).dot(J)\n",
    "    # eigendecomposition\n",
    "    vals, vecs = np.linalg.eigh(B)\n",
    "    # sort descending\n",
    "    idx = np.argsort(vals)[::-1]\n",
    "    vals = vals[idx]\n",
    "    vecs = vecs[:, idx]\n",
    "    # keep positive eigenvalues\n",
    "    pos = vals > 1e-12\n",
    "    L = np.diag(np.sqrt(vals[pos][:n_components]))\n",
    "    V = vecs[:, pos][:, :n_components]\n",
    "    X = V.dot(L)\n",
    "    # if fewer than requested components exist, pad with zeros\n",
    "    if X.shape[1] < n_components:\n",
    "        X = np.hstack([X, np.zeros((n, n_components - X.shape[1]))])\n",
    "    return X\n",
    "\n",
    "# ------------------- Main runner -------------------\n",
    "def compute_and_plot(pmfs_dict, min_dist=100, show_metrics=['JSD','Wasserstein','Hellinger']):\n",
    "    pmfs, labels = prepare_pmfs(pmfs_dict, eps=1e-9)\n",
    "    max_len = len(next(iter(pmfs.values())))\n",
    "    bin_centers = np.arange(max_len) + min_dist\n",
    "\n",
    "    labels, mats = pairwise_matrices(pmfs, bin_centers=bin_centers)\n",
    "\n",
    "    # Build a Plotly heatmap with a dropdown to select metric\n",
    "    metric_list = list(mats.keys())\n",
    "    # set JSD as default if available\n",
    "    default_metric = 'JSD' if 'JSD' in metric_list else metric_list[0]\n",
    "\n",
    "    z0 = mats[default_metric]\n",
    "    fig_heat = go.Figure()\n",
    "\n",
    "    # initial heatmap\n",
    "    fig_heat.add_trace(go.Heatmap(\n",
    "        z=z0,\n",
    "        x=labels, y=labels,\n",
    "        text=np.round(z0, 4),\n",
    "        hovertemplate=\"i: %{y}<br>j: %{x}<br>val: %{z:.4f}<extra></extra>\",\n",
    "        colorbar=dict(title=default_metric)\n",
    "    ))\n",
    "\n",
    "    # build dropdown buttons to update heatmap z and colorbar title\n",
    "    buttons = []\n",
    "    for metric in metric_list:\n",
    "        z = mats[metric]\n",
    "        buttons.append(dict(method='update',\n",
    "                            label=metric,\n",
    "                            args=[{'z': [z], 'text': [np.round(z,4)]},\n",
    "                                  {'coloraxis': None,\n",
    "                                   'annotations': [] ,\n",
    "                                   'title': f\"Pairwise {metric}\"}]))\n",
    "    fig_heat.update_layout(\n",
    "        updatemenus=[dict(active=metric_list.index(default_metric),\n",
    "                          buttons=buttons,\n",
    "                          x=0.01, y=1.15, xanchor='left', yanchor='top')],\n",
    "        title=f\"Pairwise {default_metric}\",\n",
    "        xaxis=dict(side='top'),\n",
    "        width=700, height=700\n",
    "    )\n",
    "\n",
    "    fig_heat.show()\n",
    "\n",
    "    # MDS scatter using the chosen distance (use Wasserstein if present else JSD)\n",
    "    preferred = 'Wasserstein' if 'Wasserstein' in mats else default_metric\n",
    "    D = mats[preferred]\n",
    "    # if we used a divergence (JSD,KL etc) that is not metric, it's still okay for MDS but distances should be symmetric.\n",
    "    coords = classical_mds(D)\n",
    "    df = {\n",
    "        'label': labels,\n",
    "        'x': coords[:,0],\n",
    "        'y': coords[:,1]\n",
    "    }\n",
    "    fig_mds = px.scatter(df, x='x', y='y', text='label', width=700, height=500,\n",
    "                         title=f\"MDS 2D embedding (based on {preferred})\")\n",
    "    fig_mds.update_traces(textposition='top center')\n",
    "    fig_mds.show()\n",
    "\n",
    "    # Print mean off-diagonal for each metric (quick summary numbers)\n",
    "    print(\"Metric summary (mean off-diagonal):\")\n",
    "    for name, M in mats.items():\n",
    "        n = M.shape[0]\n",
    "        off = M[~np.eye(n, dtype=bool)]\n",
    "        print(f\" - {name}: mean={np.mean(off):.6g}, std={np.std(off):.6g}\")\n",
    "\n",
    "    return labels, pmfs, mats, bin_centers\n",
    "\n",
    "labels, pmfs, mats, bin_centers = compute_and_plot(normalised_disparities_per_label_file, min_dist=0)\n",
    "\n"
   ]
  },
  {
   "cell_type": "code",
   "execution_count": 30,
   "id": "a0a1d3be",
   "metadata": {},
   "outputs": [],
   "source": [
    "import numpy as np\n",
    "\n",
    "# Assuming disparity values are in range 0..max_disp (say 128 or 256)\n",
    "max_disp = 128\n",
    "bin_edges = np.arange(max_disp+1)  # integer binning\n",
    "\n",
    "images_histograms = []\n",
    "\n",
    "for label, arr in disparities_per_label_file.items():\n",
    "    # arr shape: (n_samples, H, W)\n",
    "    n_samples = arr.shape[0]\n",
    "    for i in range(n_samples):\n",
    "        img = arr[i]\n",
    "\n",
    "        # mask invalid disparities (-1)\n",
    "        valid = img[img >= 0]\n",
    "\n",
    "        if valid.size == 0:\n",
    "            continue  # skip empty images\n",
    "\n",
    "        # build histogram\n",
    "        h, _ = np.histogram(valid, bins=bin_edges, density=False)\n",
    "\n",
    "        # normalize to PMF\n",
    "        h = h.astype(float)\n",
    "        h /= h.sum()\n",
    "\n",
    "        # append as (true_label, histogram_vector)\n",
    "        images_histograms.append((label, h))\n"
   ]
  },
  {
   "cell_type": "code",
   "execution_count": 31,
   "id": "a4af9f17",
   "metadata": {},
   "outputs": [
    {
     "name": "stdout",
     "output_type": "stream",
     "text": [
      "4 AUC: 0.3782335302542069\n",
      "5 AUC: 0.4762813909707668\n",
      "7 AUC: 0.6315995031320968\n",
      "6 AUC: 0.6277601932567686\n",
      "<=3 AUC: 0.3257030517463666\n",
      "8 AUC: 0.6743162393162394\n"
     ]
    }
   ],
   "source": [
    "import numpy as np\n",
    "from sklearn.metrics import roc_auc_score\n",
    "\n",
    "def avg_loglik(h, pmf, eps=1e-12):\n",
    "    p = pmf + eps\n",
    "    p = p / p.sum()\n",
    "    return np.sum(h * np.log(p)) / (h.sum() + 1e-12)\n",
    "\n",
    "# images_histograms: list of tuples (true_label, hist_vector) for validation/test images\n",
    "# pmfs: dict label -> pmf\n",
    "labels = list(pmfs.keys())\n",
    "\n",
    "# build score matrix\n",
    "y_true = []\n",
    "scores = []\n",
    "for true_label, h in images_histograms:\n",
    "    y_true.append(true_label)\n",
    "    scores.append([avg_loglik(h, pmfs[c]) for c in labels])\n",
    "scores = np.array(scores)  # shape (n_images, n_classes)\n",
    "\n",
    "# compute AUC for each class (one-vs-rest)\n",
    "for k, class_label in enumerate(labels):\n",
    "    y_bin = np.array([1 if y==class_label else 0 for y in y_true])\n",
    "    s = scores[:, k]\n",
    "    try:\n",
    "        auc = roc_auc_score(y_bin, s)\n",
    "    except ValueError:\n",
    "        auc = np.nan\n",
    "    print(class_label, \"AUC:\", auc)"
   ]
  },
  {
   "cell_type": "code",
   "execution_count": 32,
   "id": "bd9e5123",
   "metadata": {},
   "outputs": [
    {
     "data": {
      "application/vnd.plotly.v1+json": {
       "config": {
        "plotlyServerURL": "https://plot.ly"
       },
       "data": [
        {
         "bingroup": "x",
         "hovertemplate": "true class=4<br>LL(8)-LL(<=3)=%{x}<br>count=%{y}<extra></extra>",
         "legendgroup": "4",
         "marker": {
          "color": "#636efa",
          "pattern": {
           "shape": ""
          }
         },
         "name": "4",
         "nbinsx": 60,
         "orientation": "v",
         "showlegend": true,
         "type": "histogram",
         "x": {
          "bdata": "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",
          "dtype": "f8"
         },
         "xaxis": "x",
         "yaxis": "y"
        },
        {
         "bingroup": "x",
         "hovertemplate": "true class=5<br>LL(8)-LL(<=3)=%{x}<br>count=%{y}<extra></extra>",
         "legendgroup": "5",
         "marker": {
          "color": "#EF553B",
          "pattern": {
           "shape": ""
          }
         },
         "name": "5",
         "nbinsx": 60,
         "orientation": "v",
         "showlegend": true,
         "type": "histogram",
         "x": {
          "bdata": "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",
          "dtype": "f8"
         },
         "xaxis": "x",
         "yaxis": "y"
        },
        {
         "bingroup": "x",
         "hovertemplate": "true class=7<br>LL(8)-LL(<=3)=%{x}<br>count=%{y}<extra></extra>",
         "legendgroup": "7",
         "marker": {
          "color": "#00cc96",
          "pattern": {
           "shape": ""
          }
         },
         "name": "7",
         "nbinsx": 60,
         "orientation": "v",
         "showlegend": true,
         "type": "histogram",
         "x": {
          "bdata": "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",
          "dtype": "f8"
         },
         "xaxis": "x",
         "yaxis": "y"
        },
        {
         "bingroup": "x",
         "hovertemplate": "true class=6<br>LL(8)-LL(<=3)=%{x}<br>count=%{y}<extra></extra>",
         "legendgroup": "6",
         "marker": {
          "color": "#ab63fa",
          "pattern": {
           "shape": ""
          }
         },
         "name": "6",
         "nbinsx": 60,
         "orientation": "v",
         "showlegend": true,
         "type": "histogram",
         "x": {
          "bdata": "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",
          "dtype": "f8"
         },
         "xaxis": "x",
         "yaxis": "y"
        },
        {
         "bingroup": "x",
         "hovertemplate": "true class=<=3<br>LL(8)-LL(<=3)=%{x}<br>count=%{y}<extra></extra>",
         "legendgroup": "<=3",
         "marker": {
          "color": "#FFA15A",
          "pattern": {
           "shape": ""
          }
         },
         "name": "<=3",
         "nbinsx": 60,
         "orientation": "v",
         "showlegend": true,
         "type": "histogram",
         "x": {
          "bdata": "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",
          "dtype": "f8"
         },
         "xaxis": "x",
         "yaxis": "y"
        },
        {
         "bingroup": "x",
         "hovertemplate": "true class=8<br>LL(8)-LL(<=3)=%{x}<br>count=%{y}<extra></extra>",
         "legendgroup": "8",
         "marker": {
          "color": "#19d3f3",
          "pattern": {
           "shape": ""
          }
         },
         "name": "8",
         "nbinsx": 60,
         "orientation": "v",
         "showlegend": true,
         "type": "histogram",
         "x": {
          "bdata": "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",
          "dtype": "f8"
         },
         "xaxis": "x",
         "yaxis": "y"
        }
       ],
       "layout": {
        "barmode": "relative",
        "legend": {
         "title": {
          "text": "true class"
         },
         "tracegroupgap": 0
        },
        "margin": {
         "t": 60
        },
        "template": {
         "data": {
          "bar": [
           {
            "error_x": {
             "color": "#2a3f5f"
            },
            "error_y": {
             "color": "#2a3f5f"
            },
            "marker": {
             "line": {
              "color": "#E5ECF6",
              "width": 0.5
             },
             "pattern": {
              "fillmode": "overlay",
              "size": 10,
              "solidity": 0.2
             }
            },
            "type": "bar"
           }
          ],
          "barpolar": [
           {
            "marker": {
             "line": {
              "color": "#E5ECF6",
              "width": 0.5
             },
             "pattern": {
              "fillmode": "overlay",
              "size": 10,
              "solidity": 0.2
             }
            },
            "type": "barpolar"
           }
          ],
          "carpet": [
           {
            "aaxis": {
             "endlinecolor": "#2a3f5f",
             "gridcolor": "white",
             "linecolor": "white",
             "minorgridcolor": "white",
             "startlinecolor": "#2a3f5f"
            },
            "baxis": {
             "endlinecolor": "#2a3f5f",
             "gridcolor": "white",
             "linecolor": "white",
             "minorgridcolor": "white",
             "startlinecolor": "#2a3f5f"
            },
            "type": "carpet"
           }
          ],
          "choropleth": [
           {
            "colorbar": {
             "outlinewidth": 0,
             "ticks": ""
            },
            "type": "choropleth"
           }
          ],
          "contour": [
           {
            "colorbar": {
             "outlinewidth": 0,
             "ticks": ""
            },
            "colorscale": [
             [
              0,
              "#0d0887"
             ],
             [
              0.1111111111111111,
              "#46039f"
             ],
             [
              0.2222222222222222,
              "#7201a8"
             ],
             [
              0.3333333333333333,
              "#9c179e"
             ],
             [
              0.4444444444444444,
              "#bd3786"
             ],
             [
              0.5555555555555556,
              "#d8576b"
             ],
             [
              0.6666666666666666,
              "#ed7953"
             ],
             [
              0.7777777777777778,
              "#fb9f3a"
             ],
             [
              0.8888888888888888,
              "#fdca26"
             ],
             [
              1,
              "#f0f921"
             ]
            ],
            "type": "contour"
           }
          ],
          "contourcarpet": [
           {
            "colorbar": {
             "outlinewidth": 0,
             "ticks": ""
            },
            "type": "contourcarpet"
           }
          ],
          "heatmap": [
           {
            "colorbar": {
             "outlinewidth": 0,
             "ticks": ""
            },
            "colorscale": [
             [
              0,
              "#0d0887"
             ],
             [
              0.1111111111111111,
              "#46039f"
             ],
             [
              0.2222222222222222,
              "#7201a8"
             ],
             [
              0.3333333333333333,
              "#9c179e"
             ],
             [
              0.4444444444444444,
              "#bd3786"
             ],
             [
              0.5555555555555556,
              "#d8576b"
             ],
             [
              0.6666666666666666,
              "#ed7953"
             ],
             [
              0.7777777777777778,
              "#fb9f3a"
             ],
             [
              0.8888888888888888,
              "#fdca26"
             ],
             [
              1,
              "#f0f921"
             ]
            ],
            "type": "heatmap"
           }
          ],
          "histogram": [
           {
            "marker": {
             "pattern": {
              "fillmode": "overlay",
              "size": 10,
              "solidity": 0.2
             }
            },
            "type": "histogram"
           }
          ],
          "histogram2d": [
           {
            "colorbar": {
             "outlinewidth": 0,
             "ticks": ""
            },
            "colorscale": [
             [
              0,
              "#0d0887"
             ],
             [
              0.1111111111111111,
              "#46039f"
             ],
             [
              0.2222222222222222,
              "#7201a8"
             ],
             [
              0.3333333333333333,
              "#9c179e"
             ],
             [
              0.4444444444444444,
              "#bd3786"
             ],
             [
              0.5555555555555556,
              "#d8576b"
             ],
             [
              0.6666666666666666,
              "#ed7953"
             ],
             [
              0.7777777777777778,
              "#fb9f3a"
             ],
             [
              0.8888888888888888,
              "#fdca26"
             ],
             [
              1,
              "#f0f921"
             ]
            ],
            "type": "histogram2d"
           }
          ],
          "histogram2dcontour": [
           {
            "colorbar": {
             "outlinewidth": 0,
             "ticks": ""
            },
            "colorscale": [
             [
              0,
              "#0d0887"
             ],
             [
              0.1111111111111111,
              "#46039f"
             ],
             [
              0.2222222222222222,
              "#7201a8"
             ],
             [
              0.3333333333333333,
              "#9c179e"
             ],
             [
              0.4444444444444444,
              "#bd3786"
             ],
             [
              0.5555555555555556,
              "#d8576b"
             ],
             [
              0.6666666666666666,
              "#ed7953"
             ],
             [
              0.7777777777777778,
              "#fb9f3a"
             ],
             [
              0.8888888888888888,
              "#fdca26"
             ],
             [
              1,
              "#f0f921"
             ]
            ],
            "type": "histogram2dcontour"
           }
          ],
          "mesh3d": [
           {
            "colorbar": {
             "outlinewidth": 0,
             "ticks": ""
            },
            "type": "mesh3d"
           }
          ],
          "parcoords": [
           {
            "line": {
             "colorbar": {
              "outlinewidth": 0,
              "ticks": ""
             }
            },
            "type": "parcoords"
           }
          ],
          "pie": [
           {
            "automargin": true,
            "type": "pie"
           }
          ],
          "scatter": [
           {
            "fillpattern": {
             "fillmode": "overlay",
             "size": 10,
             "solidity": 0.2
            },
            "type": "scatter"
           }
          ],
          "scatter3d": [
           {
            "line": {
             "colorbar": {
              "outlinewidth": 0,
              "ticks": ""
             }
            },
            "marker": {
             "colorbar": {
              "outlinewidth": 0,
              "ticks": ""
             }
            },
            "type": "scatter3d"
           }
          ],
          "scattercarpet": [
           {
            "marker": {
             "colorbar": {
              "outlinewidth": 0,
              "ticks": ""
             }
            },
            "type": "scattercarpet"
           }
          ],
          "scattergeo": [
           {
            "marker": {
             "colorbar": {
              "outlinewidth": 0,
              "ticks": ""
             }
            },
            "type": "scattergeo"
           }
          ],
          "scattergl": [
           {
            "marker": {
             "colorbar": {
              "outlinewidth": 0,
              "ticks": ""
             }
            },
            "type": "scattergl"
           }
          ],
          "scattermap": [
           {
            "marker": {
             "colorbar": {
              "outlinewidth": 0,
              "ticks": ""
             }
            },
            "type": "scattermap"
           }
          ],
          "scattermapbox": [
           {
            "marker": {
             "colorbar": {
              "outlinewidth": 0,
              "ticks": ""
             }
            },
            "type": "scattermapbox"
           }
          ],
          "scatterpolar": [
           {
            "marker": {
             "colorbar": {
              "outlinewidth": 0,
              "ticks": ""
             }
            },
            "type": "scatterpolar"
           }
          ],
          "scatterpolargl": [
           {
            "marker": {
             "colorbar": {
              "outlinewidth": 0,
              "ticks": ""
             }
            },
            "type": "scatterpolargl"
           }
          ],
          "scatterternary": [
           {
            "marker": {
             "colorbar": {
              "outlinewidth": 0,
              "ticks": ""
             }
            },
            "type": "scatterternary"
           }
          ],
          "surface": [
           {
            "colorbar": {
             "outlinewidth": 0,
             "ticks": ""
            },
            "colorscale": [
             [
              0,
              "#0d0887"
             ],
             [
              0.1111111111111111,
              "#46039f"
             ],
             [
              0.2222222222222222,
              "#7201a8"
             ],
             [
              0.3333333333333333,
              "#9c179e"
             ],
             [
              0.4444444444444444,
              "#bd3786"
             ],
             [
              0.5555555555555556,
              "#d8576b"
             ],
             [
              0.6666666666666666,
              "#ed7953"
             ],
             [
              0.7777777777777778,
              "#fb9f3a"
             ],
             [
              0.8888888888888888,
              "#fdca26"
             ],
             [
              1,
              "#f0f921"
             ]
            ],
            "type": "surface"
           }
          ],
          "table": [
           {
            "cells": {
             "fill": {
              "color": "#EBF0F8"
             },
             "line": {
              "color": "white"
             }
            },
            "header": {
             "fill": {
              "color": "#C8D4E3"
             },
             "line": {
              "color": "white"
             }
            },
            "type": "table"
           }
          ]
         },
         "layout": {
          "annotationdefaults": {
           "arrowcolor": "#2a3f5f",
           "arrowhead": 0,
           "arrowwidth": 1
          },
          "autotypenumbers": "strict",
          "coloraxis": {
           "colorbar": {
            "outlinewidth": 0,
            "ticks": ""
           }
          },
          "colorscale": {
           "diverging": [
            [
             0,
             "#8e0152"
            ],
            [
             0.1,
             "#c51b7d"
            ],
            [
             0.2,
             "#de77ae"
            ],
            [
             0.3,
             "#f1b6da"
            ],
            [
             0.4,
             "#fde0ef"
            ],
            [
             0.5,
             "#f7f7f7"
            ],
            [
             0.6,
             "#e6f5d0"
            ],
            [
             0.7,
             "#b8e186"
            ],
            [
             0.8,
             "#7fbc41"
            ],
            [
             0.9,
             "#4d9221"
            ],
            [
             1,
             "#276419"
            ]
           ],
           "sequential": [
            [
             0,
             "#0d0887"
            ],
            [
             0.1111111111111111,
             "#46039f"
            ],
            [
             0.2222222222222222,
             "#7201a8"
            ],
            [
             0.3333333333333333,
             "#9c179e"
            ],
            [
             0.4444444444444444,
             "#bd3786"
            ],
            [
             0.5555555555555556,
             "#d8576b"
            ],
            [
             0.6666666666666666,
             "#ed7953"
            ],
            [
             0.7777777777777778,
             "#fb9f3a"
            ],
            [
             0.8888888888888888,
             "#fdca26"
            ],
            [
             1,
             "#f0f921"
            ]
           ],
           "sequentialminus": [
            [
             0,
             "#0d0887"
            ],
            [
             0.1111111111111111,
             "#46039f"
            ],
            [
             0.2222222222222222,
             "#7201a8"
            ],
            [
             0.3333333333333333,
             "#9c179e"
            ],
            [
             0.4444444444444444,
             "#bd3786"
            ],
            [
             0.5555555555555556,
             "#d8576b"
            ],
            [
             0.6666666666666666,
             "#ed7953"
            ],
            [
             0.7777777777777778,
             "#fb9f3a"
            ],
            [
             0.8888888888888888,
             "#fdca26"
            ],
            [
             1,
             "#f0f921"
            ]
           ]
          },
          "colorway": [
           "#636efa",
           "#EF553B",
           "#00cc96",
           "#ab63fa",
           "#FFA15A",
           "#19d3f3",
           "#FF6692",
           "#B6E880",
           "#FF97FF",
           "#FECB52"
          ],
          "font": {
           "color": "#2a3f5f"
          },
          "geo": {
           "bgcolor": "white",
           "lakecolor": "white",
           "landcolor": "#E5ECF6",
           "showlakes": true,
           "showland": true,
           "subunitcolor": "white"
          },
          "hoverlabel": {
           "align": "left"
          },
          "hovermode": "closest",
          "mapbox": {
           "style": "light"
          },
          "paper_bgcolor": "white",
          "plot_bgcolor": "#E5ECF6",
          "polar": {
           "angularaxis": {
            "gridcolor": "white",
            "linecolor": "white",
            "ticks": ""
           },
           "bgcolor": "#E5ECF6",
           "radialaxis": {
            "gridcolor": "white",
            "linecolor": "white",
            "ticks": ""
           }
          },
          "scene": {
           "xaxis": {
            "backgroundcolor": "#E5ECF6",
            "gridcolor": "white",
            "gridwidth": 2,
            "linecolor": "white",
            "showbackground": true,
            "ticks": "",
            "zerolinecolor": "white"
           },
           "yaxis": {
            "backgroundcolor": "#E5ECF6",
            "gridcolor": "white",
            "gridwidth": 2,
            "linecolor": "white",
            "showbackground": true,
            "ticks": "",
            "zerolinecolor": "white"
           },
           "zaxis": {
            "backgroundcolor": "#E5ECF6",
            "gridcolor": "white",
            "gridwidth": 2,
            "linecolor": "white",
            "showbackground": true,
            "ticks": "",
            "zerolinecolor": "white"
           }
          },
          "shapedefaults": {
           "line": {
            "color": "#2a3f5f"
           }
          },
          "ternary": {
           "aaxis": {
            "gridcolor": "white",
            "linecolor": "white",
            "ticks": ""
           },
           "baxis": {
            "gridcolor": "white",
            "linecolor": "white",
            "ticks": ""
           },
           "bgcolor": "#E5ECF6",
           "caxis": {
            "gridcolor": "white",
            "linecolor": "white",
            "ticks": ""
           }
          },
          "title": {
           "x": 0.05
          },
          "xaxis": {
           "automargin": true,
           "gridcolor": "white",
           "linecolor": "white",
           "ticks": "",
           "title": {
            "standoff": 15
           },
           "zerolinecolor": "white",
           "zerolinewidth": 2
          },
          "yaxis": {
           "automargin": true,
           "gridcolor": "white",
           "linecolor": "white",
           "ticks": "",
           "title": {
            "standoff": 15
           },
           "zerolinecolor": "white",
           "zerolinewidth": 2
          }
         }
        },
        "xaxis": {
         "anchor": "y",
         "domain": [
          0,
          1
         ],
         "title": {
          "text": "LL(8)-LL(<=3)"
         }
        },
        "yaxis": {
         "anchor": "x",
         "domain": [
          0,
          1
         ],
         "title": {
          "text": "count"
         }
        }
       }
      }
     },
     "metadata": {},
     "output_type": "display_data"
    }
   ],
   "source": [
    "import plotly.express as px\n",
    "\n",
    "# compute LL_A - LL_B for validation images\n",
    "ll_diffs = []\n",
    "labels_list = []\n",
    "for true_label, h in images_histograms:\n",
    "    llA = avg_loglik(h, pmfs['8'])\n",
    "    llB = avg_loglik(h, pmfs['<=3'])\n",
    "    ll_diffs.append(llA - llB)\n",
    "    labels_list.append(true_label)\n",
    "\n",
    "fig = px.histogram(x=ll_diffs, color=labels_list, nbins=60,\n",
    "                   labels={'x':'LL(8)-LL(<=3)', 'color':'true class'})\n",
    "fig.show()"
   ]
  },
  {
   "cell_type": "code",
   "execution_count": null,
   "id": "24b01f32",
   "metadata": {},
   "outputs": [
    {
     "name": "stderr",
     "output_type": "stream",
     "text": [
      "Scoring images: 100%|██████████| 2960/2960 [00:00<00:00, 30924.82it/s]\n"
     ]
    },
    {
     "data": {
      "application/vnd.plotly.v1+json": {
       "config": {
        "plotlyServerURL": "https://plot.ly"
       },
       "data": [
        {
         "hovertemplate": "label=<=3<br>AUC=0.314<br>FPR=%{x:.3f}, TPR=%{y:.3f}<extra></extra>",
         "line": {
          "color": "#000000",
          "width": 0.8
         },
         "mode": "lines",
         "name": "<=3 (AUC=0.314)",
         "type": "scatter",
         "x": {
          "bdata": "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",
          "dtype": "f8"
         },
         "y": {
          "bdata": "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",
          "dtype": "f8"
         }
        },
        {
         "hovertemplate": "label=4<br>AUC=0.372<br>FPR=%{x:.3f}, TPR=%{y:.3f}<extra></extra>",
         "line": {
          "color": "#E69F00",
          "width": 0.8
         },
         "mode": "lines",
         "name": "4 (AUC=0.372)",
         "type": "scatter",
         "x": {
          "bdata": "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",
          "dtype": "f8"
         },
         "y": {
          "bdata": "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",
          "dtype": "f8"
         }
        },
        {
         "hovertemplate": "label=5<br>AUC=0.472<br>FPR=%{x:.3f}, TPR=%{y:.3f}<extra></extra>",
         "line": {
          "color": "#56B4E9",
          "width": 0.8
         },
         "mode": "lines",
         "name": "5 (AUC=0.472)",
         "type": "scatter",
         "x": {
          "bdata": "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",
          "dtype": "f8"
         },
         "y": {
          "bdata": "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",
          "dtype": "f8"
         }
        },
        {
         "hovertemplate": "label=6<br>AUC=0.634<br>FPR=%{x:.3f}, TPR=%{y:.3f}<extra></extra>",
         "line": {
          "color": "#009E73",
          "width": 0.8
         },
         "mode": "lines",
         "name": "6 (AUC=0.634)",
         "type": "scatter",
         "x": {
          "bdata": "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",
          "dtype": "f8"
         },
         "y": {
          "bdata": "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",
          "dtype": "f8"
         }
        },
        {
         "hovertemplate": "label=7<br>AUC=0.634<br>FPR=%{x:.3f}, TPR=%{y:.3f}<extra></extra>",
         "line": {
          "color": "#0072B2",
          "width": 0.8
         },
         "mode": "lines",
         "name": "7 (AUC=0.634)",
         "type": "scatter",
         "x": {
          "bdata": "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",
          "dtype": "f8"
         },
         "y": {
          "bdata": "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",
          "dtype": "f8"
         }
        },
        {
         "hovertemplate": "label=8<br>AUC=0.680<br>FPR=%{x:.3f}, TPR=%{y:.3f}<extra></extra>",
         "line": {
          "color": "#D55E00",
          "width": 0.8
         },
         "mode": "lines",
         "name": "8 (AUC=0.680)",
         "type": "scatter",
         "x": {
          "bdata": "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",
          "dtype": "f8"
         },
         "y": {
          "bdata": "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",
          "dtype": "f8"
         }
        },
        {
         "hoverinfo": "skip",
         "line": {
          "color": "black",
          "dash": "dash"
         },
         "mode": "lines",
         "showlegend": false,
         "type": "scatter",
         "x": [
          0,
          1
         ],
         "y": [
          0,
          1
         ]
        }
       ],
       "layout": {
        "height": 1000,
        "template": {
         "data": {
          "bar": [
           {
            "error_x": {
             "color": "#2a3f5f"
            },
            "error_y": {
             "color": "#2a3f5f"
            },
            "insidetextfont": {
             "color": "black",
             "size": 32
            },
            "marker": {
             "color": "#cac8c8",
             "line": {
              "color": "black",
              "width": 0.8
             },
             "pattern": {
              "fillmode": "overlay",
              "size": 10,
              "solidity": 0.2
             }
            },
            "opacity": 1,
            "textfont": {
             "color": "black",
             "size": 32
            },
            "textposition": "auto",
            "texttemplate": "%{y:.0f}",
            "type": "bar"
           }
          ],
          "barpolar": [
           {
            "marker": {
             "line": {
              "color": "#E5ECF6",
              "width": 0.5
             },
             "pattern": {
              "fillmode": "overlay",
              "size": 10,
              "solidity": 0.2
             }
            },
            "type": "barpolar"
           }
          ],
          "carpet": [
           {
            "aaxis": {
             "endlinecolor": "#2a3f5f",
             "gridcolor": "white",
             "linecolor": "white",
             "minorgridcolor": "white",
             "startlinecolor": "#2a3f5f"
            },
            "baxis": {
             "endlinecolor": "#2a3f5f",
             "gridcolor": "white",
             "linecolor": "white",
             "minorgridcolor": "white",
             "startlinecolor": "#2a3f5f"
            },
            "type": "carpet"
           }
          ],
          "choropleth": [
           {
            "colorbar": {
             "outlinewidth": 0,
             "ticks": ""
            },
            "type": "choropleth"
           }
          ],
          "contour": [
           {
            "colorbar": {
             "outlinewidth": 0,
             "ticks": ""
            },
            "colorscale": [
             [
              0,
              "#0d0887"
             ],
             [
              0.1111111111111111,
              "#46039f"
             ],
             [
              0.2222222222222222,
              "#7201a8"
             ],
             [
              0.3333333333333333,
              "#9c179e"
             ],
             [
              0.4444444444444444,
              "#bd3786"
             ],
             [
              0.5555555555555556,
              "#d8576b"
             ],
             [
              0.6666666666666666,
              "#ed7953"
             ],
             [
              0.7777777777777778,
              "#fb9f3a"
             ],
             [
              0.8888888888888888,
              "#fdca26"
             ],
             [
              1,
              "#f0f921"
             ]
            ],
            "type": "contour"
           }
          ],
          "contourcarpet": [
           {
            "colorbar": {
             "outlinewidth": 0,
             "ticks": ""
            },
            "type": "contourcarpet"
           }
          ],
          "heatmap": [
           {
            "colorbar": {
             "outlinewidth": 0,
             "ticks": ""
            },
            "colorscale": [
             [
              0,
              "#0d0887"
             ],
             [
              0.1111111111111111,
              "#46039f"
             ],
             [
              0.2222222222222222,
              "#7201a8"
             ],
             [
              0.3333333333333333,
              "#9c179e"
             ],
             [
              0.4444444444444444,
              "#bd3786"
             ],
             [
              0.5555555555555556,
              "#d8576b"
             ],
             [
              0.6666666666666666,
              "#ed7953"
             ],
             [
              0.7777777777777778,
              "#fb9f3a"
             ],
             [
              0.8888888888888888,
              "#fdca26"
             ],
             [
              1,
              "#f0f921"
             ]
            ],
            "type": "heatmap"
           }
          ],
          "histogram": [
           {
            "marker": {
             "pattern": {
              "fillmode": "overlay",
              "size": 10,
              "solidity": 0.2
             }
            },
            "type": "histogram"
           }
          ],
          "histogram2d": [
           {
            "colorbar": {
             "outlinewidth": 0,
             "ticks": ""
            },
            "colorscale": [
             [
              0,
              "#0d0887"
             ],
             [
              0.1111111111111111,
              "#46039f"
             ],
             [
              0.2222222222222222,
              "#7201a8"
             ],
             [
              0.3333333333333333,
              "#9c179e"
             ],
             [
              0.4444444444444444,
              "#bd3786"
             ],
             [
              0.5555555555555556,
              "#d8576b"
             ],
             [
              0.6666666666666666,
              "#ed7953"
             ],
             [
              0.7777777777777778,
              "#fb9f3a"
             ],
             [
              0.8888888888888888,
              "#fdca26"
             ],
             [
              1,
              "#f0f921"
             ]
            ],
            "type": "histogram2d"
           }
          ],
          "histogram2dcontour": [
           {
            "colorbar": {
             "outlinewidth": 0,
             "ticks": ""
            },
            "colorscale": [
             [
              0,
              "#0d0887"
             ],
             [
              0.1111111111111111,
              "#46039f"
             ],
             [
              0.2222222222222222,
              "#7201a8"
             ],
             [
              0.3333333333333333,
              "#9c179e"
             ],
             [
              0.4444444444444444,
              "#bd3786"
             ],
             [
              0.5555555555555556,
              "#d8576b"
             ],
             [
              0.6666666666666666,
              "#ed7953"
             ],
             [
              0.7777777777777778,
              "#fb9f3a"
             ],
             [
              0.8888888888888888,
              "#fdca26"
             ],
             [
              1,
              "#f0f921"
             ]
            ],
            "type": "histogram2dcontour"
           }
          ],
          "mesh3d": [
           {
            "colorbar": {
             "outlinewidth": 0,
             "ticks": ""
            },
            "type": "mesh3d"
           }
          ],
          "parcoords": [
           {
            "line": {
             "colorbar": {
              "outlinewidth": 0,
              "ticks": ""
             }
            },
            "type": "parcoords"
           }
          ],
          "pie": [
           {
            "automargin": true,
            "type": "pie"
           }
          ],
          "scatter": [
           {
            "fillpattern": {
             "fillmode": "overlay",
             "size": 10,
             "solidity": 0.2
            },
            "type": "scatter"
           }
          ],
          "scatter3d": [
           {
            "line": {
             "colorbar": {
              "outlinewidth": 0,
              "ticks": ""
             }
            },
            "marker": {
             "colorbar": {
              "outlinewidth": 0,
              "ticks": ""
             }
            },
            "type": "scatter3d"
           }
          ],
          "scattercarpet": [
           {
            "marker": {
             "colorbar": {
              "outlinewidth": 0,
              "ticks": ""
             }
            },
            "type": "scattercarpet"
           }
          ],
          "scattergeo": [
           {
            "marker": {
             "colorbar": {
              "outlinewidth": 0,
              "ticks": ""
             }
            },
            "type": "scattergeo"
           }
          ],
          "scattergl": [
           {
            "marker": {
             "colorbar": {
              "outlinewidth": 0,
              "ticks": ""
             }
            },
            "type": "scattergl"
           }
          ],
          "scattermap": [
           {
            "marker": {
             "colorbar": {
              "outlinewidth": 0,
              "ticks": ""
             }
            },
            "type": "scattermap"
           }
          ],
          "scattermapbox": [
           {
            "marker": {
             "colorbar": {
              "outlinewidth": 0,
              "ticks": ""
             }
            },
            "type": "scattermapbox"
           }
          ],
          "scatterpolar": [
           {
            "marker": {
             "colorbar": {
              "outlinewidth": 0,
              "ticks": ""
             }
            },
            "type": "scatterpolar"
           }
          ],
          "scatterpolargl": [
           {
            "marker": {
             "colorbar": {
              "outlinewidth": 0,
              "ticks": ""
             }
            },
            "type": "scatterpolargl"
           }
          ],
          "scatterternary": [
           {
            "marker": {
             "colorbar": {
              "outlinewidth": 0,
              "ticks": ""
             }
            },
            "type": "scatterternary"
           }
          ],
          "surface": [
           {
            "colorbar": {
             "outlinewidth": 0,
             "ticks": ""
            },
            "colorscale": [
             [
              0,
              "#0d0887"
             ],
             [
              0.1111111111111111,
              "#46039f"
             ],
             [
              0.2222222222222222,
              "#7201a8"
             ],
             [
              0.3333333333333333,
              "#9c179e"
             ],
             [
              0.4444444444444444,
              "#bd3786"
             ],
             [
              0.5555555555555556,
              "#d8576b"
             ],
             [
              0.6666666666666666,
              "#ed7953"
             ],
             [
              0.7777777777777778,
              "#fb9f3a"
             ],
             [
              0.8888888888888888,
              "#fdca26"
             ],
             [
              1,
              "#f0f921"
             ]
            ],
            "type": "surface"
           }
          ],
          "table": [
           {
            "cells": {
             "fill": {
              "color": "#EBF0F8"
             },
             "line": {
              "color": "white"
             }
            },
            "header": {
             "fill": {
              "color": "#C8D4E3"
             },
             "line": {
              "color": "white"
             }
            },
            "type": "table"
           }
          ]
         },
         "layout": {
          "annotationdefaults": {
           "arrowcolor": "#2a3f5f",
           "arrowhead": 0,
           "arrowwidth": 1,
           "font": {
            "color": "black",
            "size": 32
           }
          },
          "autotypenumbers": "strict",
          "barmode": "group",
          "coloraxis": {
           "colorbar": {
            "outlinewidth": 0,
            "ticks": ""
           }
          },
          "colorscale": {
           "diverging": [
            [
             0,
             "#8e0152"
            ],
            [
             0.1,
             "#c51b7d"
            ],
            [
             0.2,
             "#de77ae"
            ],
            [
             0.3,
             "#f1b6da"
            ],
            [
             0.4,
             "#fde0ef"
            ],
            [
             0.5,
             "#f7f7f7"
            ],
            [
             0.6,
             "#e6f5d0"
            ],
            [
             0.7,
             "#b8e186"
            ],
            [
             0.8,
             "#7fbc41"
            ],
            [
             0.9,
             "#4d9221"
            ],
            [
             1,
             "#276419"
            ]
           ],
           "sequential": [
            [
             0,
             "#0d0887"
            ],
            [
             0.1111111111111111,
             "#46039f"
            ],
            [
             0.2222222222222222,
             "#7201a8"
            ],
            [
             0.3333333333333333,
             "#9c179e"
            ],
            [
             0.4444444444444444,
             "#bd3786"
            ],
            [
             0.5555555555555556,
             "#d8576b"
            ],
            [
             0.6666666666666666,
             "#ed7953"
            ],
            [
             0.7777777777777778,
             "#fb9f3a"
            ],
            [
             0.8888888888888888,
             "#fdca26"
            ],
            [
             1,
             "#f0f921"
            ]
           ],
           "sequentialminus": [
            [
             0,
             "#0d0887"
            ],
            [
             0.1111111111111111,
             "#46039f"
            ],
            [
             0.2222222222222222,
             "#7201a8"
            ],
            [
             0.3333333333333333,
             "#9c179e"
            ],
            [
             0.4444444444444444,
             "#bd3786"
            ],
            [
             0.5555555555555556,
             "#d8576b"
            ],
            [
             0.6666666666666666,
             "#ed7953"
            ],
            [
             0.7777777777777778,
             "#fb9f3a"
            ],
            [
             0.8888888888888888,
             "#fdca26"
            ],
            [
             1,
             "#f0f921"
            ]
           ]
          },
          "colorway": [
           "#cac8c8",
           "#cac8c8",
           "#cac8c8",
           "#cac8c8",
           "#cac8c8",
           "#cac8c8",
           "#cac8c8",
           "#cac8c8"
          ],
          "font": {
           "color": "black",
           "family": "Arial, sans-serif",
           "size": 32
          },
          "geo": {
           "bgcolor": "white",
           "lakecolor": "white",
           "landcolor": "#E5ECF6",
           "showlakes": true,
           "showland": true,
           "subunitcolor": "white"
          },
          "hoverlabel": {
           "align": "left"
          },
          "hovermode": "closest",
          "legend": {
           "bgcolor": "rgba(0,0,0,0)",
           "bordercolor": "rgba(0,0,0,0)",
           "borderwidth": 0,
           "font": {
            "size": 32
           }
          },
          "mapbox": {
           "style": "light"
          },
          "margin": {
           "b": 36,
           "l": 60,
           "r": 20,
           "t": 42
          },
          "paper_bgcolor": "white",
          "plot_bgcolor": "white",
          "polar": {
           "angularaxis": {
            "gridcolor": "white",
            "linecolor": "white",
            "ticks": ""
           },
           "bgcolor": "#E5ECF6",
           "radialaxis": {
            "gridcolor": "white",
            "linecolor": "white",
            "ticks": ""
           }
          },
          "scene": {
           "xaxis": {
            "backgroundcolor": "#E5ECF6",
            "gridcolor": "white",
            "gridwidth": 2,
            "linecolor": "white",
            "showbackground": true,
            "ticks": "",
            "zerolinecolor": "white"
           },
           "yaxis": {
            "backgroundcolor": "#E5ECF6",
            "gridcolor": "white",
            "gridwidth": 2,
            "linecolor": "white",
            "showbackground": true,
            "ticks": "",
            "zerolinecolor": "white"
           },
           "zaxis": {
            "backgroundcolor": "#E5ECF6",
            "gridcolor": "white",
            "gridwidth": 2,
            "linecolor": "white",
            "showbackground": true,
            "ticks": "",
            "zerolinecolor": "white"
           }
          },
          "shapedefaults": {
           "line": {
            "color": "#2a3f5f"
           }
          },
          "ternary": {
           "aaxis": {
            "gridcolor": "white",
            "linecolor": "white",
            "ticks": ""
           },
           "baxis": {
            "gridcolor": "white",
            "linecolor": "white",
            "ticks": ""
           },
           "bgcolor": "#E5ECF6",
           "caxis": {
            "gridcolor": "white",
            "linecolor": "white",
            "ticks": ""
           }
          },
          "title": {
           "font": {
            "color": "black",
            "size": 32
           },
           "x": 0
          },
          "uniformtext": {
           "minsize": 32,
           "mode": "hide"
          },
          "xaxis": {
           "automargin": true,
           "gridcolor": "white",
           "linecolor": "black",
           "linewidth": 0.6,
           "mirror": true,
           "showgrid": false,
           "tickfont": {
            "size": 32
           },
           "ticks": "outside",
           "title": {
            "font": {
             "size": 32
            },
            "standoff": 6
           },
           "zeroline": false,
           "zerolinecolor": "white",
           "zerolinewidth": 2
          },
          "yaxis": {
           "automargin": true,
           "gridcolor": "#e9e9e9",
           "gridwidth": 0.5,
           "linecolor": "black",
           "linewidth": 0.6,
           "mirror": true,
           "showgrid": false,
           "tickfont": {
            "size": 32
           },
           "ticks": "outside",
           "title": {
            "font": {
             "size": 32
            },
            "standoff": 6
           },
           "zeroline": false,
           "zerolinecolor": "white",
           "zerolinewidth": 2
          }
         }
        },
        "width": 1200,
        "xaxis": {
         "title": {
          "text": "False Positive Rate"
         }
        },
        "yaxis": {
         "title": {
          "text": "True Positive Rate"
         }
        }
       }
      }
     },
     "metadata": {},
     "output_type": "display_data"
    },
    {
     "data": {
      "application/vnd.plotly.v1+json": {
       "config": {
        "plotlyServerURL": "https://plot.ly"
       },
       "data": [
        {
         "hovertemplate": "Label=%{x}<br>AUC=%{text}<extra></extra>",
         "insidetextfont": {
          "color": "black"
         },
         "legendgroup": "",
         "marker": {
          "color": "#cac8c8",
          "line": {
           "color": "black",
           "width": 0.8
          },
          "pattern": {
           "shape": ""
          }
         },
         "name": "",
         "orientation": "v",
         "showlegend": false,
         "text": {
          "bdata": "TGt69N8e1D+G/WKIsMrXP+DoJtEfPd4/KM1xet5G5D9fhS4nkkrkP9jAF1PVxeU/",
          "dtype": "f8"
         },
         "textfont": {
          "color": "black"
         },
         "textposition": "auto",
         "texttemplate": "%{text:.3f}",
         "type": "bar",
         "x": [
          "<=3",
          "4",
          "5",
          "6",
          "7",
          "8"
         ],
         "xaxis": "x",
         "y": {
          "bdata": "TGt69N8e1D+G/WKIsMrXP+DoJtEfPd4/KM1xet5G5D9fhS4nkkrkP9jAF1PVxeU/",
          "dtype": "f8"
         },
         "yaxis": "y"
        }
       ],
       "layout": {
        "annotations": [
         {
          "showarrow": false,
          "text": "random (0.5)",
          "x": 0,
          "xanchor": "left",
          "xref": "x domain",
          "y": 0.5,
          "yanchor": "bottom",
          "yref": "y"
         }
        ],
        "barmode": "relative",
        "legend": {
         "tracegroupgap": 0
        },
        "margin": {
         "t": 60
        },
        "shapes": [
         {
          "line": {
           "dash": "dash"
          },
          "type": "line",
          "x0": 0,
          "x1": 1,
          "xref": "x domain",
          "y0": 0.5,
          "y1": 0.5,
          "yref": "y"
         }
        ],
        "template": {
         "data": {
          "bar": [
           {
            "error_x": {
             "color": "#2a3f5f"
            },
            "error_y": {
             "color": "#2a3f5f"
            },
            "insidetextfont": {
             "color": "black",
             "size": 32
            },
            "marker": {
             "color": "#cac8c8",
             "line": {
              "color": "black",
              "width": 0.8
             },
             "pattern": {
              "fillmode": "overlay",
              "size": 10,
              "solidity": 0.2
             }
            },
            "opacity": 1,
            "textfont": {
             "color": "black",
             "size": 32
            },
            "textposition": "auto",
            "texttemplate": "%{y:.0f}",
            "type": "bar"
           }
          ],
          "barpolar": [
           {
            "marker": {
             "line": {
              "color": "#E5ECF6",
              "width": 0.5
             },
             "pattern": {
              "fillmode": "overlay",
              "size": 10,
              "solidity": 0.2
             }
            },
            "type": "barpolar"
           }
          ],
          "carpet": [
           {
            "aaxis": {
             "endlinecolor": "#2a3f5f",
             "gridcolor": "white",
             "linecolor": "white",
             "minorgridcolor": "white",
             "startlinecolor": "#2a3f5f"
            },
            "baxis": {
             "endlinecolor": "#2a3f5f",
             "gridcolor": "white",
             "linecolor": "white",
             "minorgridcolor": "white",
             "startlinecolor": "#2a3f5f"
            },
            "type": "carpet"
           }
          ],
          "choropleth": [
           {
            "colorbar": {
             "outlinewidth": 0,
             "ticks": ""
            },
            "type": "choropleth"
           }
          ],
          "contour": [
           {
            "colorbar": {
             "outlinewidth": 0,
             "ticks": ""
            },
            "colorscale": [
             [
              0,
              "#0d0887"
             ],
             [
              0.1111111111111111,
              "#46039f"
             ],
             [
              0.2222222222222222,
              "#7201a8"
             ],
             [
              0.3333333333333333,
              "#9c179e"
             ],
             [
              0.4444444444444444,
              "#bd3786"
             ],
             [
              0.5555555555555556,
              "#d8576b"
             ],
             [
              0.6666666666666666,
              "#ed7953"
             ],
             [
              0.7777777777777778,
              "#fb9f3a"
             ],
             [
              0.8888888888888888,
              "#fdca26"
             ],
             [
              1,
              "#f0f921"
             ]
            ],
            "type": "contour"
           }
          ],
          "contourcarpet": [
           {
            "colorbar": {
             "outlinewidth": 0,
             "ticks": ""
            },
            "type": "contourcarpet"
           }
          ],
          "heatmap": [
           {
            "colorbar": {
             "outlinewidth": 0,
             "ticks": ""
            },
            "colorscale": [
             [
              0,
              "#0d0887"
             ],
             [
              0.1111111111111111,
              "#46039f"
             ],
             [
              0.2222222222222222,
              "#7201a8"
             ],
             [
              0.3333333333333333,
              "#9c179e"
             ],
             [
              0.4444444444444444,
              "#bd3786"
             ],
             [
              0.5555555555555556,
              "#d8576b"
             ],
             [
              0.6666666666666666,
              "#ed7953"
             ],
             [
              0.7777777777777778,
              "#fb9f3a"
             ],
             [
              0.8888888888888888,
              "#fdca26"
             ],
             [
              1,
              "#f0f921"
             ]
            ],
            "type": "heatmap"
           }
          ],
          "histogram": [
           {
            "marker": {
             "pattern": {
              "fillmode": "overlay",
              "size": 10,
              "solidity": 0.2
             }
            },
            "type": "histogram"
           }
          ],
          "histogram2d": [
           {
            "colorbar": {
             "outlinewidth": 0,
             "ticks": ""
            },
            "colorscale": [
             [
              0,
              "#0d0887"
             ],
             [
              0.1111111111111111,
              "#46039f"
             ],
             [
              0.2222222222222222,
              "#7201a8"
             ],
             [
              0.3333333333333333,
              "#9c179e"
             ],
             [
              0.4444444444444444,
              "#bd3786"
             ],
             [
              0.5555555555555556,
              "#d8576b"
             ],
             [
              0.6666666666666666,
              "#ed7953"
             ],
             [
              0.7777777777777778,
              "#fb9f3a"
             ],
             [
              0.8888888888888888,
              "#fdca26"
             ],
             [
              1,
              "#f0f921"
             ]
            ],
            "type": "histogram2d"
           }
          ],
          "histogram2dcontour": [
           {
            "colorbar": {
             "outlinewidth": 0,
             "ticks": ""
            },
            "colorscale": [
             [
              0,
              "#0d0887"
             ],
             [
              0.1111111111111111,
              "#46039f"
             ],
             [
              0.2222222222222222,
              "#7201a8"
             ],
             [
              0.3333333333333333,
              "#9c179e"
             ],
             [
              0.4444444444444444,
              "#bd3786"
             ],
             [
              0.5555555555555556,
              "#d8576b"
             ],
             [
              0.6666666666666666,
              "#ed7953"
             ],
             [
              0.7777777777777778,
              "#fb9f3a"
             ],
             [
              0.8888888888888888,
              "#fdca26"
             ],
             [
              1,
              "#f0f921"
             ]
            ],
            "type": "histogram2dcontour"
           }
          ],
          "mesh3d": [
           {
            "colorbar": {
             "outlinewidth": 0,
             "ticks": ""
            },
            "type": "mesh3d"
           }
          ],
          "parcoords": [
           {
            "line": {
             "colorbar": {
              "outlinewidth": 0,
              "ticks": ""
             }
            },
            "type": "parcoords"
           }
          ],
          "pie": [
           {
            "automargin": true,
            "type": "pie"
           }
          ],
          "scatter": [
           {
            "fillpattern": {
             "fillmode": "overlay",
             "size": 10,
             "solidity": 0.2
            },
            "type": "scatter"
           }
          ],
          "scatter3d": [
           {
            "line": {
             "colorbar": {
              "outlinewidth": 0,
              "ticks": ""
             }
            },
            "marker": {
             "colorbar": {
              "outlinewidth": 0,
              "ticks": ""
             }
            },
            "type": "scatter3d"
           }
          ],
          "scattercarpet": [
           {
            "marker": {
             "colorbar": {
              "outlinewidth": 0,
              "ticks": ""
             }
            },
            "type": "scattercarpet"
           }
          ],
          "scattergeo": [
           {
            "marker": {
             "colorbar": {
              "outlinewidth": 0,
              "ticks": ""
             }
            },
            "type": "scattergeo"
           }
          ],
          "scattergl": [
           {
            "marker": {
             "colorbar": {
              "outlinewidth": 0,
              "ticks": ""
             }
            },
            "type": "scattergl"
           }
          ],
          "scattermap": [
           {
            "marker": {
             "colorbar": {
              "outlinewidth": 0,
              "ticks": ""
             }
            },
            "type": "scattermap"
           }
          ],
          "scattermapbox": [
           {
            "marker": {
             "colorbar": {
              "outlinewidth": 0,
              "ticks": ""
             }
            },
            "type": "scattermapbox"
           }
          ],
          "scatterpolar": [
           {
            "marker": {
             "colorbar": {
              "outlinewidth": 0,
              "ticks": ""
             }
            },
            "type": "scatterpolar"
           }
          ],
          "scatterpolargl": [
           {
            "marker": {
             "colorbar": {
              "outlinewidth": 0,
              "ticks": ""
             }
            },
            "type": "scatterpolargl"
           }
          ],
          "scatterternary": [
           {
            "marker": {
             "colorbar": {
              "outlinewidth": 0,
              "ticks": ""
             }
            },
            "type": "scatterternary"
           }
          ],
          "surface": [
           {
            "colorbar": {
             "outlinewidth": 0,
             "ticks": ""
            },
            "colorscale": [
             [
              0,
              "#0d0887"
             ],
             [
              0.1111111111111111,
              "#46039f"
             ],
             [
              0.2222222222222222,
              "#7201a8"
             ],
             [
              0.3333333333333333,
              "#9c179e"
             ],
             [
              0.4444444444444444,
              "#bd3786"
             ],
             [
              0.5555555555555556,
              "#d8576b"
             ],
             [
              0.6666666666666666,
              "#ed7953"
             ],
             [
              0.7777777777777778,
              "#fb9f3a"
             ],
             [
              0.8888888888888888,
              "#fdca26"
             ],
             [
              1,
              "#f0f921"
             ]
            ],
            "type": "surface"
           }
          ],
          "table": [
           {
            "cells": {
             "fill": {
              "color": "#EBF0F8"
             },
             "line": {
              "color": "white"
             }
            },
            "header": {
             "fill": {
              "color": "#C8D4E3"
             },
             "line": {
              "color": "white"
             }
            },
            "type": "table"
           }
          ]
         },
         "layout": {
          "annotationdefaults": {
           "arrowcolor": "#2a3f5f",
           "arrowhead": 0,
           "arrowwidth": 1,
           "font": {
            "color": "black",
            "size": 32
           }
          },
          "autotypenumbers": "strict",
          "barmode": "group",
          "coloraxis": {
           "colorbar": {
            "outlinewidth": 0,
            "ticks": ""
           }
          },
          "colorscale": {
           "diverging": [
            [
             0,
             "#8e0152"
            ],
            [
             0.1,
             "#c51b7d"
            ],
            [
             0.2,
             "#de77ae"
            ],
            [
             0.3,
             "#f1b6da"
            ],
            [
             0.4,
             "#fde0ef"
            ],
            [
             0.5,
             "#f7f7f7"
            ],
            [
             0.6,
             "#e6f5d0"
            ],
            [
             0.7,
             "#b8e186"
            ],
            [
             0.8,
             "#7fbc41"
            ],
            [
             0.9,
             "#4d9221"
            ],
            [
             1,
             "#276419"
            ]
           ],
           "sequential": [
            [
             0,
             "#0d0887"
            ],
            [
             0.1111111111111111,
             "#46039f"
            ],
            [
             0.2222222222222222,
             "#7201a8"
            ],
            [
             0.3333333333333333,
             "#9c179e"
            ],
            [
             0.4444444444444444,
             "#bd3786"
            ],
            [
             0.5555555555555556,
             "#d8576b"
            ],
            [
             0.6666666666666666,
             "#ed7953"
            ],
            [
             0.7777777777777778,
             "#fb9f3a"
            ],
            [
             0.8888888888888888,
             "#fdca26"
            ],
            [
             1,
             "#f0f921"
            ]
           ],
           "sequentialminus": [
            [
             0,
             "#0d0887"
            ],
            [
             0.1111111111111111,
             "#46039f"
            ],
            [
             0.2222222222222222,
             "#7201a8"
            ],
            [
             0.3333333333333333,
             "#9c179e"
            ],
            [
             0.4444444444444444,
             "#bd3786"
            ],
            [
             0.5555555555555556,
             "#d8576b"
            ],
            [
             0.6666666666666666,
             "#ed7953"
            ],
            [
             0.7777777777777778,
             "#fb9f3a"
            ],
            [
             0.8888888888888888,
             "#fdca26"
            ],
            [
             1,
             "#f0f921"
            ]
           ]
          },
          "colorway": [
           "#cac8c8",
           "#cac8c8",
           "#cac8c8",
           "#cac8c8",
           "#cac8c8",
           "#cac8c8",
           "#cac8c8",
           "#cac8c8"
          ],
          "font": {
           "color": "black",
           "family": "Arial, sans-serif",
           "size": 32
          },
          "geo": {
           "bgcolor": "white",
           "lakecolor": "white",
           "landcolor": "#E5ECF6",
           "showlakes": true,
           "showland": true,
           "subunitcolor": "white"
          },
          "hoverlabel": {
           "align": "left"
          },
          "hovermode": "closest",
          "legend": {
           "bgcolor": "rgba(0,0,0,0)",
           "bordercolor": "rgba(0,0,0,0)",
           "borderwidth": 0,
           "font": {
            "size": 32
           }
          },
          "mapbox": {
           "style": "light"
          },
          "margin": {
           "b": 36,
           "l": 60,
           "r": 20,
           "t": 42
          },
          "paper_bgcolor": "white",
          "plot_bgcolor": "white",
          "polar": {
           "angularaxis": {
            "gridcolor": "white",
            "linecolor": "white",
            "ticks": ""
           },
           "bgcolor": "#E5ECF6",
           "radialaxis": {
            "gridcolor": "white",
            "linecolor": "white",
            "ticks": ""
           }
          },
          "scene": {
           "xaxis": {
            "backgroundcolor": "#E5ECF6",
            "gridcolor": "white",
            "gridwidth": 2,
            "linecolor": "white",
            "showbackground": true,
            "ticks": "",
            "zerolinecolor": "white"
           },
           "yaxis": {
            "backgroundcolor": "#E5ECF6",
            "gridcolor": "white",
            "gridwidth": 2,
            "linecolor": "white",
            "showbackground": true,
            "ticks": "",
            "zerolinecolor": "white"
           },
           "zaxis": {
            "backgroundcolor": "#E5ECF6",
            "gridcolor": "white",
            "gridwidth": 2,
            "linecolor": "white",
            "showbackground": true,
            "ticks": "",
            "zerolinecolor": "white"
           }
          },
          "shapedefaults": {
           "line": {
            "color": "#2a3f5f"
           }
          },
          "ternary": {
           "aaxis": {
            "gridcolor": "white",
            "linecolor": "white",
            "ticks": ""
           },
           "baxis": {
            "gridcolor": "white",
            "linecolor": "white",
            "ticks": ""
           },
           "bgcolor": "#E5ECF6",
           "caxis": {
            "gridcolor": "white",
            "linecolor": "white",
            "ticks": ""
           }
          },
          "title": {
           "font": {
            "color": "black",
            "size": 32
           },
           "x": 0
          },
          "uniformtext": {
           "minsize": 32,
           "mode": "hide"
          },
          "xaxis": {
           "automargin": true,
           "gridcolor": "white",
           "linecolor": "black",
           "linewidth": 0.6,
           "mirror": true,
           "showgrid": false,
           "tickfont": {
            "size": 32
           },
           "ticks": "outside",
           "title": {
            "font": {
             "size": 32
            },
            "standoff": 6
           },
           "zeroline": false,
           "zerolinecolor": "white",
           "zerolinewidth": 2
          },
          "yaxis": {
           "automargin": true,
           "gridcolor": "#e9e9e9",
           "gridwidth": 0.5,
           "linecolor": "black",
           "linewidth": 0.6,
           "mirror": true,
           "showgrid": false,
           "tickfont": {
            "size": 32
           },
           "ticks": "outside",
           "title": {
            "font": {
             "size": 32
            },
            "standoff": 6
           },
           "zeroline": false,
           "zerolinecolor": "white",
           "zerolinewidth": 2
          }
         }
        },
        "xaxis": {
         "anchor": "y",
         "domain": [
          0,
          1
         ],
         "title": {
          "text": "Label"
         }
        },
        "yaxis": {
         "anchor": "x",
         "domain": [
          0,
          1
         ],
         "range": [
          0,
          1
         ],
         "title": {
          "text": "AUC"
         }
        }
       }
      }
     },
     "metadata": {},
     "output_type": "display_data"
    },
    {
     "name": "stdout",
     "output_type": "stream",
     "text": [
      "AUC per class:\n",
      " - <=3: 0.3144\n",
      " - 4: 0.3717\n",
      " - 5: 0.4725\n",
      " - 6: 0.6337\n",
      " - 7: 0.6341\n",
      " - 8: 0.6804\n"
     ]
    }
   ],
   "source": [
    "import numpy as np\n",
    "from sklearn.metrics import roc_curve, auc\n",
    "import plotly.graph_objects as go\n",
    "import plotly.express as px\n",
    "import pandas as pd\n",
    "from tqdm import tqdm\n",
    "\n",
    "# To subsample for speed:\n",
    "max_images_per_label = None   # e.g. 200 or None to use all\n",
    "n_bins = 200                  # number of histogram bins (tuneable)\n",
    "eps = 1e-9                    # smoothing to avoid log(0)\n",
    "# ------------------------------------------------\n",
    "\n",
    "# 1) Discover global max disparity (ignore invalid -1 values)\n",
    "all_max = 0.0\n",
    "for lab, arr in disparities_per_label_file.items():\n",
    "    # flatten and ignore negative\n",
    "    m = np.max(arr[arr >= 0]) if np.any(arr >= 0) else -1\n",
    "    if m > all_max:\n",
    "        all_max = float(m)\n",
    "if all_max <= 0:\n",
    "    raise ValueError(\"No valid disparity values found in data.\")\n",
    "bin_edges = np.linspace(0.0, all_max, n_bins + 1)\n",
    "\n",
    "# 2) Build per-image histograms and keep image-level metadata\n",
    "# We'll collect a list of tuples: (true_label, counts_vector)\n",
    "images = []\n",
    "for label, arr in disparities_per_label_file.items():\n",
    "    n_samples = arr.shape[0]\n",
    "    idxs = np.arange(n_samples)\n",
    "    if max_images_per_label is not None and n_samples > max_images_per_label:\n",
    "        # deterministic subsample: take evenly spaced indices\n",
    "        idxs = np.linspace(0, n_samples-1, max_images_per_label, dtype=int)\n",
    "    for i in idxs:\n",
    "        img = arr[i]\n",
    "        vals = img[img >= 0].ravel()   # valid pixels only\n",
    "        if vals.size == 0:\n",
    "            continue\n",
    "        counts, _ = np.histogram(vals, bins=bin_edges)\n",
    "        images.append((label, counts.astype(np.float64)))\n",
    "\n",
    "if len(images) == 0:\n",
    "    raise RuntimeError(\"No valid images (non-empty) found after preprocessing.\")\n",
    "\n",
    "labels = sorted(list(disparities_per_label_file.keys()))\n",
    "# Place \"<=3\" first if present\n",
    "if \"<=3\" in labels:\n",
    "    labels = [\"<=3\"] + [l for l in labels if l != \"<=3\"]\n",
    "label_to_index = {lab: idx for idx, lab in enumerate(labels)}\n",
    "n_labels = len(labels)\n",
    "nbins = n_bins\n",
    "\n",
    "# 3) Precompute aggregated per-class counts (sum of hist counts across images)\n",
    "agg_counts = {lab: np.zeros(nbins, dtype=np.float64) for lab in labels}\n",
    "counts_per_class = {lab: 0 for lab in labels}\n",
    "for lab, counts in images:\n",
    "    agg_counts[lab] += counts\n",
    "    counts_per_class[lab] += 1\n",
    "\n",
    "# 4) For each image compute per-class average log-likelihoods (leave-one-out for the image's class)\n",
    "# We'll collect: for each image -> dict class->score (avg log-likelihood)\n",
    "results = []  # list of (true_label, scores_array_of_length_n_labels)\n",
    "for (true_label, img_counts) in tqdm(images, desc=\"Scoring images\"):\n",
    "    total_pixels = img_counts.sum()\n",
    "    if total_pixels == 0:\n",
    "        # skip (shouldn't happen because we filtered earlier)\n",
    "        continue\n",
    "\n",
    "    # Prepare scores array\n",
    "    scores = np.zeros(n_labels, dtype=np.float64)\n",
    "\n",
    "    for j, cls in enumerate(labels):\n",
    "        # reference counts: aggregate counts for this class, but subtract this image if same class (leave-one-out)\n",
    "        ref = agg_counts[cls].copy()\n",
    "        if cls == true_label:\n",
    "            ref = ref - img_counts\n",
    "            # numeric safety: negative due to subsampling? clip\n",
    "            ref[ref < 0] = 0.0\n",
    "\n",
    "            # If this was the only image for the class, fallback to aggregated (avoid empty denominator)\n",
    "            if counts_per_class[cls] <= 1:\n",
    "                ref = agg_counts[cls].copy()\n",
    "\n",
    "        # smooth & normalise to PMF\n",
    "        ref = ref + eps\n",
    "        ref = ref / ref.sum()\n",
    "\n",
    "        # compute average log-likelihood per pixel: sum_i (count_i * log p_i) / total_pixels\n",
    "        # using counts (not normalized histogram) is OK because we divide by total_pixels\n",
    "        ll = np.sum(img_counts * np.log(ref))\n",
    "        avg_ll = ll / total_pixels\n",
    "        scores[j] = avg_ll\n",
    "\n",
    "    results.append((true_label, scores))\n",
    "\n",
    "# 5) Build y_true and y_score vectors per class to compute ROC and AUC\n",
    "auc_by_label = {}\n",
    "roc_data = {}   # label -> (fpr,tpr,auc)\n",
    "for k, cls in enumerate(labels):\n",
    "    y_true = []\n",
    "    y_score = []\n",
    "    for true_label, scores in results:\n",
    "        y_true.append(1 if true_label == cls else 0)\n",
    "        # score is average loglik for class 'cls' (higher = more likely)\n",
    "        y_score.append(float(scores[k]))\n",
    "    # compute ROC & AUC (sklearn)\n",
    "    fpr, tpr, _ = roc_curve(y_true, y_score)\n",
    "    auc_val = auc(fpr, tpr)\n",
    "    auc_by_label[cls] = float(auc_val)\n",
    "    roc_data[cls] = (fpr, tpr, auc_val)\n",
    "\n",
    "# 6) Plot ROC curves (Plotly)\n",
    "fig_roc = go.Figure()\n",
    "for cls in labels:\n",
    "    fpr, tpr, auc_val = roc_data[cls]\n",
    "    fig_roc.add_trace(go.Scatter(\n",
    "        x=fpr, y=tpr, mode='lines',\n",
    "        name=f\"{cls} (AUC={auc_val:.3f})\",\n",
    "        line=dict(color=colours.get(cls, \"#666666\"), width=thin_width),\n",
    "        hovertemplate=f\"label={cls}<br>AUC={auc_val:.3f}<br>FPR=%{{x:.3f}}, TPR=%{{y:.3f}}<extra></extra>\"\n",
    "    ))\n",
    "\n",
    "# diagonal baseline\n",
    "fig_roc.add_trace(go.Scatter(x=[0,1], y=[0,1], mode='lines',\n",
    "                             line=dict(dash='dash', color='black'),\n",
    "                             showlegend=False, hoverinfo='skip'))\n",
    "\n",
    "fig_roc.update_layout(\n",
    "                    # title=\"ROC curves (one-vs-rest) — histogram-based leave-one-out scores\",\n",
    "                      xaxis_title=\"False Positive Rate\",\n",
    "                      yaxis_title=\"True Positive Rate\",\n",
    "                      width=1_200, height=1_000,\n",
    "                    **(theme_dict if \"theme_dict\" in globals() else {})\n",
    "                      )\n",
    "fig_roc.write_image(f\"ROC curves (one-vs-rest) - histogram-based leave-one-out scores.pdf\")\n",
    "fig_roc.show()\n",
    "\n",
    "# 7) Bar chart of AUCs (Plotly)\n",
    "df_auc = pd.DataFrame(sorted(auc_by_label.items(), key=lambda kv: kv[0]), columns=[\"Label\", \"AUC\"])\n",
    "# Place \"<=3\" first if present\n",
    "if \"<=3\" in df_auc['Label'].values:\n",
    "    df_auc = pd.concat([df_auc[df_auc['Label'] == \"<=3\"],\n",
    "                        df_auc[df_auc['Label'] != \"<=3\"]], ignore_index=True)\n",
    "\n",
    "fig_bar = px.bar(df_auc, x=\"Label\", y=\"AUC\", text=\"AUC\", range_y=[0,1],\n",
    "                #  title=\"AUC per class (one-vs-rest, averaged log-likelihood scores)\"\n",
    "                 )\n",
    "fig_bar.update_traces(texttemplate='%{text:.3f}', textposition='outside')\n",
    "# add horizontal line for chance\n",
    "fig_bar.add_hline(y=0.5, line_dash=\"dash\", annotation_text=\"random (0.5)\", annotation_position=\"top left\")\n",
    "fig_bar.update_layout(\n",
    "                        # width=700, height=450,\n",
    "                        **(theme_dict if \"theme_dict\" in globals() else {})\n",
    "                        \n",
    "                        )\n",
    "fig_bar.update_traces(\n",
    "        marker=dict(color=colour, line=dict(color=\"black\", width=0.8)),\n",
    "        textfont=dict(color=\"black\"),\n",
    "        insidetextfont=dict(color=\"black\"),\n",
    "        textposition=\"auto\"\n",
    "    ) \n",
    "fig_bar.write_image(f\"AUC per class (one-vs-rest, averaged log-likelihood scores).pdf\")\n",
    "fig_bar.show()\n",
    "\n",
    "# 8) Print AUC numbers for quick reference\n",
    "print(\"AUC per class:\")\n",
    "for lab, a in df_auc.values:\n",
    "    print(f\" - {lab}: {a:.4f}\")\n"
   ]
  },
  {
   "cell_type": "code",
   "execution_count": 43,
   "id": "e9426074",
   "metadata": {},
   "outputs": [
    {
     "name": "stdout",
     "output_type": "stream",
     "text": [
      "3\n"
     ]
    }
   ],
   "source": [
    "# Define a mapping for special cases\n",
    "string_to_int = {\n",
    "    \"<=3\": 3,\n",
    "    \"4\": 4,\n",
    "    \"5\": 5,\n",
    "    \"6\": 6,\n",
    "    \"7\": 7,\n",
    "    \"8\": 8\n",
    "}\n",
    "\n",
    "# Parse the string into an integer using the mapping\n",
    "parsed_int = string_to_int.get(\"<=3\", None)\n",
    "print(parsed_int)  # Output: 3"
   ]
  },
  {
   "cell_type": "markdown",
   "id": "02b3edb1",
   "metadata": {},
   "source": [
    "----"
   ]
  },
  {
   "cell_type": "code",
   "execution_count": null,
   "id": "562edbb5",
   "metadata": {},
   "outputs": [],
   "source": [
    "order = [\"<=3\", \"4\", \"5\", \"6\", \"7\", \"8\" ]\n",
    "for label in tqdm(order, desc=\"Plotting\", unit=\" label\"):\n",
    "    hist_array = normalised_disparities_per_label_file[label]\n",
    "    # Subtract min_occurence from all values\n",
    "    if len(hist_array) == 0 or np.all(hist_array == 0):\n",
    "        print(f\"[{label}] no valid data, skipping.\")\n",
    "        continue\n",
    "    \n",
    "    mean_occurence = np.mean(hist_array)\n",
    "    # Subtract the mean occurrence from all values\n",
    "    hist_array = hist_array - mean_occurence\n",
    "    \n",
    "    # Remove negative values\n",
    "    hist_array[hist_array < 0] = 0\n",
    "\n",
    "    # Only keep values that are far enough away\n",
    "    min_dist = 0 # in mm\n",
    "    hist_array = hist_array[min_dist:]\n",
    "\n",
    "    # Plot the histogram\n",
    "    # x = disparity values, y = normalized fractions\n",
    "    x = np.arange(hist_array.shape[0])\n",
    "    y = hist_array\n",
    "\n",
    "    # Stats\n",
    "    nonzero = y > 0\n",
    "    min_val = x[nonzero].min()\n",
    "    max_val = x[nonzero].max()\n",
    "    mean = (x * y).sum() / y.sum()\n",
    "    var  = ((x - mean)**2 * y).sum() / y.sum()\n",
    "    std  = np.sqrt(var)\n",
    "\n",
    "    fig = px.bar(\n",
    "        x=x+min_dist, y=y,\n",
    "        labels={'x': 'Disparity Value', 'y': 'Fraction of Valid Pixels'},\n",
    "        title=f\"Normalised Disparity Histogram for “{label}”\"\n",
    "    )\n",
    "    fig.update_layout(yaxis=dict(range=[0, 7_000]))\n",
    "\n",
    "    # put stats below the chart\n",
    "    fig.add_annotation(\n",
    "        text=f\"Min: {min_val:.2f},  Max: {max_val:.2f},  \"\n",
    "                f\"Mean: {mean:.2f},  Std: {std:.2f}\",\n",
    "        showarrow=False,\n",
    "        x=0.5, y=-0.11,\n",
    "        xref='paper', yref='paper',\n",
    "        font=dict(size=12)\n",
    "    )\n",
    "\n",
    "    fig.show()\n",
    "    "
   ]
  },
  {
   "cell_type": "code",
   "execution_count": null,
   "id": "fe0cecdb",
   "metadata": {},
   "outputs": [],
   "source": [
    "for mask in [None]:\n",
    "    print(f\"Using mask: {mask}\")\n",
    "    disparity.disparity_depth_estimation(RECTIFIED_IMAGES, stop=10, mask=mask)"
   ]
  },
  {
   "cell_type": "code",
   "execution_count": null,
   "id": "5d05d8a1",
   "metadata": {},
   "outputs": [],
   "source": [
    "for mask in [None]:\n",
    "    print(f\"Using mask: {mask}\")\n",
    "    disparity.disparity_depth_estimation(TEST_IMAGES, stop=10, mask=mask)"
   ]
  },
  {
   "cell_type": "code",
   "execution_count": null,
   "id": "ab8c7399",
   "metadata": {},
   "outputs": [],
   "source": [
    "for threshholds in [(60, 180), (100, 200)]:\n",
    "    print(f\"Using thresholds: {threshholds}\")\n",
    "    disparity.canny_edge_detection(RECTIFIED_IMAGES, stop=4, threshholds=threshholds)"
   ]
  }
 ],
 "metadata": {
  "kernelspec": {
   "display_name": ".venv",
   "language": "python",
   "name": "python3"
  },
  "language_info": {
   "codemirror_mode": {
    "name": "ipython",
    "version": 3
   },
   "file_extension": ".py",
   "mimetype": "text/x-python",
   "name": "python",
   "nbconvert_exporter": "python",
   "pygments_lexer": "ipython3",
   "version": "3.12.2"
  }
 },
 "nbformat": 4,
 "nbformat_minor": 5
}
